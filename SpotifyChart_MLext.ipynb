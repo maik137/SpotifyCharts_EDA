{
 "cells": [
  {
   "cell_type": "markdown",
   "metadata": {},
   "source": [
    "# Machine Learning Extension from Netherlands_SpotifyChart_EDA"
   ]
  },
  {
   "cell_type": "markdown",
   "metadata": {},
   "source": [
    "__Summary of Dataset__\n",
    "1. Spotify dataset from bootcamp including the following:\n",
    "  - name (i.e. Title of song)\n",
    "  - artists\n",
    "  - popularity\n",
    "  - danceability\n",
    "  - valence\n",
    "  - energy\n",
    "  - explicit\n",
    "  - key\n",
    "  - liveness\n",
    "  - loudness\n",
    "  - speachiness\n",
    "  - tempo\n",
    "\n",
    "__Summary of Kaggle Spotify Chart Dataset__\n",
    "1. Data taken from Kaggle: https://www.kaggle.com/datasets/dhruvildave/spotify-charts\n",
    "2. CSV file includes Top 200 and Viral 50 data from 1 January 2017 till 31 July 2021\n",
    "3. Data organised into following columns:\n",
    "  - Title of song\n",
    "  - Rank of song in Top 200 or Viral 50\n",
    "  - Date\n",
    "  - Artist name\n",
    "  - URL of song\n",
    "  - Region (Country)\n",
    "  - Chart\n",
    "  - Whether the song has moved up, down etc. in chart\n",
    "  - Number of streams\n"
   ]
  },
  {
   "cell_type": "markdown",
   "metadata": {},
   "source": [
    "# 1. Load libraries and data"
   ]
  },
  {
   "cell_type": "code",
   "execution_count": 1,
   "metadata": {},
   "outputs": [
    {
     "data": {
      "text/html": [
       "        <script type=\"text/javascript\">\n",
       "        window.PlotlyConfig = {MathJaxConfig: 'local'};\n",
       "        if (window.MathJax && window.MathJax.Hub && window.MathJax.Hub.Config) {window.MathJax.Hub.Config({SVG: {font: \"STIX-Web\"}});}\n",
       "        if (typeof require !== 'undefined') {\n",
       "        require.undef(\"plotly\");\n",
       "        requirejs.config({\n",
       "            paths: {\n",
       "                'plotly': ['https://cdn.plot.ly/plotly-2.12.1.min']\n",
       "            }\n",
       "        });\n",
       "        require(['plotly'], function(Plotly) {\n",
       "            window._Plotly = Plotly;\n",
       "        });\n",
       "        }\n",
       "        </script>\n",
       "        "
      ]
     },
     "metadata": {},
     "output_type": "display_data"
    },
    {
     "data": {
      "text/html": [
       "        <script type=\"text/javascript\">\n",
       "        window.PlotlyConfig = {MathJaxConfig: 'local'};\n",
       "        if (window.MathJax && window.MathJax.Hub && window.MathJax.Hub.Config) {window.MathJax.Hub.Config({SVG: {font: \"STIX-Web\"}});}\n",
       "        if (typeof require !== 'undefined') {\n",
       "        require.undef(\"plotly\");\n",
       "        requirejs.config({\n",
       "            paths: {\n",
       "                'plotly': ['https://cdn.plot.ly/plotly-2.12.1.min']\n",
       "            }\n",
       "        });\n",
       "        require(['plotly'], function(Plotly) {\n",
       "            window._Plotly = Plotly;\n",
       "        });\n",
       "        }\n",
       "        </script>\n",
       "        "
      ]
     },
     "metadata": {},
     "output_type": "display_data"
    }
   ],
   "source": [
    "# Data Manipulation\n",
    "import numpy as np\n",
    "import pandas as pd\n",
    "\n",
    "# Data Visualization\n",
    "import matplotlib.pyplot as plt\n",
    "import seaborn as sns\n",
    "\n",
    "from wordcloud import WordCloud\n",
    "from PIL import Image\n",
    "import cufflinks as cf\n",
    "from plotly.offline import plot, iplot, init_notebook_mode\n",
    "init_notebook_mode(connected=True)\n",
    "cf.go_offline()\n",
    "\n",
    "import matplotlib.dates as mdates\n",
    "\n",
    "# Text Decoding\n",
    "from unidecode import unidecode\n",
    "\n",
    "# Pipeline and Column Transformers\n",
    "from sklearn.pipeline import Pipeline\n",
    "from sklearn.compose import ColumnTransformer, make_column_selector\n",
    "from sklearn import set_config\n",
    "set_config(display = \"diagram\")\n",
    "\n",
    "# Scaling\n",
    "from sklearn.preprocessing import RobustScaler, StandardScaler, MinMaxScaler\n",
    "\n",
    "# Cross Validation\n",
    "from sklearn.model_selection import cross_validate\n",
    "from sklearn.model_selection import cross_val_predict\n",
    "\n",
    "# Unsupervised Learning\n",
    "from sklearn.decomposition import PCA\n",
    "from sklearn.cluster import KMeans \n",
    "\n",
    "# STATISTICS\n",
    "from statsmodels.graphics.gofplots import qqplot\n",
    "# This function plots sample against a Normal distribution, \n",
    "# to see whether sample is normally distributed or not"
   ]
  },
  {
   "cell_type": "code",
   "execution_count": 2,
   "metadata": {},
   "outputs": [
    {
     "data": {
      "text/html": [
       "<div>\n",
       "<style scoped>\n",
       "    .dataframe tbody tr th:only-of-type {\n",
       "        vertical-align: middle;\n",
       "    }\n",
       "\n",
       "    .dataframe tbody tr th {\n",
       "        vertical-align: top;\n",
       "    }\n",
       "\n",
       "    .dataframe thead th {\n",
       "        text-align: right;\n",
       "    }\n",
       "</style>\n",
       "<table border=\"1\" class=\"dataframe\">\n",
       "  <thead>\n",
       "    <tr style=\"text-align: right;\">\n",
       "      <th></th>\n",
       "      <th>name</th>\n",
       "      <th>artists</th>\n",
       "      <th>popularity</th>\n",
       "      <th>danceability</th>\n",
       "      <th>valence</th>\n",
       "      <th>energy</th>\n",
       "      <th>explicit</th>\n",
       "      <th>key</th>\n",
       "      <th>liveness</th>\n",
       "      <th>loudness</th>\n",
       "      <th>speechiness</th>\n",
       "      <th>tempo</th>\n",
       "    </tr>\n",
       "  </thead>\n",
       "  <tbody>\n",
       "    <tr>\n",
       "      <th>8038</th>\n",
       "      <td>We Move Lightly</td>\n",
       "      <td>[\"Dustin O'Halloran\"]</td>\n",
       "      <td>49</td>\n",
       "      <td>0.179</td>\n",
       "      <td>0.0575</td>\n",
       "      <td>0.133</td>\n",
       "      <td>0</td>\n",
       "      <td>5</td>\n",
       "      <td>0.0712</td>\n",
       "      <td>-17.889</td>\n",
       "      <td>0.0419</td>\n",
       "      <td>150.286</td>\n",
       "    </tr>\n",
       "    <tr>\n",
       "      <th>3057</th>\n",
       "      <td>Tearing Us Apart</td>\n",
       "      <td>['Eric Clapton']</td>\n",
       "      <td>29</td>\n",
       "      <td>0.758</td>\n",
       "      <td>0.9670</td>\n",
       "      <td>0.939</td>\n",
       "      <td>0</td>\n",
       "      <td>7</td>\n",
       "      <td>0.3000</td>\n",
       "      <td>-4.485</td>\n",
       "      <td>0.0323</td>\n",
       "      <td>121.652</td>\n",
       "    </tr>\n",
       "    <tr>\n",
       "      <th>4129</th>\n",
       "      <td>Y Si Lloro Que</td>\n",
       "      <td>['Viento Y Sol']</td>\n",
       "      <td>31</td>\n",
       "      <td>0.458</td>\n",
       "      <td>0.6590</td>\n",
       "      <td>0.613</td>\n",
       "      <td>0</td>\n",
       "      <td>2</td>\n",
       "      <td>0.3150</td>\n",
       "      <td>-8.053</td>\n",
       "      <td>0.0376</td>\n",
       "      <td>79.216</td>\n",
       "    </tr>\n",
       "    <tr>\n",
       "      <th>3053</th>\n",
       "      <td>Fire in the Rain</td>\n",
       "      <td>['Agent Orange']</td>\n",
       "      <td>24</td>\n",
       "      <td>0.324</td>\n",
       "      <td>0.4570</td>\n",
       "      <td>0.735</td>\n",
       "      <td>0</td>\n",
       "      <td>9</td>\n",
       "      <td>0.1090</td>\n",
       "      <td>-12.657</td>\n",
       "      <td>0.0566</td>\n",
       "      <td>83.311</td>\n",
       "    </tr>\n",
       "    <tr>\n",
       "      <th>2611</th>\n",
       "      <td>Dance All Over Your Face</td>\n",
       "      <td>['KISS']</td>\n",
       "      <td>26</td>\n",
       "      <td>0.580</td>\n",
       "      <td>0.7250</td>\n",
       "      <td>0.863</td>\n",
       "      <td>0</td>\n",
       "      <td>2</td>\n",
       "      <td>0.4490</td>\n",
       "      <td>-7.306</td>\n",
       "      <td>0.0300</td>\n",
       "      <td>90.152</td>\n",
       "    </tr>\n",
       "    <tr>\n",
       "      <th>1093</th>\n",
       "      <td>ブルー・スター</td>\n",
       "      <td>['セキトオ・シゲオ']</td>\n",
       "      <td>24</td>\n",
       "      <td>0.205</td>\n",
       "      <td>0.0389</td>\n",
       "      <td>0.224</td>\n",
       "      <td>0</td>\n",
       "      <td>3</td>\n",
       "      <td>0.1150</td>\n",
       "      <td>-10.754</td>\n",
       "      <td>0.0333</td>\n",
       "      <td>101.536</td>\n",
       "    </tr>\n",
       "    <tr>\n",
       "      <th>5378</th>\n",
       "      <td>A Esa Gran Velocidad</td>\n",
       "      <td>['El Haragán y Compañía']</td>\n",
       "      <td>44</td>\n",
       "      <td>0.465</td>\n",
       "      <td>0.4180</td>\n",
       "      <td>0.378</td>\n",
       "      <td>0</td>\n",
       "      <td>9</td>\n",
       "      <td>0.0650</td>\n",
       "      <td>-6.923</td>\n",
       "      <td>0.0274</td>\n",
       "      <td>80.555</td>\n",
       "    </tr>\n",
       "    <tr>\n",
       "      <th>7649</th>\n",
       "      <td>你瞞我瞞</td>\n",
       "      <td>['Jason Chan']</td>\n",
       "      <td>56</td>\n",
       "      <td>0.650</td>\n",
       "      <td>0.4030</td>\n",
       "      <td>0.425</td>\n",
       "      <td>0</td>\n",
       "      <td>9</td>\n",
       "      <td>0.1200</td>\n",
       "      <td>-7.816</td>\n",
       "      <td>0.0266</td>\n",
       "      <td>75.988</td>\n",
       "    </tr>\n",
       "    <tr>\n",
       "      <th>6440</th>\n",
       "      <td>They Perched On Their Stilts, Pointing And Dar...</td>\n",
       "      <td>['Saosin']</td>\n",
       "      <td>38</td>\n",
       "      <td>0.441</td>\n",
       "      <td>0.3880</td>\n",
       "      <td>0.949</td>\n",
       "      <td>0</td>\n",
       "      <td>4</td>\n",
       "      <td>0.2710</td>\n",
       "      <td>-4.408</td>\n",
       "      <td>0.0568</td>\n",
       "      <td>145.058</td>\n",
       "    </tr>\n",
       "    <tr>\n",
       "      <th>6817</th>\n",
       "      <td>Searchin'</td>\n",
       "      <td>['The Coasters']</td>\n",
       "      <td>41</td>\n",
       "      <td>0.776</td>\n",
       "      <td>0.9240</td>\n",
       "      <td>0.495</td>\n",
       "      <td>0</td>\n",
       "      <td>8</td>\n",
       "      <td>0.1960</td>\n",
       "      <td>-13.861</td>\n",
       "      <td>0.0503</td>\n",
       "      <td>73.282</td>\n",
       "    </tr>\n",
       "  </tbody>\n",
       "</table>\n",
       "</div>"
      ],
      "text/plain": [
       "                                                   name  \\\n",
       "8038                                    We Move Lightly   \n",
       "3057                                   Tearing Us Apart   \n",
       "4129                                     Y Si Lloro Que   \n",
       "3053                                   Fire in the Rain   \n",
       "2611                           Dance All Over Your Face   \n",
       "1093                                            ブルー・スター   \n",
       "5378                               A Esa Gran Velocidad   \n",
       "7649                                               你瞞我瞞   \n",
       "6440  They Perched On Their Stilts, Pointing And Dar...   \n",
       "6817                                          Searchin'   \n",
       "\n",
       "                        artists  popularity  danceability  valence  energy  \\\n",
       "8038      [\"Dustin O'Halloran\"]          49         0.179   0.0575   0.133   \n",
       "3057           ['Eric Clapton']          29         0.758   0.9670   0.939   \n",
       "4129           ['Viento Y Sol']          31         0.458   0.6590   0.613   \n",
       "3053           ['Agent Orange']          24         0.324   0.4570   0.735   \n",
       "2611                   ['KISS']          26         0.580   0.7250   0.863   \n",
       "1093               ['セキトオ・シゲオ']          24         0.205   0.0389   0.224   \n",
       "5378  ['El Haragán y Compañía']          44         0.465   0.4180   0.378   \n",
       "7649             ['Jason Chan']          56         0.650   0.4030   0.425   \n",
       "6440                 ['Saosin']          38         0.441   0.3880   0.949   \n",
       "6817           ['The Coasters']          41         0.776   0.9240   0.495   \n",
       "\n",
       "      explicit  key  liveness  loudness  speechiness    tempo  \n",
       "8038         0    5    0.0712   -17.889       0.0419  150.286  \n",
       "3057         0    7    0.3000    -4.485       0.0323  121.652  \n",
       "4129         0    2    0.3150    -8.053       0.0376   79.216  \n",
       "3053         0    9    0.1090   -12.657       0.0566   83.311  \n",
       "2611         0    2    0.4490    -7.306       0.0300   90.152  \n",
       "1093         0    3    0.1150   -10.754       0.0333  101.536  \n",
       "5378         0    9    0.0650    -6.923       0.0274   80.555  \n",
       "7649         0    9    0.1200    -7.816       0.0266   75.988  \n",
       "6440         0    4    0.2710    -4.408       0.0568  145.058  \n",
       "6817         0    8    0.1960   -13.861       0.0503   73.282  "
      ]
     },
     "execution_count": 2,
     "metadata": {},
     "output_type": "execute_result"
    }
   ],
   "source": [
    "# Loading of 10,000 songs and their characteristics\n",
    "spotify = pd.read_csv('data/ML_spotify_data.csv')\n",
    "spotify.sample(10)"
   ]
  },
  {
   "cell_type": "code",
   "execution_count": 3,
   "metadata": {},
   "outputs": [
    {
     "data": {
      "text/html": [
       "<div>\n",
       "<style scoped>\n",
       "    .dataframe tbody tr th:only-of-type {\n",
       "        vertical-align: middle;\n",
       "    }\n",
       "\n",
       "    .dataframe tbody tr th {\n",
       "        vertical-align: top;\n",
       "    }\n",
       "\n",
       "    .dataframe thead th {\n",
       "        text-align: right;\n",
       "    }\n",
       "</style>\n",
       "<table border=\"1\" class=\"dataframe\">\n",
       "  <thead>\n",
       "    <tr style=\"text-align: right;\">\n",
       "      <th></th>\n",
       "      <th>title</th>\n",
       "      <th>rank</th>\n",
       "      <th>date</th>\n",
       "      <th>artist</th>\n",
       "      <th>region</th>\n",
       "      <th>chart</th>\n",
       "      <th>streams</th>\n",
       "    </tr>\n",
       "  </thead>\n",
       "  <tbody>\n",
       "    <tr>\n",
       "      <th>0</th>\n",
       "      <td>Chantaje (feat. Maluma)</td>\n",
       "      <td>1</td>\n",
       "      <td>2017-01-01</td>\n",
       "      <td>Shakira</td>\n",
       "      <td>Argentina</td>\n",
       "      <td>top200</td>\n",
       "      <td>253019.0</td>\n",
       "    </tr>\n",
       "    <tr>\n",
       "      <th>1</th>\n",
       "      <td>Vente Pa' Ca (feat. Maluma)</td>\n",
       "      <td>2</td>\n",
       "      <td>2017-01-01</td>\n",
       "      <td>Ricky Martin</td>\n",
       "      <td>Argentina</td>\n",
       "      <td>top200</td>\n",
       "      <td>223988.0</td>\n",
       "    </tr>\n",
       "    <tr>\n",
       "      <th>2</th>\n",
       "      <td>Reggaetón Lento (Bailemos)</td>\n",
       "      <td>3</td>\n",
       "      <td>2017-01-01</td>\n",
       "      <td>CNCO</td>\n",
       "      <td>Argentina</td>\n",
       "      <td>top200</td>\n",
       "      <td>210943.0</td>\n",
       "    </tr>\n",
       "    <tr>\n",
       "      <th>3</th>\n",
       "      <td>Safari</td>\n",
       "      <td>4</td>\n",
       "      <td>2017-01-01</td>\n",
       "      <td>J Balvin, Pharrell Williams, BIA, Sky</td>\n",
       "      <td>Argentina</td>\n",
       "      <td>top200</td>\n",
       "      <td>173865.0</td>\n",
       "    </tr>\n",
       "    <tr>\n",
       "      <th>4</th>\n",
       "      <td>Shaky Shaky</td>\n",
       "      <td>5</td>\n",
       "      <td>2017-01-01</td>\n",
       "      <td>Daddy Yankee</td>\n",
       "      <td>Argentina</td>\n",
       "      <td>top200</td>\n",
       "      <td>153956.0</td>\n",
       "    </tr>\n",
       "  </tbody>\n",
       "</table>\n",
       "</div>"
      ],
      "text/plain": [
       "                         title  rank        date  \\\n",
       "0      Chantaje (feat. Maluma)     1  2017-01-01   \n",
       "1  Vente Pa' Ca (feat. Maluma)     2  2017-01-01   \n",
       "2   Reggaetón Lento (Bailemos)     3  2017-01-01   \n",
       "3                       Safari     4  2017-01-01   \n",
       "4                  Shaky Shaky     5  2017-01-01   \n",
       "\n",
       "                                  artist     region   chart   streams  \n",
       "0                                Shakira  Argentina  top200  253019.0  \n",
       "1                           Ricky Martin  Argentina  top200  223988.0  \n",
       "2                                   CNCO  Argentina  top200  210943.0  \n",
       "3  J Balvin, Pharrell Williams, BIA, Sky  Argentina  top200  173865.0  \n",
       "4                           Daddy Yankee  Argentina  top200  153956.0  "
      ]
     },
     "execution_count": 3,
     "metadata": {},
     "output_type": "execute_result"
    }
   ],
   "source": [
    "# Loading the Top 200 and Viral 50 Spotify Charts across the role from 2017 to 2021\n",
    "cols_int = ['title','rank','date','artist','region','chart','streams']\n",
    "\n",
    "chart = pd.read_csv('data/charts.csv',usecols=cols_int)\n",
    "chart.head()"
   ]
  },
  {
   "cell_type": "code",
   "execution_count": 6,
   "metadata": {},
   "outputs": [
    {
     "name": "stdout",
     "output_type": "stream",
     "text": [
      "<class 'pandas.core.frame.DataFrame'>\n",
      "RangeIndex: 10000 entries, 0 to 9999\n",
      "Data columns (total 12 columns):\n",
      " #   Column        Non-Null Count  Dtype  \n",
      "---  ------        --------------  -----  \n",
      " 0   title         10000 non-null  object \n",
      " 1   artist        10000 non-null  object \n",
      " 2   popularity    10000 non-null  int64  \n",
      " 3   danceability  10000 non-null  float64\n",
      " 4   valence       10000 non-null  float64\n",
      " 5   energy        10000 non-null  float64\n",
      " 6   explicit      10000 non-null  int64  \n",
      " 7   key           10000 non-null  int64  \n",
      " 8   liveness      10000 non-null  float64\n",
      " 9   loudness      10000 non-null  float64\n",
      " 10  speechiness   10000 non-null  float64\n",
      " 11  tempo         10000 non-null  float64\n",
      "dtypes: float64(7), int64(3), object(2)\n",
      "memory usage: 937.6+ KB\n"
     ]
    }
   ],
   "source": [
    "spotify.info()"
   ]
  },
  {
   "cell_type": "code",
   "execution_count": 7,
   "metadata": {},
   "outputs": [
    {
     "name": "stdout",
     "output_type": "stream",
     "text": [
      "<class 'pandas.core.frame.DataFrame'>\n",
      "RangeIndex: 26173514 entries, 0 to 26173513\n",
      "Data columns (total 7 columns):\n",
      " #   Column   Dtype  \n",
      "---  ------   -----  \n",
      " 0   title    object \n",
      " 1   rank     int64  \n",
      " 2   date     object \n",
      " 3   artist   object \n",
      " 4   region   object \n",
      " 5   chart    object \n",
      " 6   streams  float64\n",
      "dtypes: float64(1), int64(1), object(5)\n",
      "memory usage: 1.4+ GB\n"
     ]
    }
   ],
   "source": [
    "chart.info()"
   ]
  },
  {
   "cell_type": "markdown",
   "metadata": {},
   "source": [
    "# 2. Clean data"
   ]
  },
  {
   "cell_type": "code",
   "execution_count": 4,
   "metadata": {},
   "outputs": [
    {
     "data": {
      "text/html": [
       "<div>\n",
       "<style scoped>\n",
       "    .dataframe tbody tr th:only-of-type {\n",
       "        vertical-align: middle;\n",
       "    }\n",
       "\n",
       "    .dataframe tbody tr th {\n",
       "        vertical-align: top;\n",
       "    }\n",
       "\n",
       "    .dataframe thead th {\n",
       "        text-align: right;\n",
       "    }\n",
       "</style>\n",
       "<table border=\"1\" class=\"dataframe\">\n",
       "  <thead>\n",
       "    <tr style=\"text-align: right;\">\n",
       "      <th></th>\n",
       "      <th>title</th>\n",
       "      <th>artist</th>\n",
       "      <th>popularity</th>\n",
       "      <th>danceability</th>\n",
       "      <th>valence</th>\n",
       "      <th>energy</th>\n",
       "      <th>explicit</th>\n",
       "      <th>key</th>\n",
       "      <th>liveness</th>\n",
       "      <th>loudness</th>\n",
       "      <th>speechiness</th>\n",
       "      <th>tempo</th>\n",
       "    </tr>\n",
       "  </thead>\n",
       "  <tbody>\n",
       "    <tr>\n",
       "      <th>0</th>\n",
       "      <td>We're For The Dark - Remastered 2010</td>\n",
       "      <td>['Badfinger']</td>\n",
       "      <td>22</td>\n",
       "      <td>0.678</td>\n",
       "      <td>0.559</td>\n",
       "      <td>0.432</td>\n",
       "      <td>0</td>\n",
       "      <td>3</td>\n",
       "      <td>0.0727</td>\n",
       "      <td>-12.696</td>\n",
       "      <td>0.0334</td>\n",
       "      <td>117.674</td>\n",
       "    </tr>\n",
       "    <tr>\n",
       "      <th>1</th>\n",
       "      <td>Sixty Years On - Piano Demo</td>\n",
       "      <td>['Elton John']</td>\n",
       "      <td>25</td>\n",
       "      <td>0.456</td>\n",
       "      <td>0.259</td>\n",
       "      <td>0.368</td>\n",
       "      <td>0</td>\n",
       "      <td>6</td>\n",
       "      <td>0.1560</td>\n",
       "      <td>-10.692</td>\n",
       "      <td>0.0280</td>\n",
       "      <td>143.783</td>\n",
       "    </tr>\n",
       "  </tbody>\n",
       "</table>\n",
       "</div>"
      ],
      "text/plain": [
       "                                  title          artist  popularity  \\\n",
       "0  We're For The Dark - Remastered 2010   ['Badfinger']          22   \n",
       "1           Sixty Years On - Piano Demo  ['Elton John']          25   \n",
       "\n",
       "   danceability  valence  energy  explicit  key  liveness  loudness  \\\n",
       "0         0.678    0.559   0.432         0    3    0.0727   -12.696   \n",
       "1         0.456    0.259   0.368         0    6    0.1560   -10.692   \n",
       "\n",
       "   speechiness    tempo  \n",
       "0       0.0334  117.674  \n",
       "1       0.0280  143.783  "
      ]
     },
     "execution_count": 4,
     "metadata": {},
     "output_type": "execute_result"
    }
   ],
   "source": [
    "# Making the spotify df more compatible with the chart df by changing column names for artist and title of song\n",
    "spotify = spotify.rename(columns={'name': 'title', 'artists': 'artist'})\n",
    "spotify.head(2)"
   ]
  },
  {
   "cell_type": "code",
   "execution_count": 8,
   "metadata": {},
   "outputs": [
    {
     "name": "stdout",
     "output_type": "stream",
     "text": [
      "<class 'str'>\n"
     ]
    }
   ],
   "source": [
    "print(type(spotify.loc[1,'artist']))"
   ]
  },
  {
   "cell_type": "code",
   "execution_count": 10,
   "metadata": {},
   "outputs": [
    {
     "data": {
      "text/html": [
       "<div>\n",
       "<style scoped>\n",
       "    .dataframe tbody tr th:only-of-type {\n",
       "        vertical-align: middle;\n",
       "    }\n",
       "\n",
       "    .dataframe tbody tr th {\n",
       "        vertical-align: top;\n",
       "    }\n",
       "\n",
       "    .dataframe thead th {\n",
       "        text-align: right;\n",
       "    }\n",
       "</style>\n",
       "<table border=\"1\" class=\"dataframe\">\n",
       "  <thead>\n",
       "    <tr style=\"text-align: right;\">\n",
       "      <th></th>\n",
       "      <th>title</th>\n",
       "      <th>artist</th>\n",
       "      <th>popularity</th>\n",
       "      <th>danceability</th>\n",
       "      <th>valence</th>\n",
       "      <th>energy</th>\n",
       "      <th>explicit</th>\n",
       "      <th>key</th>\n",
       "      <th>liveness</th>\n",
       "      <th>loudness</th>\n",
       "      <th>speechiness</th>\n",
       "      <th>tempo</th>\n",
       "    </tr>\n",
       "  </thead>\n",
       "  <tbody>\n",
       "    <tr>\n",
       "      <th>8893</th>\n",
       "      <td>Battle Against A True Hero</td>\n",
       "      <td>Toby Fox</td>\n",
       "      <td>55</td>\n",
       "      <td>0.456</td>\n",
       "      <td>0.734</td>\n",
       "      <td>0.955</td>\n",
       "      <td>0</td>\n",
       "      <td>5</td>\n",
       "      <td>0.1490</td>\n",
       "      <td>-10.112</td>\n",
       "      <td>0.0394</td>\n",
       "      <td>150.114</td>\n",
       "    </tr>\n",
       "    <tr>\n",
       "      <th>6488</th>\n",
       "      <td>Heart Of A Woman</td>\n",
       "      <td>R. Kelly</td>\n",
       "      <td>37</td>\n",
       "      <td>0.613</td>\n",
       "      <td>0.623</td>\n",
       "      <td>0.466</td>\n",
       "      <td>0</td>\n",
       "      <td>7</td>\n",
       "      <td>0.1600</td>\n",
       "      <td>-6.146</td>\n",
       "      <td>0.0372</td>\n",
       "      <td>122.043</td>\n",
       "    </tr>\n",
       "    <tr>\n",
       "      <th>4506</th>\n",
       "      <td>Leave That Thing Alone - 2004 Remaster</td>\n",
       "      <td>Rush</td>\n",
       "      <td>34</td>\n",
       "      <td>0.489</td>\n",
       "      <td>0.674</td>\n",
       "      <td>0.954</td>\n",
       "      <td>0</td>\n",
       "      <td>9</td>\n",
       "      <td>0.3320</td>\n",
       "      <td>-7.025</td>\n",
       "      <td>0.0525</td>\n",
       "      <td>119.976</td>\n",
       "    </tr>\n",
       "    <tr>\n",
       "      <th>9691</th>\n",
       "      <td>Shiesty Summer</td>\n",
       "      <td>Pooh Shiesty</td>\n",
       "      <td>57</td>\n",
       "      <td>0.827</td>\n",
       "      <td>0.651</td>\n",
       "      <td>0.582</td>\n",
       "      <td>1</td>\n",
       "      <td>1</td>\n",
       "      <td>0.0906</td>\n",
       "      <td>-6.896</td>\n",
       "      <td>0.2290</td>\n",
       "      <td>140.000</td>\n",
       "    </tr>\n",
       "    <tr>\n",
       "      <th>7041</th>\n",
       "      <td>The Total Experience</td>\n",
       "      <td>Boney James, George Duke</td>\n",
       "      <td>41</td>\n",
       "      <td>0.562</td>\n",
       "      <td>0.518</td>\n",
       "      <td>0.765</td>\n",
       "      <td>0</td>\n",
       "      <td>0</td>\n",
       "      <td>0.1080</td>\n",
       "      <td>-6.031</td>\n",
       "      <td>0.0372</td>\n",
       "      <td>99.987</td>\n",
       "    </tr>\n",
       "  </tbody>\n",
       "</table>\n",
       "</div>"
      ],
      "text/plain": [
       "                                       title                    artist  \\\n",
       "8893              Battle Against A True Hero                  Toby Fox   \n",
       "6488                        Heart Of A Woman                  R. Kelly   \n",
       "4506  Leave That Thing Alone - 2004 Remaster                      Rush   \n",
       "9691                          Shiesty Summer              Pooh Shiesty   \n",
       "7041                    The Total Experience  Boney James, George Duke   \n",
       "\n",
       "      popularity  danceability  valence  energy  explicit  key  liveness  \\\n",
       "8893          55         0.456    0.734   0.955         0    5    0.1490   \n",
       "6488          37         0.613    0.623   0.466         0    7    0.1600   \n",
       "4506          34         0.489    0.674   0.954         0    9    0.3320   \n",
       "9691          57         0.827    0.651   0.582         1    1    0.0906   \n",
       "7041          41         0.562    0.518   0.765         0    0    0.1080   \n",
       "\n",
       "      loudness  speechiness    tempo  \n",
       "8893   -10.112       0.0394  150.114  \n",
       "6488    -6.146       0.0372  122.043  \n",
       "4506    -7.025       0.0525  119.976  \n",
       "9691    -6.896       0.2290  140.000  \n",
       "7041    -6.031       0.0372   99.987  "
      ]
     },
     "execution_count": 10,
     "metadata": {},
     "output_type": "execute_result"
    }
   ],
   "source": [
    "# Getting rid of brackets and single quotes so that they are the same in both dfs\n",
    "songs = spotify.copy()\n",
    "\n",
    "songs['artist'] = songs['artist'].str.strip(\"[]\").str.replace(\"'\", \"\")\n",
    "\n",
    "songs.sample(5)"
   ]
  },
  {
   "cell_type": "code",
   "execution_count": 18,
   "metadata": {},
   "outputs": [],
   "source": [
    "# Creating a function where you decode if the instance is a string\n",
    "\n",
    "def unidecode_str(words):\n",
    "\n",
    "    if isinstance(words, str):\n",
    "        return unidecode(words)\n",
    "    \n",
    "    return words"
   ]
  },
  {
   "cell_type": "code",
   "execution_count": 19,
   "metadata": {},
   "outputs": [],
   "source": [
    "# Decoding the title and artist columns \n",
    "songs[['title','artist']] = songs[['title','artist']].applymap(unidecode_str)\n",
    "chart[['title','artist']] = chart[['title','artist']].applymap(unidecode_str)"
   ]
  },
  {
   "cell_type": "code",
   "execution_count": 20,
   "metadata": {},
   "outputs": [],
   "source": [
    "# Merging the 2 dfs based on title and artist\n",
    "merged = pd.merge(chart, songs, on=['title', 'artist'])"
   ]
  },
  {
   "cell_type": "code",
   "execution_count": 21,
   "metadata": {},
   "outputs": [
    {
     "data": {
      "text/html": [
       "<div>\n",
       "<style scoped>\n",
       "    .dataframe tbody tr th:only-of-type {\n",
       "        vertical-align: middle;\n",
       "    }\n",
       "\n",
       "    .dataframe tbody tr th {\n",
       "        vertical-align: top;\n",
       "    }\n",
       "\n",
       "    .dataframe thead th {\n",
       "        text-align: right;\n",
       "    }\n",
       "</style>\n",
       "<table border=\"1\" class=\"dataframe\">\n",
       "  <thead>\n",
       "    <tr style=\"text-align: right;\">\n",
       "      <th></th>\n",
       "      <th>title</th>\n",
       "      <th>rank</th>\n",
       "      <th>date</th>\n",
       "      <th>artist</th>\n",
       "      <th>region</th>\n",
       "      <th>chart</th>\n",
       "      <th>streams</th>\n",
       "      <th>popularity</th>\n",
       "      <th>danceability</th>\n",
       "      <th>valence</th>\n",
       "      <th>energy</th>\n",
       "      <th>explicit</th>\n",
       "      <th>key</th>\n",
       "      <th>liveness</th>\n",
       "      <th>loudness</th>\n",
       "      <th>speechiness</th>\n",
       "      <th>tempo</th>\n",
       "    </tr>\n",
       "  </thead>\n",
       "  <tbody>\n",
       "    <tr>\n",
       "      <th>367501</th>\n",
       "      <td>On A Roll</td>\n",
       "      <td>15</td>\n",
       "      <td>2019-07-22</td>\n",
       "      <td>Ashley O</td>\n",
       "      <td>El Salvador</td>\n",
       "      <td>viral50</td>\n",
       "      <td>NaN</td>\n",
       "      <td>64</td>\n",
       "      <td>0.737</td>\n",
       "      <td>0.387</td>\n",
       "      <td>0.810</td>\n",
       "      <td>0</td>\n",
       "      <td>5</td>\n",
       "      <td>0.0523</td>\n",
       "      <td>-6.354</td>\n",
       "      <td>0.0896</td>\n",
       "      <td>125.005</td>\n",
       "    </tr>\n",
       "    <tr>\n",
       "      <th>202682</th>\n",
       "      <td>Se Me Olvido</td>\n",
       "      <td>20</td>\n",
       "      <td>2020-03-17</td>\n",
       "      <td>Christian Nodal</td>\n",
       "      <td>Bolivia</td>\n",
       "      <td>top200</td>\n",
       "      <td>8462.0</td>\n",
       "      <td>77</td>\n",
       "      <td>0.650</td>\n",
       "      <td>0.725</td>\n",
       "      <td>0.558</td>\n",
       "      <td>0</td>\n",
       "      <td>0</td>\n",
       "      <td>0.3030</td>\n",
       "      <td>-3.082</td>\n",
       "      <td>0.0309</td>\n",
       "      <td>141.820</td>\n",
       "    </tr>\n",
       "    <tr>\n",
       "      <th>242699</th>\n",
       "      <td>No Es Justo</td>\n",
       "      <td>4</td>\n",
       "      <td>2018-05-20</td>\n",
       "      <td>J Balvin, Zion &amp; Lennox</td>\n",
       "      <td>Honduras</td>\n",
       "      <td>viral50</td>\n",
       "      <td>NaN</td>\n",
       "      <td>69</td>\n",
       "      <td>0.684</td>\n",
       "      <td>0.721</td>\n",
       "      <td>0.811</td>\n",
       "      <td>0</td>\n",
       "      <td>7</td>\n",
       "      <td>0.0871</td>\n",
       "      <td>-4.494</td>\n",
       "      <td>0.0714</td>\n",
       "      <td>87.866</td>\n",
       "    </tr>\n",
       "    <tr>\n",
       "      <th>80877</th>\n",
       "      <td>New Rules</td>\n",
       "      <td>191</td>\n",
       "      <td>2019-12-19</td>\n",
       "      <td>Dua Lipa</td>\n",
       "      <td>Costa Rica</td>\n",
       "      <td>top200</td>\n",
       "      <td>3264.0</td>\n",
       "      <td>53</td>\n",
       "      <td>0.762</td>\n",
       "      <td>0.608</td>\n",
       "      <td>0.700</td>\n",
       "      <td>0</td>\n",
       "      <td>9</td>\n",
       "      <td>0.1530</td>\n",
       "      <td>-6.021</td>\n",
       "      <td>0.0694</td>\n",
       "      <td>116.073</td>\n",
       "    </tr>\n",
       "    <tr>\n",
       "      <th>303822</th>\n",
       "      <td>Mad Love</td>\n",
       "      <td>8</td>\n",
       "      <td>2019-08-02</td>\n",
       "      <td>Mabel</td>\n",
       "      <td>Ireland</td>\n",
       "      <td>top200</td>\n",
       "      <td>37492.0</td>\n",
       "      <td>73</td>\n",
       "      <td>0.623</td>\n",
       "      <td>0.607</td>\n",
       "      <td>0.796</td>\n",
       "      <td>0</td>\n",
       "      <td>0</td>\n",
       "      <td>0.1150</td>\n",
       "      <td>-2.981</td>\n",
       "      <td>0.1990</td>\n",
       "      <td>197.524</td>\n",
       "    </tr>\n",
       "  </tbody>\n",
       "</table>\n",
       "</div>"
      ],
      "text/plain": [
       "               title  rank        date                   artist       region  \\\n",
       "367501     On A Roll    15  2019-07-22                 Ashley O  El Salvador   \n",
       "202682  Se Me Olvido    20  2020-03-17          Christian Nodal      Bolivia   \n",
       "242699   No Es Justo     4  2018-05-20  J Balvin, Zion & Lennox     Honduras   \n",
       "80877      New Rules   191  2019-12-19                 Dua Lipa   Costa Rica   \n",
       "303822      Mad Love     8  2019-08-02                    Mabel      Ireland   \n",
       "\n",
       "          chart  streams  popularity  danceability  valence  energy  explicit  \\\n",
       "367501  viral50      NaN          64         0.737    0.387   0.810         0   \n",
       "202682   top200   8462.0          77         0.650    0.725   0.558         0   \n",
       "242699  viral50      NaN          69         0.684    0.721   0.811         0   \n",
       "80877    top200   3264.0          53         0.762    0.608   0.700         0   \n",
       "303822   top200  37492.0          73         0.623    0.607   0.796         0   \n",
       "\n",
       "        key  liveness  loudness  speechiness    tempo  \n",
       "367501    5    0.0523    -6.354       0.0896  125.005  \n",
       "202682    0    0.3030    -3.082       0.0309  141.820  \n",
       "242699    7    0.0871    -4.494       0.0714   87.866  \n",
       "80877     9    0.1530    -6.021       0.0694  116.073  \n",
       "303822    0    0.1150    -2.981       0.1990  197.524  "
      ]
     },
     "execution_count": 21,
     "metadata": {},
     "output_type": "execute_result"
    }
   ],
   "source": [
    "merged.sample(5)"
   ]
  },
  {
   "cell_type": "code",
   "execution_count": 22,
   "metadata": {},
   "outputs": [
    {
     "name": "stdout",
     "output_type": "stream",
     "text": [
      "<class 'pandas.core.frame.DataFrame'>\n",
      "Int64Index: 406728 entries, 0 to 406727\n",
      "Data columns (total 17 columns):\n",
      " #   Column        Non-Null Count   Dtype  \n",
      "---  ------        --------------   -----  \n",
      " 0   title         406728 non-null  object \n",
      " 1   rank          406728 non-null  int64  \n",
      " 2   date          406728 non-null  object \n",
      " 3   artist        406728 non-null  object \n",
      " 4   region        406728 non-null  object \n",
      " 5   chart         406728 non-null  object \n",
      " 6   streams       326803 non-null  float64\n",
      " 7   popularity    406728 non-null  int64  \n",
      " 8   danceability  406728 non-null  float64\n",
      " 9   valence       406728 non-null  float64\n",
      " 10  energy        406728 non-null  float64\n",
      " 11  explicit      406728 non-null  int64  \n",
      " 12  key           406728 non-null  int64  \n",
      " 13  liveness      406728 non-null  float64\n",
      " 14  loudness      406728 non-null  float64\n",
      " 15  speechiness   406728 non-null  float64\n",
      " 16  tempo         406728 non-null  float64\n",
      "dtypes: float64(8), int64(4), object(5)\n",
      "memory usage: 55.9+ MB\n"
     ]
    }
   ],
   "source": [
    "merged.info()"
   ]
  },
  {
   "cell_type": "code",
   "execution_count": 24,
   "metadata": {},
   "outputs": [
    {
     "data": {
      "text/html": [
       "<div>\n",
       "<style scoped>\n",
       "    .dataframe tbody tr th:only-of-type {\n",
       "        vertical-align: middle;\n",
       "    }\n",
       "\n",
       "    .dataframe tbody tr th {\n",
       "        vertical-align: top;\n",
       "    }\n",
       "\n",
       "    .dataframe thead th {\n",
       "        text-align: right;\n",
       "    }\n",
       "</style>\n",
       "<table border=\"1\" class=\"dataframe\">\n",
       "  <thead>\n",
       "    <tr style=\"text-align: right;\">\n",
       "      <th></th>\n",
       "      <th>title</th>\n",
       "      <th>artist</th>\n",
       "      <th>popularity</th>\n",
       "      <th>danceability</th>\n",
       "      <th>valence</th>\n",
       "      <th>energy</th>\n",
       "      <th>explicit</th>\n",
       "      <th>key</th>\n",
       "      <th>liveness</th>\n",
       "      <th>loudness</th>\n",
       "      <th>speechiness</th>\n",
       "      <th>tempo</th>\n",
       "    </tr>\n",
       "  </thead>\n",
       "  <tbody>\n",
       "    <tr>\n",
       "      <th>9273</th>\n",
       "      <td>Blow Your Mind (Mwah)</td>\n",
       "      <td>Dua Lipa</td>\n",
       "      <td>65</td>\n",
       "      <td>0.654</td>\n",
       "      <td>0.491</td>\n",
       "      <td>0.796</td>\n",
       "      <td>1</td>\n",
       "      <td>2</td>\n",
       "      <td>0.0948</td>\n",
       "      <td>-4.761</td>\n",
       "      <td>0.1220</td>\n",
       "      <td>108.854</td>\n",
       "    </tr>\n",
       "    <tr>\n",
       "      <th>9277</th>\n",
       "      <td>New Rules</td>\n",
       "      <td>Dua Lipa</td>\n",
       "      <td>53</td>\n",
       "      <td>0.762</td>\n",
       "      <td>0.608</td>\n",
       "      <td>0.700</td>\n",
       "      <td>0</td>\n",
       "      <td>9</td>\n",
       "      <td>0.1530</td>\n",
       "      <td>-6.021</td>\n",
       "      <td>0.0694</td>\n",
       "      <td>116.073</td>\n",
       "    </tr>\n",
       "    <tr>\n",
       "      <th>9963</th>\n",
       "      <td>Cool</td>\n",
       "      <td>Dua Lipa</td>\n",
       "      <td>72</td>\n",
       "      <td>0.470</td>\n",
       "      <td>0.790</td>\n",
       "      <td>0.785</td>\n",
       "      <td>0</td>\n",
       "      <td>5</td>\n",
       "      <td>0.0931</td>\n",
       "      <td>-4.015</td>\n",
       "      <td>0.0664</td>\n",
       "      <td>89.717</td>\n",
       "    </tr>\n",
       "  </tbody>\n",
       "</table>\n",
       "</div>"
      ],
      "text/plain": [
       "                      title    artist  popularity  danceability  valence  \\\n",
       "9273  Blow Your Mind (Mwah)  Dua Lipa          65         0.654    0.491   \n",
       "9277              New Rules  Dua Lipa          53         0.762    0.608   \n",
       "9963                   Cool  Dua Lipa          72         0.470    0.790   \n",
       "\n",
       "      energy  explicit  key  liveness  loudness  speechiness    tempo  \n",
       "9273   0.796         1    2    0.0948    -4.761       0.1220  108.854  \n",
       "9277   0.700         0    9    0.1530    -6.021       0.0694  116.073  \n",
       "9963   0.785         0    5    0.0931    -4.015       0.0664   89.717  "
      ]
     },
     "execution_count": 24,
     "metadata": {},
     "output_type": "execute_result"
    }
   ],
   "source": [
    "# Checking between songs, chart, and merged dfs\n",
    "songs[(songs == 'Dua Lipa').any(axis=1)]"
   ]
  },
  {
   "cell_type": "code",
   "execution_count": 25,
   "metadata": {},
   "outputs": [
    {
     "data": {
      "text/html": [
       "<div>\n",
       "<style scoped>\n",
       "    .dataframe tbody tr th:only-of-type {\n",
       "        vertical-align: middle;\n",
       "    }\n",
       "\n",
       "    .dataframe tbody tr th {\n",
       "        vertical-align: top;\n",
       "    }\n",
       "\n",
       "    .dataframe thead th {\n",
       "        text-align: right;\n",
       "    }\n",
       "</style>\n",
       "<table border=\"1\" class=\"dataframe\">\n",
       "  <thead>\n",
       "    <tr style=\"text-align: right;\">\n",
       "      <th></th>\n",
       "      <th>title</th>\n",
       "      <th>rank</th>\n",
       "      <th>date</th>\n",
       "      <th>artist</th>\n",
       "      <th>region</th>\n",
       "      <th>chart</th>\n",
       "      <th>streams</th>\n",
       "      <th>popularity</th>\n",
       "      <th>danceability</th>\n",
       "      <th>valence</th>\n",
       "      <th>energy</th>\n",
       "      <th>explicit</th>\n",
       "      <th>key</th>\n",
       "      <th>liveness</th>\n",
       "      <th>loudness</th>\n",
       "      <th>speechiness</th>\n",
       "      <th>tempo</th>\n",
       "    </tr>\n",
       "  </thead>\n",
       "  <tbody>\n",
       "    <tr>\n",
       "      <th>17710</th>\n",
       "      <td>Blow Your Mind (Mwah)</td>\n",
       "      <td>165</td>\n",
       "      <td>2017-01-01</td>\n",
       "      <td>Dua Lipa</td>\n",
       "      <td>Australia</td>\n",
       "      <td>top200</td>\n",
       "      <td>11405.0</td>\n",
       "      <td>65</td>\n",
       "      <td>0.654</td>\n",
       "      <td>0.491</td>\n",
       "      <td>0.796</td>\n",
       "      <td>1</td>\n",
       "      <td>2</td>\n",
       "      <td>0.0948</td>\n",
       "      <td>-4.761</td>\n",
       "      <td>0.1220</td>\n",
       "      <td>108.854</td>\n",
       "    </tr>\n",
       "    <tr>\n",
       "      <th>17711</th>\n",
       "      <td>Blow Your Mind (Mwah)</td>\n",
       "      <td>177</td>\n",
       "      <td>2017-01-01</td>\n",
       "      <td>Dua Lipa</td>\n",
       "      <td>Brazil</td>\n",
       "      <td>top200</td>\n",
       "      <td>30136.0</td>\n",
       "      <td>65</td>\n",
       "      <td>0.654</td>\n",
       "      <td>0.491</td>\n",
       "      <td>0.796</td>\n",
       "      <td>1</td>\n",
       "      <td>2</td>\n",
       "      <td>0.0948</td>\n",
       "      <td>-4.761</td>\n",
       "      <td>0.1220</td>\n",
       "      <td>108.854</td>\n",
       "    </tr>\n",
       "    <tr>\n",
       "      <th>17712</th>\n",
       "      <td>Blow Your Mind (Mwah)</td>\n",
       "      <td>190</td>\n",
       "      <td>2017-01-01</td>\n",
       "      <td>Dua Lipa</td>\n",
       "      <td>France</td>\n",
       "      <td>top200</td>\n",
       "      <td>14886.0</td>\n",
       "      <td>65</td>\n",
       "      <td>0.654</td>\n",
       "      <td>0.491</td>\n",
       "      <td>0.796</td>\n",
       "      <td>1</td>\n",
       "      <td>2</td>\n",
       "      <td>0.0948</td>\n",
       "      <td>-4.761</td>\n",
       "      <td>0.1220</td>\n",
       "      <td>108.854</td>\n",
       "    </tr>\n",
       "    <tr>\n",
       "      <th>17713</th>\n",
       "      <td>Blow Your Mind (Mwah)</td>\n",
       "      <td>94</td>\n",
       "      <td>2017-01-01</td>\n",
       "      <td>Dua Lipa</td>\n",
       "      <td>Ireland</td>\n",
       "      <td>top200</td>\n",
       "      <td>3394.0</td>\n",
       "      <td>65</td>\n",
       "      <td>0.654</td>\n",
       "      <td>0.491</td>\n",
       "      <td>0.796</td>\n",
       "      <td>1</td>\n",
       "      <td>2</td>\n",
       "      <td>0.0948</td>\n",
       "      <td>-4.761</td>\n",
       "      <td>0.1220</td>\n",
       "      <td>108.854</td>\n",
       "    </tr>\n",
       "    <tr>\n",
       "      <th>17714</th>\n",
       "      <td>Blow Your Mind (Mwah)</td>\n",
       "      <td>183</td>\n",
       "      <td>2017-01-01</td>\n",
       "      <td>Dua Lipa</td>\n",
       "      <td>New Zealand</td>\n",
       "      <td>top200</td>\n",
       "      <td>3396.0</td>\n",
       "      <td>65</td>\n",
       "      <td>0.654</td>\n",
       "      <td>0.491</td>\n",
       "      <td>0.796</td>\n",
       "      <td>1</td>\n",
       "      <td>2</td>\n",
       "      <td>0.0948</td>\n",
       "      <td>-4.761</td>\n",
       "      <td>0.1220</td>\n",
       "      <td>108.854</td>\n",
       "    </tr>\n",
       "    <tr>\n",
       "      <th>...</th>\n",
       "      <td>...</td>\n",
       "      <td>...</td>\n",
       "      <td>...</td>\n",
       "      <td>...</td>\n",
       "      <td>...</td>\n",
       "      <td>...</td>\n",
       "      <td>...</td>\n",
       "      <td>...</td>\n",
       "      <td>...</td>\n",
       "      <td>...</td>\n",
       "      <td>...</td>\n",
       "      <td>...</td>\n",
       "      <td>...</td>\n",
       "      <td>...</td>\n",
       "      <td>...</td>\n",
       "      <td>...</td>\n",
       "      <td>...</td>\n",
       "    </tr>\n",
       "    <tr>\n",
       "      <th>376675</th>\n",
       "      <td>Cool</td>\n",
       "      <td>116</td>\n",
       "      <td>2020-03-31</td>\n",
       "      <td>Dua Lipa</td>\n",
       "      <td>Poland</td>\n",
       "      <td>top200</td>\n",
       "      <td>21525.0</td>\n",
       "      <td>72</td>\n",
       "      <td>0.470</td>\n",
       "      <td>0.790</td>\n",
       "      <td>0.785</td>\n",
       "      <td>0</td>\n",
       "      <td>5</td>\n",
       "      <td>0.0931</td>\n",
       "      <td>-4.015</td>\n",
       "      <td>0.0664</td>\n",
       "      <td>89.717</td>\n",
       "    </tr>\n",
       "    <tr>\n",
       "      <th>376676</th>\n",
       "      <td>Cool</td>\n",
       "      <td>102</td>\n",
       "      <td>2020-03-31</td>\n",
       "      <td>Dua Lipa</td>\n",
       "      <td>Slovakia</td>\n",
       "      <td>top200</td>\n",
       "      <td>1824.0</td>\n",
       "      <td>72</td>\n",
       "      <td>0.470</td>\n",
       "      <td>0.790</td>\n",
       "      <td>0.785</td>\n",
       "      <td>0</td>\n",
       "      <td>5</td>\n",
       "      <td>0.0931</td>\n",
       "      <td>-4.015</td>\n",
       "      <td>0.0664</td>\n",
       "      <td>89.717</td>\n",
       "    </tr>\n",
       "    <tr>\n",
       "      <th>376677</th>\n",
       "      <td>Cool</td>\n",
       "      <td>59</td>\n",
       "      <td>2020-03-31</td>\n",
       "      <td>Dua Lipa</td>\n",
       "      <td>United Kingdom</td>\n",
       "      <td>top200</td>\n",
       "      <td>93324.0</td>\n",
       "      <td>72</td>\n",
       "      <td>0.470</td>\n",
       "      <td>0.790</td>\n",
       "      <td>0.785</td>\n",
       "      <td>0</td>\n",
       "      <td>5</td>\n",
       "      <td>0.0931</td>\n",
       "      <td>-4.015</td>\n",
       "      <td>0.0664</td>\n",
       "      <td>89.717</td>\n",
       "    </tr>\n",
       "    <tr>\n",
       "      <th>376678</th>\n",
       "      <td>Cool</td>\n",
       "      <td>161</td>\n",
       "      <td>2020-03-31</td>\n",
       "      <td>Dua Lipa</td>\n",
       "      <td>United States</td>\n",
       "      <td>top200</td>\n",
       "      <td>227899.0</td>\n",
       "      <td>72</td>\n",
       "      <td>0.470</td>\n",
       "      <td>0.790</td>\n",
       "      <td>0.785</td>\n",
       "      <td>0</td>\n",
       "      <td>5</td>\n",
       "      <td>0.0931</td>\n",
       "      <td>-4.015</td>\n",
       "      <td>0.0664</td>\n",
       "      <td>89.717</td>\n",
       "    </tr>\n",
       "    <tr>\n",
       "      <th>376679</th>\n",
       "      <td>Cool</td>\n",
       "      <td>164</td>\n",
       "      <td>2020-03-31</td>\n",
       "      <td>Dua Lipa</td>\n",
       "      <td>Vietnam</td>\n",
       "      <td>top200</td>\n",
       "      <td>3103.0</td>\n",
       "      <td>72</td>\n",
       "      <td>0.470</td>\n",
       "      <td>0.790</td>\n",
       "      <td>0.785</td>\n",
       "      <td>0</td>\n",
       "      <td>5</td>\n",
       "      <td>0.0931</td>\n",
       "      <td>-4.015</td>\n",
       "      <td>0.0664</td>\n",
       "      <td>89.717</td>\n",
       "    </tr>\n",
       "  </tbody>\n",
       "</table>\n",
       "<p>37803 rows × 17 columns</p>\n",
       "</div>"
      ],
      "text/plain": [
       "                        title  rank        date    artist          region  \\\n",
       "17710   Blow Your Mind (Mwah)   165  2017-01-01  Dua Lipa       Australia   \n",
       "17711   Blow Your Mind (Mwah)   177  2017-01-01  Dua Lipa          Brazil   \n",
       "17712   Blow Your Mind (Mwah)   190  2017-01-01  Dua Lipa          France   \n",
       "17713   Blow Your Mind (Mwah)    94  2017-01-01  Dua Lipa         Ireland   \n",
       "17714   Blow Your Mind (Mwah)   183  2017-01-01  Dua Lipa     New Zealand   \n",
       "...                       ...   ...         ...       ...             ...   \n",
       "376675                   Cool   116  2020-03-31  Dua Lipa          Poland   \n",
       "376676                   Cool   102  2020-03-31  Dua Lipa        Slovakia   \n",
       "376677                   Cool    59  2020-03-31  Dua Lipa  United Kingdom   \n",
       "376678                   Cool   161  2020-03-31  Dua Lipa   United States   \n",
       "376679                   Cool   164  2020-03-31  Dua Lipa         Vietnam   \n",
       "\n",
       "         chart   streams  popularity  danceability  valence  energy  explicit  \\\n",
       "17710   top200   11405.0          65         0.654    0.491   0.796         1   \n",
       "17711   top200   30136.0          65         0.654    0.491   0.796         1   \n",
       "17712   top200   14886.0          65         0.654    0.491   0.796         1   \n",
       "17713   top200    3394.0          65         0.654    0.491   0.796         1   \n",
       "17714   top200    3396.0          65         0.654    0.491   0.796         1   \n",
       "...        ...       ...         ...           ...      ...     ...       ...   \n",
       "376675  top200   21525.0          72         0.470    0.790   0.785         0   \n",
       "376676  top200    1824.0          72         0.470    0.790   0.785         0   \n",
       "376677  top200   93324.0          72         0.470    0.790   0.785         0   \n",
       "376678  top200  227899.0          72         0.470    0.790   0.785         0   \n",
       "376679  top200    3103.0          72         0.470    0.790   0.785         0   \n",
       "\n",
       "        key  liveness  loudness  speechiness    tempo  \n",
       "17710     2    0.0948    -4.761       0.1220  108.854  \n",
       "17711     2    0.0948    -4.761       0.1220  108.854  \n",
       "17712     2    0.0948    -4.761       0.1220  108.854  \n",
       "17713     2    0.0948    -4.761       0.1220  108.854  \n",
       "17714     2    0.0948    -4.761       0.1220  108.854  \n",
       "...     ...       ...       ...          ...      ...  \n",
       "376675    5    0.0931    -4.015       0.0664   89.717  \n",
       "376676    5    0.0931    -4.015       0.0664   89.717  \n",
       "376677    5    0.0931    -4.015       0.0664   89.717  \n",
       "376678    5    0.0931    -4.015       0.0664   89.717  \n",
       "376679    5    0.0931    -4.015       0.0664   89.717  \n",
       "\n",
       "[37803 rows x 17 columns]"
      ]
     },
     "execution_count": 25,
     "metadata": {},
     "output_type": "execute_result"
    }
   ],
   "source": [
    "merged[(merged == 'Dua Lipa').any(axis=1)]"
   ]
  },
  {
   "cell_type": "code",
   "execution_count": 28,
   "metadata": {},
   "outputs": [
    {
     "data": {
      "text/html": [
       "<div>\n",
       "<style scoped>\n",
       "    .dataframe tbody tr th:only-of-type {\n",
       "        vertical-align: middle;\n",
       "    }\n",
       "\n",
       "    .dataframe tbody tr th {\n",
       "        vertical-align: top;\n",
       "    }\n",
       "\n",
       "    .dataframe thead th {\n",
       "        text-align: right;\n",
       "    }\n",
       "</style>\n",
       "<table border=\"1\" class=\"dataframe\">\n",
       "  <thead>\n",
       "    <tr style=\"text-align: right;\">\n",
       "      <th></th>\n",
       "      <th>title</th>\n",
       "      <th>rank</th>\n",
       "      <th>date</th>\n",
       "      <th>artist</th>\n",
       "      <th>region</th>\n",
       "      <th>chart</th>\n",
       "      <th>streams</th>\n",
       "      <th>popularity</th>\n",
       "      <th>danceability</th>\n",
       "      <th>valence</th>\n",
       "      <th>energy</th>\n",
       "      <th>explicit</th>\n",
       "      <th>key</th>\n",
       "      <th>liveness</th>\n",
       "      <th>loudness</th>\n",
       "      <th>speechiness</th>\n",
       "      <th>tempo</th>\n",
       "    </tr>\n",
       "  </thead>\n",
       "  <tbody>\n",
       "  </tbody>\n",
       "</table>\n",
       "</div>"
      ],
      "text/plain": [
       "Empty DataFrame\n",
       "Columns: [title, rank, date, artist, region, chart, streams, popularity, danceability, valence, energy, explicit, key, liveness, loudness, speechiness, tempo]\n",
       "Index: []"
      ]
     },
     "execution_count": 28,
     "metadata": {},
     "output_type": "execute_result"
    }
   ],
   "source": [
    "# If the Song details are not in the spotify df, they will not exist in the merged version\n",
    "merged[(merged == 'Billie Eilish').any(axis=1)]"
   ]
  },
  {
   "cell_type": "code",
   "execution_count": 26,
   "metadata": {},
   "outputs": [
    {
     "data": {
      "text/html": [
       "<div>\n",
       "<style scoped>\n",
       "    .dataframe tbody tr th:only-of-type {\n",
       "        vertical-align: middle;\n",
       "    }\n",
       "\n",
       "    .dataframe tbody tr th {\n",
       "        vertical-align: top;\n",
       "    }\n",
       "\n",
       "    .dataframe thead th {\n",
       "        text-align: right;\n",
       "    }\n",
       "</style>\n",
       "<table border=\"1\" class=\"dataframe\">\n",
       "  <thead>\n",
       "    <tr style=\"text-align: right;\">\n",
       "      <th></th>\n",
       "      <th>title</th>\n",
       "      <th>artist</th>\n",
       "      <th>popularity</th>\n",
       "      <th>danceability</th>\n",
       "      <th>valence</th>\n",
       "      <th>energy</th>\n",
       "      <th>explicit</th>\n",
       "      <th>key</th>\n",
       "      <th>liveness</th>\n",
       "      <th>loudness</th>\n",
       "      <th>speechiness</th>\n",
       "      <th>tempo</th>\n",
       "    </tr>\n",
       "  </thead>\n",
       "  <tbody>\n",
       "  </tbody>\n",
       "</table>\n",
       "</div>"
      ],
      "text/plain": [
       "Empty DataFrame\n",
       "Columns: [title, artist, popularity, danceability, valence, energy, explicit, key, liveness, loudness, speechiness, tempo]\n",
       "Index: []"
      ]
     },
     "execution_count": 26,
     "metadata": {},
     "output_type": "execute_result"
    }
   ],
   "source": [
    "songs[(songs == 'Billie Eilish').any(axis=1)]"
   ]
  },
  {
   "cell_type": "code",
   "execution_count": 27,
   "metadata": {},
   "outputs": [
    {
     "data": {
      "text/html": [
       "<div>\n",
       "<style scoped>\n",
       "    .dataframe tbody tr th:only-of-type {\n",
       "        vertical-align: middle;\n",
       "    }\n",
       "\n",
       "    .dataframe tbody tr th {\n",
       "        vertical-align: top;\n",
       "    }\n",
       "\n",
       "    .dataframe thead th {\n",
       "        text-align: right;\n",
       "    }\n",
       "</style>\n",
       "<table border=\"1\" class=\"dataframe\">\n",
       "  <thead>\n",
       "    <tr style=\"text-align: right;\">\n",
       "      <th></th>\n",
       "      <th>title</th>\n",
       "      <th>rank</th>\n",
       "      <th>date</th>\n",
       "      <th>artist</th>\n",
       "      <th>region</th>\n",
       "      <th>chart</th>\n",
       "      <th>streams</th>\n",
       "    </tr>\n",
       "  </thead>\n",
       "  <tbody>\n",
       "    <tr>\n",
       "      <th>57181</th>\n",
       "      <td>COPYCAT</td>\n",
       "      <td>50</td>\n",
       "      <td>2017-08-01</td>\n",
       "      <td>Billie Eilish</td>\n",
       "      <td>Taiwan</td>\n",
       "      <td>viral50</td>\n",
       "      <td>NaN</td>\n",
       "    </tr>\n",
       "    <tr>\n",
       "      <th>66054</th>\n",
       "      <td>bad guy</td>\n",
       "      <td>136</td>\n",
       "      <td>2020-05-01</td>\n",
       "      <td>Billie Eilish</td>\n",
       "      <td>Argentina</td>\n",
       "      <td>top200</td>\n",
       "      <td>29007.0</td>\n",
       "    </tr>\n",
       "    <tr>\n",
       "      <th>66184</th>\n",
       "      <td>bad guy</td>\n",
       "      <td>65</td>\n",
       "      <td>2020-05-01</td>\n",
       "      <td>Billie Eilish</td>\n",
       "      <td>Australia</td>\n",
       "      <td>top200</td>\n",
       "      <td>64572.0</td>\n",
       "    </tr>\n",
       "    <tr>\n",
       "      <th>66186</th>\n",
       "      <td>everything i wanted</td>\n",
       "      <td>67</td>\n",
       "      <td>2020-05-01</td>\n",
       "      <td>Billie Eilish</td>\n",
       "      <td>Australia</td>\n",
       "      <td>top200</td>\n",
       "      <td>62106.0</td>\n",
       "    </tr>\n",
       "    <tr>\n",
       "      <th>66218</th>\n",
       "      <td>lovely (with Khalid)</td>\n",
       "      <td>99</td>\n",
       "      <td>2020-05-01</td>\n",
       "      <td>Billie Eilish</td>\n",
       "      <td>Australia</td>\n",
       "      <td>top200</td>\n",
       "      <td>46144.0</td>\n",
       "    </tr>\n",
       "    <tr>\n",
       "      <th>...</th>\n",
       "      <td>...</td>\n",
       "      <td>...</td>\n",
       "      <td>...</td>\n",
       "      <td>...</td>\n",
       "      <td>...</td>\n",
       "      <td>...</td>\n",
       "      <td>...</td>\n",
       "    </tr>\n",
       "    <tr>\n",
       "      <th>26112702</th>\n",
       "      <td>Your Power</td>\n",
       "      <td>50</td>\n",
       "      <td>2021-05-30</td>\n",
       "      <td>Billie Eilish</td>\n",
       "      <td>New Zealand</td>\n",
       "      <td>viral50</td>\n",
       "      <td>NaN</td>\n",
       "    </tr>\n",
       "    <tr>\n",
       "      <th>26112741</th>\n",
       "      <td>Your Power</td>\n",
       "      <td>39</td>\n",
       "      <td>2021-05-30</td>\n",
       "      <td>Billie Eilish</td>\n",
       "      <td>Nicaragua</td>\n",
       "      <td>viral50</td>\n",
       "      <td>NaN</td>\n",
       "    </tr>\n",
       "    <tr>\n",
       "      <th>26113773</th>\n",
       "      <td>Your Power</td>\n",
       "      <td>36</td>\n",
       "      <td>2021-05-30</td>\n",
       "      <td>Billie Eilish</td>\n",
       "      <td>Saudi Arabia</td>\n",
       "      <td>viral50</td>\n",
       "      <td>NaN</td>\n",
       "    </tr>\n",
       "    <tr>\n",
       "      <th>26114913</th>\n",
       "      <td>Your Power</td>\n",
       "      <td>41</td>\n",
       "      <td>2021-05-30</td>\n",
       "      <td>Billie Eilish</td>\n",
       "      <td>United Arab Emirates</td>\n",
       "      <td>viral50</td>\n",
       "      <td>NaN</td>\n",
       "    </tr>\n",
       "    <tr>\n",
       "      <th>26119381</th>\n",
       "      <td>Your Power</td>\n",
       "      <td>39</td>\n",
       "      <td>2021-05-30</td>\n",
       "      <td>Billie Eilish</td>\n",
       "      <td>Uruguay</td>\n",
       "      <td>viral50</td>\n",
       "      <td>NaN</td>\n",
       "    </tr>\n",
       "  </tbody>\n",
       "</table>\n",
       "<p>251830 rows × 7 columns</p>\n",
       "</div>"
      ],
      "text/plain": [
       "                         title  rank        date         artist  \\\n",
       "57181                  COPYCAT    50  2017-08-01  Billie Eilish   \n",
       "66054                  bad guy   136  2020-05-01  Billie Eilish   \n",
       "66184                  bad guy    65  2020-05-01  Billie Eilish   \n",
       "66186      everything i wanted    67  2020-05-01  Billie Eilish   \n",
       "66218     lovely (with Khalid)    99  2020-05-01  Billie Eilish   \n",
       "...                        ...   ...         ...            ...   \n",
       "26112702            Your Power    50  2021-05-30  Billie Eilish   \n",
       "26112741            Your Power    39  2021-05-30  Billie Eilish   \n",
       "26113773            Your Power    36  2021-05-30  Billie Eilish   \n",
       "26114913            Your Power    41  2021-05-30  Billie Eilish   \n",
       "26119381            Your Power    39  2021-05-30  Billie Eilish   \n",
       "\n",
       "                        region    chart  streams  \n",
       "57181                   Taiwan  viral50      NaN  \n",
       "66054                Argentina   top200  29007.0  \n",
       "66184                Australia   top200  64572.0  \n",
       "66186                Australia   top200  62106.0  \n",
       "66218                Australia   top200  46144.0  \n",
       "...                        ...      ...      ...  \n",
       "26112702           New Zealand  viral50      NaN  \n",
       "26112741             Nicaragua  viral50      NaN  \n",
       "26113773          Saudi Arabia  viral50      NaN  \n",
       "26114913  United Arab Emirates  viral50      NaN  \n",
       "26119381               Uruguay  viral50      NaN  \n",
       "\n",
       "[251830 rows x 7 columns]"
      ]
     },
     "execution_count": 27,
     "metadata": {},
     "output_type": "execute_result"
    }
   ],
   "source": [
    "chart[(chart == 'Billie Eilish').any(axis=1)]"
   ]
  },
  {
   "cell_type": "markdown",
   "metadata": {},
   "source": [
    "# 3. Trends in the Top 200 Global songs"
   ]
  },
  {
   "cell_type": "code",
   "execution_count": 36,
   "metadata": {},
   "outputs": [
    {
     "data": {
      "text/html": [
       "<div>\n",
       "<style scoped>\n",
       "    .dataframe tbody tr th:only-of-type {\n",
       "        vertical-align: middle;\n",
       "    }\n",
       "\n",
       "    .dataframe tbody tr th {\n",
       "        vertical-align: top;\n",
       "    }\n",
       "\n",
       "    .dataframe thead th {\n",
       "        text-align: right;\n",
       "    }\n",
       "</style>\n",
       "<table border=\"1\" class=\"dataframe\">\n",
       "  <thead>\n",
       "    <tr style=\"text-align: right;\">\n",
       "      <th></th>\n",
       "      <th>title</th>\n",
       "      <th>rank</th>\n",
       "      <th>date</th>\n",
       "      <th>artist</th>\n",
       "      <th>region</th>\n",
       "      <th>chart</th>\n",
       "      <th>streams</th>\n",
       "      <th>popularity</th>\n",
       "      <th>danceability</th>\n",
       "      <th>valence</th>\n",
       "      <th>energy</th>\n",
       "      <th>explicit</th>\n",
       "      <th>key</th>\n",
       "      <th>liveness</th>\n",
       "      <th>loudness</th>\n",
       "      <th>speechiness</th>\n",
       "      <th>tempo</th>\n",
       "    </tr>\n",
       "  </thead>\n",
       "  <tbody>\n",
       "    <tr>\n",
       "      <th>250709</th>\n",
       "      <td>Green Light</td>\n",
       "      <td>106</td>\n",
       "      <td>2017-06-24</td>\n",
       "      <td>Lorde</td>\n",
       "      <td>Global</td>\n",
       "      <td>top200</td>\n",
       "      <td>688417.0</td>\n",
       "      <td>59</td>\n",
       "      <td>0.594</td>\n",
       "      <td>0.253</td>\n",
       "      <td>0.721</td>\n",
       "      <td>0</td>\n",
       "      <td>2</td>\n",
       "      <td>0.0879</td>\n",
       "      <td>-7.812</td>\n",
       "      <td>0.0957</td>\n",
       "      <td>128.942</td>\n",
       "    </tr>\n",
       "    <tr>\n",
       "      <th>120733</th>\n",
       "      <td>Shooting Stars</td>\n",
       "      <td>141</td>\n",
       "      <td>2017-03-13</td>\n",
       "      <td>Bag Raiders</td>\n",
       "      <td>Global</td>\n",
       "      <td>top200</td>\n",
       "      <td>557363.0</td>\n",
       "      <td>47</td>\n",
       "      <td>0.664</td>\n",
       "      <td>0.555</td>\n",
       "      <td>0.717</td>\n",
       "      <td>0</td>\n",
       "      <td>11</td>\n",
       "      <td>0.1380</td>\n",
       "      <td>-5.699</td>\n",
       "      <td>0.0391</td>\n",
       "      <td>124.989</td>\n",
       "    </tr>\n",
       "    <tr>\n",
       "      <th>107096</th>\n",
       "      <td>Be Mine</td>\n",
       "      <td>155</td>\n",
       "      <td>2017-06-27</td>\n",
       "      <td>Ofenbach</td>\n",
       "      <td>Global</td>\n",
       "      <td>top200</td>\n",
       "      <td>520460.0</td>\n",
       "      <td>69</td>\n",
       "      <td>0.779</td>\n",
       "      <td>0.507</td>\n",
       "      <td>0.666</td>\n",
       "      <td>0</td>\n",
       "      <td>5</td>\n",
       "      <td>0.0576</td>\n",
       "      <td>-7.361</td>\n",
       "      <td>0.0482</td>\n",
       "      <td>123.024</td>\n",
       "    </tr>\n",
       "    <tr>\n",
       "      <th>169583</th>\n",
       "      <td>Adan y Eva</td>\n",
       "      <td>115</td>\n",
       "      <td>2019-05-20</td>\n",
       "      <td>Paulo Londra</td>\n",
       "      <td>Global</td>\n",
       "      <td>top200</td>\n",
       "      <td>869426.0</td>\n",
       "      <td>73</td>\n",
       "      <td>0.767</td>\n",
       "      <td>0.720</td>\n",
       "      <td>0.709</td>\n",
       "      <td>0</td>\n",
       "      <td>1</td>\n",
       "      <td>0.0676</td>\n",
       "      <td>-4.470</td>\n",
       "      <td>0.3360</td>\n",
       "      <td>171.993</td>\n",
       "    </tr>\n",
       "    <tr>\n",
       "      <th>317407</th>\n",
       "      <td>No Me Acuerdo</td>\n",
       "      <td>90</td>\n",
       "      <td>2018-08-12</td>\n",
       "      <td>Thalia, Natti Natasha</td>\n",
       "      <td>Global</td>\n",
       "      <td>top200</td>\n",
       "      <td>785099.0</td>\n",
       "      <td>71</td>\n",
       "      <td>0.837</td>\n",
       "      <td>0.748</td>\n",
       "      <td>0.784</td>\n",
       "      <td>0</td>\n",
       "      <td>7</td>\n",
       "      <td>0.0897</td>\n",
       "      <td>-4.531</td>\n",
       "      <td>0.1010</td>\n",
       "      <td>94.036</td>\n",
       "    </tr>\n",
       "  </tbody>\n",
       "</table>\n",
       "</div>"
      ],
      "text/plain": [
       "                 title  rank        date                 artist  region  \\\n",
       "250709     Green Light   106  2017-06-24                  Lorde  Global   \n",
       "120733  Shooting Stars   141  2017-03-13            Bag Raiders  Global   \n",
       "107096         Be Mine   155  2017-06-27               Ofenbach  Global   \n",
       "169583      Adan y Eva   115  2019-05-20           Paulo Londra  Global   \n",
       "317407   No Me Acuerdo    90  2018-08-12  Thalia, Natti Natasha  Global   \n",
       "\n",
       "         chart   streams  popularity  danceability  valence  energy  explicit  \\\n",
       "250709  top200  688417.0          59         0.594    0.253   0.721         0   \n",
       "120733  top200  557363.0          47         0.664    0.555   0.717         0   \n",
       "107096  top200  520460.0          69         0.779    0.507   0.666         0   \n",
       "169583  top200  869426.0          73         0.767    0.720   0.709         0   \n",
       "317407  top200  785099.0          71         0.837    0.748   0.784         0   \n",
       "\n",
       "        key  liveness  loudness  speechiness    tempo  \n",
       "250709    2    0.0879    -7.812       0.0957  128.942  \n",
       "120733   11    0.1380    -5.699       0.0391  124.989  \n",
       "107096    5    0.0576    -7.361       0.0482  123.024  \n",
       "169583    1    0.0676    -4.470       0.3360  171.993  \n",
       "317407    7    0.0897    -4.531       0.1010   94.036  "
      ]
     },
     "execution_count": 36,
     "metadata": {},
     "output_type": "execute_result"
    }
   ],
   "source": [
    "# Creating Top 200 songs in Global dataframe: This may not have lots of songs because of the spotify df limitations\n",
    "top200 = merged[(merged['chart'] == 'top200') & \n",
    "              ((merged['region'] == 'Global'))]\n",
    "top200.sample(5)"
   ]
  },
  {
   "cell_type": "code",
   "execution_count": 37,
   "metadata": {},
   "outputs": [
    {
     "data": {
      "text/plain": [
       "(6595, 17)"
      ]
     },
     "execution_count": 37,
     "metadata": {},
     "output_type": "execute_result"
    }
   ],
   "source": [
    "top200.shape"
   ]
  },
  {
   "cell_type": "code",
   "execution_count": 40,
   "metadata": {},
   "outputs": [
    {
     "name": "stdout",
     "output_type": "stream",
     "text": [
      "<class 'pandas.core.frame.DataFrame'>\n",
      "Int64Index: 6595 entries, 8 to 404240\n",
      "Data columns (total 17 columns):\n",
      " #   Column        Non-Null Count  Dtype         \n",
      "---  ------        --------------  -----         \n",
      " 0   title         6595 non-null   object        \n",
      " 1   rank          6595 non-null   int64         \n",
      " 2   date          6595 non-null   datetime64[ns]\n",
      " 3   artist        6595 non-null   object        \n",
      " 4   region        6595 non-null   object        \n",
      " 5   chart         6595 non-null   object        \n",
      " 6   streams       6595 non-null   float64       \n",
      " 7   popularity    6595 non-null   int64         \n",
      " 8   danceability  6595 non-null   float64       \n",
      " 9   valence       6595 non-null   float64       \n",
      " 10  energy        6595 non-null   float64       \n",
      " 11  explicit      6595 non-null   int64         \n",
      " 12  key           6595 non-null   int64         \n",
      " 13  liveness      6595 non-null   float64       \n",
      " 14  loudness      6595 non-null   float64       \n",
      " 15  speechiness   6595 non-null   float64       \n",
      " 16  tempo         6595 non-null   float64       \n",
      "dtypes: datetime64[ns](1), float64(8), int64(4), object(4)\n",
      "memory usage: 927.4+ KB\n"
     ]
    }
   ],
   "source": [
    "top200.info()"
   ]
  },
  {
   "cell_type": "code",
   "execution_count": 39,
   "metadata": {},
   "outputs": [],
   "source": [
    "# Convert date into datetime type\n",
    "top200['date'] = pd.to_datetime(top200['date'])"
   ]
  },
  {
   "cell_type": "code",
   "execution_count": 42,
   "metadata": {},
   "outputs": [
    {
     "data": {
      "text/plain": [
       "Dua Lipa        720\n",
       "Jason Mraz      462\n",
       "TOTO            459\n",
       "The Police      369\n",
       "Paulo Londra    291\n",
       "Name: artist, dtype: int64"
      ]
     },
     "execution_count": 42,
     "metadata": {},
     "output_type": "execute_result"
    }
   ],
   "source": [
    "# Note: Top streamed artists in Top 200 Global for 2017-2021 with songs in the spotify df\n",
    "top_artists = top200['artist'].value_counts()\n",
    "top_artists.head()"
   ]
  },
  {
   "cell_type": "code",
   "execution_count": 45,
   "metadata": {},
   "outputs": [
    {
     "data": {
      "application/vnd.plotly.v1+json": {
       "config": {
        "linkText": "Export to plot.ly",
        "plotlyServerURL": "https://plot.ly",
        "showLink": true
       },
       "data": [
        {
         "marker": {
          "color": "rgba(255, 153, 51, 0.6)",
          "line": {
           "color": "rgba(255, 153, 51, 1.0)",
           "width": 1
          }
         },
         "name": "artist",
         "orientation": "v",
         "text": "",
         "type": "bar",
         "x": [
          "Dua Lipa",
          "Jason Mraz",
          "TOTO",
          "The Police",
          "Paulo Londra",
          "CNCO, Yandel",
          "Eminem",
          "Ozuna",
          "J Balvin, Zion & Lennox",
          "J Balvin",
          "Rauw Alejandro",
          "Sebastian Yatra, Mau y Ricky",
          "Wisin",
          "Lorde",
          "Sebastian Yatra, Reik",
          "Thalia, Natti Natasha",
          "Shawn Mendes",
          "Mabel",
          "Sebastian Yatra, Daddy Yankee, Natti Natasha, Jonas Brothers",
          "Dalex, Lenny Tavarez, Anitta, Natti Natasha, Farruko, Justin Quiles",
          "Anuel AA",
          "Nicky Jam, Sech",
          "Ofenbach",
          "Kevin Roldan, Bryant Myers, Lyanno",
          "Quavo"
         ],
         "y": [
          720,
          462,
          459,
          369,
          291,
          241,
          233,
          218,
          209,
          203,
          202,
          189,
          182,
          165,
          145,
          133,
          110,
          109,
          107,
          101,
          93,
          91,
          84,
          84,
          77
         ]
        }
       ],
       "layout": {
        "legend": {
         "bgcolor": "#F5F6F9",
         "font": {
          "color": "#4D5663"
         }
        },
        "paper_bgcolor": "#F5F6F9",
        "plot_bgcolor": "#F5F6F9",
        "template": {
         "data": {
          "bar": [
           {
            "error_x": {
             "color": "#2a3f5f"
            },
            "error_y": {
             "color": "#2a3f5f"
            },
            "marker": {
             "line": {
              "color": "#E5ECF6",
              "width": 0.5
             },
             "pattern": {
              "fillmode": "overlay",
              "size": 10,
              "solidity": 0.2
             }
            },
            "type": "bar"
           }
          ],
          "barpolar": [
           {
            "marker": {
             "line": {
              "color": "#E5ECF6",
              "width": 0.5
             },
             "pattern": {
              "fillmode": "overlay",
              "size": 10,
              "solidity": 0.2
             }
            },
            "type": "barpolar"
           }
          ],
          "carpet": [
           {
            "aaxis": {
             "endlinecolor": "#2a3f5f",
             "gridcolor": "white",
             "linecolor": "white",
             "minorgridcolor": "white",
             "startlinecolor": "#2a3f5f"
            },
            "baxis": {
             "endlinecolor": "#2a3f5f",
             "gridcolor": "white",
             "linecolor": "white",
             "minorgridcolor": "white",
             "startlinecolor": "#2a3f5f"
            },
            "type": "carpet"
           }
          ],
          "choropleth": [
           {
            "colorbar": {
             "outlinewidth": 0,
             "ticks": ""
            },
            "type": "choropleth"
           }
          ],
          "contour": [
           {
            "colorbar": {
             "outlinewidth": 0,
             "ticks": ""
            },
            "colorscale": [
             [
              0,
              "#0d0887"
             ],
             [
              0.1111111111111111,
              "#46039f"
             ],
             [
              0.2222222222222222,
              "#7201a8"
             ],
             [
              0.3333333333333333,
              "#9c179e"
             ],
             [
              0.4444444444444444,
              "#bd3786"
             ],
             [
              0.5555555555555556,
              "#d8576b"
             ],
             [
              0.6666666666666666,
              "#ed7953"
             ],
             [
              0.7777777777777778,
              "#fb9f3a"
             ],
             [
              0.8888888888888888,
              "#fdca26"
             ],
             [
              1,
              "#f0f921"
             ]
            ],
            "type": "contour"
           }
          ],
          "contourcarpet": [
           {
            "colorbar": {
             "outlinewidth": 0,
             "ticks": ""
            },
            "type": "contourcarpet"
           }
          ],
          "heatmap": [
           {
            "colorbar": {
             "outlinewidth": 0,
             "ticks": ""
            },
            "colorscale": [
             [
              0,
              "#0d0887"
             ],
             [
              0.1111111111111111,
              "#46039f"
             ],
             [
              0.2222222222222222,
              "#7201a8"
             ],
             [
              0.3333333333333333,
              "#9c179e"
             ],
             [
              0.4444444444444444,
              "#bd3786"
             ],
             [
              0.5555555555555556,
              "#d8576b"
             ],
             [
              0.6666666666666666,
              "#ed7953"
             ],
             [
              0.7777777777777778,
              "#fb9f3a"
             ],
             [
              0.8888888888888888,
              "#fdca26"
             ],
             [
              1,
              "#f0f921"
             ]
            ],
            "type": "heatmap"
           }
          ],
          "heatmapgl": [
           {
            "colorbar": {
             "outlinewidth": 0,
             "ticks": ""
            },
            "colorscale": [
             [
              0,
              "#0d0887"
             ],
             [
              0.1111111111111111,
              "#46039f"
             ],
             [
              0.2222222222222222,
              "#7201a8"
             ],
             [
              0.3333333333333333,
              "#9c179e"
             ],
             [
              0.4444444444444444,
              "#bd3786"
             ],
             [
              0.5555555555555556,
              "#d8576b"
             ],
             [
              0.6666666666666666,
              "#ed7953"
             ],
             [
              0.7777777777777778,
              "#fb9f3a"
             ],
             [
              0.8888888888888888,
              "#fdca26"
             ],
             [
              1,
              "#f0f921"
             ]
            ],
            "type": "heatmapgl"
           }
          ],
          "histogram": [
           {
            "marker": {
             "pattern": {
              "fillmode": "overlay",
              "size": 10,
              "solidity": 0.2
             }
            },
            "type": "histogram"
           }
          ],
          "histogram2d": [
           {
            "colorbar": {
             "outlinewidth": 0,
             "ticks": ""
            },
            "colorscale": [
             [
              0,
              "#0d0887"
             ],
             [
              0.1111111111111111,
              "#46039f"
             ],
             [
              0.2222222222222222,
              "#7201a8"
             ],
             [
              0.3333333333333333,
              "#9c179e"
             ],
             [
              0.4444444444444444,
              "#bd3786"
             ],
             [
              0.5555555555555556,
              "#d8576b"
             ],
             [
              0.6666666666666666,
              "#ed7953"
             ],
             [
              0.7777777777777778,
              "#fb9f3a"
             ],
             [
              0.8888888888888888,
              "#fdca26"
             ],
             [
              1,
              "#f0f921"
             ]
            ],
            "type": "histogram2d"
           }
          ],
          "histogram2dcontour": [
           {
            "colorbar": {
             "outlinewidth": 0,
             "ticks": ""
            },
            "colorscale": [
             [
              0,
              "#0d0887"
             ],
             [
              0.1111111111111111,
              "#46039f"
             ],
             [
              0.2222222222222222,
              "#7201a8"
             ],
             [
              0.3333333333333333,
              "#9c179e"
             ],
             [
              0.4444444444444444,
              "#bd3786"
             ],
             [
              0.5555555555555556,
              "#d8576b"
             ],
             [
              0.6666666666666666,
              "#ed7953"
             ],
             [
              0.7777777777777778,
              "#fb9f3a"
             ],
             [
              0.8888888888888888,
              "#fdca26"
             ],
             [
              1,
              "#f0f921"
             ]
            ],
            "type": "histogram2dcontour"
           }
          ],
          "mesh3d": [
           {
            "colorbar": {
             "outlinewidth": 0,
             "ticks": ""
            },
            "type": "mesh3d"
           }
          ],
          "parcoords": [
           {
            "line": {
             "colorbar": {
              "outlinewidth": 0,
              "ticks": ""
             }
            },
            "type": "parcoords"
           }
          ],
          "pie": [
           {
            "automargin": true,
            "type": "pie"
           }
          ],
          "scatter": [
           {
            "fillpattern": {
             "fillmode": "overlay",
             "size": 10,
             "solidity": 0.2
            },
            "type": "scatter"
           }
          ],
          "scatter3d": [
           {
            "line": {
             "colorbar": {
              "outlinewidth": 0,
              "ticks": ""
             }
            },
            "marker": {
             "colorbar": {
              "outlinewidth": 0,
              "ticks": ""
             }
            },
            "type": "scatter3d"
           }
          ],
          "scattercarpet": [
           {
            "marker": {
             "colorbar": {
              "outlinewidth": 0,
              "ticks": ""
             }
            },
            "type": "scattercarpet"
           }
          ],
          "scattergeo": [
           {
            "marker": {
             "colorbar": {
              "outlinewidth": 0,
              "ticks": ""
             }
            },
            "type": "scattergeo"
           }
          ],
          "scattergl": [
           {
            "marker": {
             "colorbar": {
              "outlinewidth": 0,
              "ticks": ""
             }
            },
            "type": "scattergl"
           }
          ],
          "scattermapbox": [
           {
            "marker": {
             "colorbar": {
              "outlinewidth": 0,
              "ticks": ""
             }
            },
            "type": "scattermapbox"
           }
          ],
          "scatterpolar": [
           {
            "marker": {
             "colorbar": {
              "outlinewidth": 0,
              "ticks": ""
             }
            },
            "type": "scatterpolar"
           }
          ],
          "scatterpolargl": [
           {
            "marker": {
             "colorbar": {
              "outlinewidth": 0,
              "ticks": ""
             }
            },
            "type": "scatterpolargl"
           }
          ],
          "scatterternary": [
           {
            "marker": {
             "colorbar": {
              "outlinewidth": 0,
              "ticks": ""
             }
            },
            "type": "scatterternary"
           }
          ],
          "surface": [
           {
            "colorbar": {
             "outlinewidth": 0,
             "ticks": ""
            },
            "colorscale": [
             [
              0,
              "#0d0887"
             ],
             [
              0.1111111111111111,
              "#46039f"
             ],
             [
              0.2222222222222222,
              "#7201a8"
             ],
             [
              0.3333333333333333,
              "#9c179e"
             ],
             [
              0.4444444444444444,
              "#bd3786"
             ],
             [
              0.5555555555555556,
              "#d8576b"
             ],
             [
              0.6666666666666666,
              "#ed7953"
             ],
             [
              0.7777777777777778,
              "#fb9f3a"
             ],
             [
              0.8888888888888888,
              "#fdca26"
             ],
             [
              1,
              "#f0f921"
             ]
            ],
            "type": "surface"
           }
          ],
          "table": [
           {
            "cells": {
             "fill": {
              "color": "#EBF0F8"
             },
             "line": {
              "color": "white"
             }
            },
            "header": {
             "fill": {
              "color": "#C8D4E3"
             },
             "line": {
              "color": "white"
             }
            },
            "type": "table"
           }
          ]
         },
         "layout": {
          "annotationdefaults": {
           "arrowcolor": "#2a3f5f",
           "arrowhead": 0,
           "arrowwidth": 1
          },
          "autotypenumbers": "strict",
          "coloraxis": {
           "colorbar": {
            "outlinewidth": 0,
            "ticks": ""
           }
          },
          "colorscale": {
           "diverging": [
            [
             0,
             "#8e0152"
            ],
            [
             0.1,
             "#c51b7d"
            ],
            [
             0.2,
             "#de77ae"
            ],
            [
             0.3,
             "#f1b6da"
            ],
            [
             0.4,
             "#fde0ef"
            ],
            [
             0.5,
             "#f7f7f7"
            ],
            [
             0.6,
             "#e6f5d0"
            ],
            [
             0.7,
             "#b8e186"
            ],
            [
             0.8,
             "#7fbc41"
            ],
            [
             0.9,
             "#4d9221"
            ],
            [
             1,
             "#276419"
            ]
           ],
           "sequential": [
            [
             0,
             "#0d0887"
            ],
            [
             0.1111111111111111,
             "#46039f"
            ],
            [
             0.2222222222222222,
             "#7201a8"
            ],
            [
             0.3333333333333333,
             "#9c179e"
            ],
            [
             0.4444444444444444,
             "#bd3786"
            ],
            [
             0.5555555555555556,
             "#d8576b"
            ],
            [
             0.6666666666666666,
             "#ed7953"
            ],
            [
             0.7777777777777778,
             "#fb9f3a"
            ],
            [
             0.8888888888888888,
             "#fdca26"
            ],
            [
             1,
             "#f0f921"
            ]
           ],
           "sequentialminus": [
            [
             0,
             "#0d0887"
            ],
            [
             0.1111111111111111,
             "#46039f"
            ],
            [
             0.2222222222222222,
             "#7201a8"
            ],
            [
             0.3333333333333333,
             "#9c179e"
            ],
            [
             0.4444444444444444,
             "#bd3786"
            ],
            [
             0.5555555555555556,
             "#d8576b"
            ],
            [
             0.6666666666666666,
             "#ed7953"
            ],
            [
             0.7777777777777778,
             "#fb9f3a"
            ],
            [
             0.8888888888888888,
             "#fdca26"
            ],
            [
             1,
             "#f0f921"
            ]
           ]
          },
          "colorway": [
           "#636efa",
           "#EF553B",
           "#00cc96",
           "#ab63fa",
           "#FFA15A",
           "#19d3f3",
           "#FF6692",
           "#B6E880",
           "#FF97FF",
           "#FECB52"
          ],
          "font": {
           "color": "#2a3f5f"
          },
          "geo": {
           "bgcolor": "white",
           "lakecolor": "white",
           "landcolor": "#E5ECF6",
           "showlakes": true,
           "showland": true,
           "subunitcolor": "white"
          },
          "hoverlabel": {
           "align": "left"
          },
          "hovermode": "closest",
          "mapbox": {
           "style": "light"
          },
          "paper_bgcolor": "white",
          "plot_bgcolor": "#E5ECF6",
          "polar": {
           "angularaxis": {
            "gridcolor": "white",
            "linecolor": "white",
            "ticks": ""
           },
           "bgcolor": "#E5ECF6",
           "radialaxis": {
            "gridcolor": "white",
            "linecolor": "white",
            "ticks": ""
           }
          },
          "scene": {
           "xaxis": {
            "backgroundcolor": "#E5ECF6",
            "gridcolor": "white",
            "gridwidth": 2,
            "linecolor": "white",
            "showbackground": true,
            "ticks": "",
            "zerolinecolor": "white"
           },
           "yaxis": {
            "backgroundcolor": "#E5ECF6",
            "gridcolor": "white",
            "gridwidth": 2,
            "linecolor": "white",
            "showbackground": true,
            "ticks": "",
            "zerolinecolor": "white"
           },
           "zaxis": {
            "backgroundcolor": "#E5ECF6",
            "gridcolor": "white",
            "gridwidth": 2,
            "linecolor": "white",
            "showbackground": true,
            "ticks": "",
            "zerolinecolor": "white"
           }
          },
          "shapedefaults": {
           "line": {
            "color": "#2a3f5f"
           }
          },
          "ternary": {
           "aaxis": {
            "gridcolor": "white",
            "linecolor": "white",
            "ticks": ""
           },
           "baxis": {
            "gridcolor": "white",
            "linecolor": "white",
            "ticks": ""
           },
           "bgcolor": "#E5ECF6",
           "caxis": {
            "gridcolor": "white",
            "linecolor": "white",
            "ticks": ""
           }
          },
          "title": {
           "x": 0.05
          },
          "xaxis": {
           "automargin": true,
           "gridcolor": "white",
           "linecolor": "white",
           "ticks": "",
           "title": {
            "standoff": 15
           },
           "zerolinecolor": "white",
           "zerolinewidth": 2
          },
          "yaxis": {
           "automargin": true,
           "gridcolor": "white",
           "linecolor": "white",
           "ticks": "",
           "title": {
            "standoff": 15
           },
           "zerolinecolor": "white",
           "zerolinewidth": 2
          }
         }
        },
        "title": {
         "font": {
          "color": "#4D5663"
         }
        },
        "xaxis": {
         "gridcolor": "#E1E5ED",
         "showgrid": true,
         "tickfont": {
          "color": "#4D5663"
         },
         "title": {
          "font": {
           "color": "#4D5663"
          },
          "text": ""
         },
         "zerolinecolor": "#E1E5ED"
        },
        "yaxis": {
         "gridcolor": "#E1E5ED",
         "showgrid": true,
         "tickfont": {
          "color": "#4D5663"
         },
         "title": {
          "font": {
           "color": "#4D5663"
          },
          "text": ""
         },
         "zerolinecolor": "#E1E5ED"
        }
       }
      },
      "text/html": [
       "<div>                            <div id=\"e4040311-9058-41b3-9cc9-02e50b09429b\" class=\"plotly-graph-div\" style=\"height:525px; width:100%;\"></div>            <script type=\"text/javascript\">                require([\"plotly\"], function(Plotly) {                    window.PLOTLYENV=window.PLOTLYENV || {};\n",
       "                    window.PLOTLYENV.BASE_URL='https://plot.ly';                                    if (document.getElementById(\"e4040311-9058-41b3-9cc9-02e50b09429b\")) {                    Plotly.newPlot(                        \"e4040311-9058-41b3-9cc9-02e50b09429b\",                        [{\"marker\":{\"color\":\"rgba(255, 153, 51, 0.6)\",\"line\":{\"color\":\"rgba(255, 153, 51, 1.0)\",\"width\":1}},\"name\":\"artist\",\"orientation\":\"v\",\"text\":\"\",\"x\":[\"Dua Lipa\",\"Jason Mraz\",\"TOTO\",\"The Police\",\"Paulo Londra\",\"CNCO, Yandel\",\"Eminem\",\"Ozuna\",\"J Balvin, Zion & Lennox\",\"J Balvin\",\"Rauw Alejandro\",\"Sebastian Yatra, Mau y Ricky\",\"Wisin\",\"Lorde\",\"Sebastian Yatra, Reik\",\"Thalia, Natti Natasha\",\"Shawn Mendes\",\"Mabel\",\"Sebastian Yatra, Daddy Yankee, Natti Natasha, Jonas Brothers\",\"Dalex, Lenny Tavarez, Anitta, Natti Natasha, Farruko, Justin Quiles\",\"Anuel AA\",\"Nicky Jam, Sech\",\"Ofenbach\",\"Kevin Roldan, Bryant Myers, Lyanno\",\"Quavo\"],\"y\":[720,462,459,369,291,241,233,218,209,203,202,189,182,165,145,133,110,109,107,101,93,91,84,84,77],\"type\":\"bar\"}],                        {\"legend\":{\"bgcolor\":\"#F5F6F9\",\"font\":{\"color\":\"#4D5663\"}},\"paper_bgcolor\":\"#F5F6F9\",\"plot_bgcolor\":\"#F5F6F9\",\"template\":{\"data\":{\"barpolar\":[{\"marker\":{\"line\":{\"color\":\"#E5ECF6\",\"width\":0.5},\"pattern\":{\"fillmode\":\"overlay\",\"size\":10,\"solidity\":0.2}},\"type\":\"barpolar\"}],\"bar\":[{\"error_x\":{\"color\":\"#2a3f5f\"},\"error_y\":{\"color\":\"#2a3f5f\"},\"marker\":{\"line\":{\"color\":\"#E5ECF6\",\"width\":0.5},\"pattern\":{\"fillmode\":\"overlay\",\"size\":10,\"solidity\":0.2}},\"type\":\"bar\"}],\"carpet\":[{\"aaxis\":{\"endlinecolor\":\"#2a3f5f\",\"gridcolor\":\"white\",\"linecolor\":\"white\",\"minorgridcolor\":\"white\",\"startlinecolor\":\"#2a3f5f\"},\"baxis\":{\"endlinecolor\":\"#2a3f5f\",\"gridcolor\":\"white\",\"linecolor\":\"white\",\"minorgridcolor\":\"white\",\"startlinecolor\":\"#2a3f5f\"},\"type\":\"carpet\"}],\"choropleth\":[{\"colorbar\":{\"outlinewidth\":0,\"ticks\":\"\"},\"type\":\"choropleth\"}],\"contourcarpet\":[{\"colorbar\":{\"outlinewidth\":0,\"ticks\":\"\"},\"type\":\"contourcarpet\"}],\"contour\":[{\"colorbar\":{\"outlinewidth\":0,\"ticks\":\"\"},\"colorscale\":[[0.0,\"#0d0887\"],[0.1111111111111111,\"#46039f\"],[0.2222222222222222,\"#7201a8\"],[0.3333333333333333,\"#9c179e\"],[0.4444444444444444,\"#bd3786\"],[0.5555555555555556,\"#d8576b\"],[0.6666666666666666,\"#ed7953\"],[0.7777777777777778,\"#fb9f3a\"],[0.8888888888888888,\"#fdca26\"],[1.0,\"#f0f921\"]],\"type\":\"contour\"}],\"heatmapgl\":[{\"colorbar\":{\"outlinewidth\":0,\"ticks\":\"\"},\"colorscale\":[[0.0,\"#0d0887\"],[0.1111111111111111,\"#46039f\"],[0.2222222222222222,\"#7201a8\"],[0.3333333333333333,\"#9c179e\"],[0.4444444444444444,\"#bd3786\"],[0.5555555555555556,\"#d8576b\"],[0.6666666666666666,\"#ed7953\"],[0.7777777777777778,\"#fb9f3a\"],[0.8888888888888888,\"#fdca26\"],[1.0,\"#f0f921\"]],\"type\":\"heatmapgl\"}],\"heatmap\":[{\"colorbar\":{\"outlinewidth\":0,\"ticks\":\"\"},\"colorscale\":[[0.0,\"#0d0887\"],[0.1111111111111111,\"#46039f\"],[0.2222222222222222,\"#7201a8\"],[0.3333333333333333,\"#9c179e\"],[0.4444444444444444,\"#bd3786\"],[0.5555555555555556,\"#d8576b\"],[0.6666666666666666,\"#ed7953\"],[0.7777777777777778,\"#fb9f3a\"],[0.8888888888888888,\"#fdca26\"],[1.0,\"#f0f921\"]],\"type\":\"heatmap\"}],\"histogram2dcontour\":[{\"colorbar\":{\"outlinewidth\":0,\"ticks\":\"\"},\"colorscale\":[[0.0,\"#0d0887\"],[0.1111111111111111,\"#46039f\"],[0.2222222222222222,\"#7201a8\"],[0.3333333333333333,\"#9c179e\"],[0.4444444444444444,\"#bd3786\"],[0.5555555555555556,\"#d8576b\"],[0.6666666666666666,\"#ed7953\"],[0.7777777777777778,\"#fb9f3a\"],[0.8888888888888888,\"#fdca26\"],[1.0,\"#f0f921\"]],\"type\":\"histogram2dcontour\"}],\"histogram2d\":[{\"colorbar\":{\"outlinewidth\":0,\"ticks\":\"\"},\"colorscale\":[[0.0,\"#0d0887\"],[0.1111111111111111,\"#46039f\"],[0.2222222222222222,\"#7201a8\"],[0.3333333333333333,\"#9c179e\"],[0.4444444444444444,\"#bd3786\"],[0.5555555555555556,\"#d8576b\"],[0.6666666666666666,\"#ed7953\"],[0.7777777777777778,\"#fb9f3a\"],[0.8888888888888888,\"#fdca26\"],[1.0,\"#f0f921\"]],\"type\":\"histogram2d\"}],\"histogram\":[{\"marker\":{\"pattern\":{\"fillmode\":\"overlay\",\"size\":10,\"solidity\":0.2}},\"type\":\"histogram\"}],\"mesh3d\":[{\"colorbar\":{\"outlinewidth\":0,\"ticks\":\"\"},\"type\":\"mesh3d\"}],\"parcoords\":[{\"line\":{\"colorbar\":{\"outlinewidth\":0,\"ticks\":\"\"}},\"type\":\"parcoords\"}],\"pie\":[{\"automargin\":true,\"type\":\"pie\"}],\"scatter3d\":[{\"line\":{\"colorbar\":{\"outlinewidth\":0,\"ticks\":\"\"}},\"marker\":{\"colorbar\":{\"outlinewidth\":0,\"ticks\":\"\"}},\"type\":\"scatter3d\"}],\"scattercarpet\":[{\"marker\":{\"colorbar\":{\"outlinewidth\":0,\"ticks\":\"\"}},\"type\":\"scattercarpet\"}],\"scattergeo\":[{\"marker\":{\"colorbar\":{\"outlinewidth\":0,\"ticks\":\"\"}},\"type\":\"scattergeo\"}],\"scattergl\":[{\"marker\":{\"colorbar\":{\"outlinewidth\":0,\"ticks\":\"\"}},\"type\":\"scattergl\"}],\"scattermapbox\":[{\"marker\":{\"colorbar\":{\"outlinewidth\":0,\"ticks\":\"\"}},\"type\":\"scattermapbox\"}],\"scatterpolargl\":[{\"marker\":{\"colorbar\":{\"outlinewidth\":0,\"ticks\":\"\"}},\"type\":\"scatterpolargl\"}],\"scatterpolar\":[{\"marker\":{\"colorbar\":{\"outlinewidth\":0,\"ticks\":\"\"}},\"type\":\"scatterpolar\"}],\"scatter\":[{\"fillpattern\":{\"fillmode\":\"overlay\",\"size\":10,\"solidity\":0.2},\"type\":\"scatter\"}],\"scatterternary\":[{\"marker\":{\"colorbar\":{\"outlinewidth\":0,\"ticks\":\"\"}},\"type\":\"scatterternary\"}],\"surface\":[{\"colorbar\":{\"outlinewidth\":0,\"ticks\":\"\"},\"colorscale\":[[0.0,\"#0d0887\"],[0.1111111111111111,\"#46039f\"],[0.2222222222222222,\"#7201a8\"],[0.3333333333333333,\"#9c179e\"],[0.4444444444444444,\"#bd3786\"],[0.5555555555555556,\"#d8576b\"],[0.6666666666666666,\"#ed7953\"],[0.7777777777777778,\"#fb9f3a\"],[0.8888888888888888,\"#fdca26\"],[1.0,\"#f0f921\"]],\"type\":\"surface\"}],\"table\":[{\"cells\":{\"fill\":{\"color\":\"#EBF0F8\"},\"line\":{\"color\":\"white\"}},\"header\":{\"fill\":{\"color\":\"#C8D4E3\"},\"line\":{\"color\":\"white\"}},\"type\":\"table\"}]},\"layout\":{\"annotationdefaults\":{\"arrowcolor\":\"#2a3f5f\",\"arrowhead\":0,\"arrowwidth\":1},\"autotypenumbers\":\"strict\",\"coloraxis\":{\"colorbar\":{\"outlinewidth\":0,\"ticks\":\"\"}},\"colorscale\":{\"diverging\":[[0,\"#8e0152\"],[0.1,\"#c51b7d\"],[0.2,\"#de77ae\"],[0.3,\"#f1b6da\"],[0.4,\"#fde0ef\"],[0.5,\"#f7f7f7\"],[0.6,\"#e6f5d0\"],[0.7,\"#b8e186\"],[0.8,\"#7fbc41\"],[0.9,\"#4d9221\"],[1,\"#276419\"]],\"sequential\":[[0.0,\"#0d0887\"],[0.1111111111111111,\"#46039f\"],[0.2222222222222222,\"#7201a8\"],[0.3333333333333333,\"#9c179e\"],[0.4444444444444444,\"#bd3786\"],[0.5555555555555556,\"#d8576b\"],[0.6666666666666666,\"#ed7953\"],[0.7777777777777778,\"#fb9f3a\"],[0.8888888888888888,\"#fdca26\"],[1.0,\"#f0f921\"]],\"sequentialminus\":[[0.0,\"#0d0887\"],[0.1111111111111111,\"#46039f\"],[0.2222222222222222,\"#7201a8\"],[0.3333333333333333,\"#9c179e\"],[0.4444444444444444,\"#bd3786\"],[0.5555555555555556,\"#d8576b\"],[0.6666666666666666,\"#ed7953\"],[0.7777777777777778,\"#fb9f3a\"],[0.8888888888888888,\"#fdca26\"],[1.0,\"#f0f921\"]]},\"colorway\":[\"#636efa\",\"#EF553B\",\"#00cc96\",\"#ab63fa\",\"#FFA15A\",\"#19d3f3\",\"#FF6692\",\"#B6E880\",\"#FF97FF\",\"#FECB52\"],\"font\":{\"color\":\"#2a3f5f\"},\"geo\":{\"bgcolor\":\"white\",\"lakecolor\":\"white\",\"landcolor\":\"#E5ECF6\",\"showlakes\":true,\"showland\":true,\"subunitcolor\":\"white\"},\"hoverlabel\":{\"align\":\"left\"},\"hovermode\":\"closest\",\"mapbox\":{\"style\":\"light\"},\"paper_bgcolor\":\"white\",\"plot_bgcolor\":\"#E5ECF6\",\"polar\":{\"angularaxis\":{\"gridcolor\":\"white\",\"linecolor\":\"white\",\"ticks\":\"\"},\"bgcolor\":\"#E5ECF6\",\"radialaxis\":{\"gridcolor\":\"white\",\"linecolor\":\"white\",\"ticks\":\"\"}},\"scene\":{\"xaxis\":{\"backgroundcolor\":\"#E5ECF6\",\"gridcolor\":\"white\",\"gridwidth\":2,\"linecolor\":\"white\",\"showbackground\":true,\"ticks\":\"\",\"zerolinecolor\":\"white\"},\"yaxis\":{\"backgroundcolor\":\"#E5ECF6\",\"gridcolor\":\"white\",\"gridwidth\":2,\"linecolor\":\"white\",\"showbackground\":true,\"ticks\":\"\",\"zerolinecolor\":\"white\"},\"zaxis\":{\"backgroundcolor\":\"#E5ECF6\",\"gridcolor\":\"white\",\"gridwidth\":2,\"linecolor\":\"white\",\"showbackground\":true,\"ticks\":\"\",\"zerolinecolor\":\"white\"}},\"shapedefaults\":{\"line\":{\"color\":\"#2a3f5f\"}},\"ternary\":{\"aaxis\":{\"gridcolor\":\"white\",\"linecolor\":\"white\",\"ticks\":\"\"},\"baxis\":{\"gridcolor\":\"white\",\"linecolor\":\"white\",\"ticks\":\"\"},\"bgcolor\":\"#E5ECF6\",\"caxis\":{\"gridcolor\":\"white\",\"linecolor\":\"white\",\"ticks\":\"\"}},\"title\":{\"x\":0.05},\"xaxis\":{\"automargin\":true,\"gridcolor\":\"white\",\"linecolor\":\"white\",\"ticks\":\"\",\"title\":{\"standoff\":15},\"zerolinecolor\":\"white\",\"zerolinewidth\":2},\"yaxis\":{\"automargin\":true,\"gridcolor\":\"white\",\"linecolor\":\"white\",\"ticks\":\"\",\"title\":{\"standoff\":15},\"zerolinecolor\":\"white\",\"zerolinewidth\":2}}},\"title\":{\"font\":{\"color\":\"#4D5663\"}},\"xaxis\":{\"gridcolor\":\"#E1E5ED\",\"showgrid\":true,\"tickfont\":{\"color\":\"#4D5663\"},\"title\":{\"font\":{\"color\":\"#4D5663\"},\"text\":\"\"},\"zerolinecolor\":\"#E1E5ED\"},\"yaxis\":{\"gridcolor\":\"#E1E5ED\",\"showgrid\":true,\"tickfont\":{\"color\":\"#4D5663\"},\"title\":{\"font\":{\"color\":\"#4D5663\"},\"text\":\"\"},\"zerolinecolor\":\"#E1E5ED\"}},                        {\"showLink\": true, \"linkText\": \"Export to plot.ly\", \"plotlyServerURL\": \"https://plot.ly\", \"responsive\": true}                    ).then(function(){\n",
       "                            \n",
       "var gd = document.getElementById('e4040311-9058-41b3-9cc9-02e50b09429b');\n",
       "var x = new MutationObserver(function (mutations, observer) {{\n",
       "        var display = window.getComputedStyle(gd).display;\n",
       "        if (!display || display === 'none') {{\n",
       "            console.log([gd, 'removed!']);\n",
       "            Plotly.purge(gd);\n",
       "            observer.disconnect();\n",
       "        }}\n",
       "}});\n",
       "\n",
       "// Listen for the removal of the full notebook cells\n",
       "var notebookContainer = gd.closest('#notebook-container');\n",
       "if (notebookContainer) {{\n",
       "    x.observe(notebookContainer, {childList: true});\n",
       "}}\n",
       "\n",
       "// Listen for the clearing of the current output cell\n",
       "var outputEl = gd.closest('.output');\n",
       "if (outputEl) {{\n",
       "    x.observe(outputEl, {childList: true});\n",
       "}}\n",
       "\n",
       "                        })                };                });            </script>        </div>"
      ]
     },
     "metadata": {},
     "output_type": "display_data"
    }
   ],
   "source": [
    "top200['artist'].value_counts().head(25).iplot(kind='bar')"
   ]
  },
  {
   "cell_type": "markdown",
   "metadata": {},
   "source": [
    "## 3.1 Numerical Features"
   ]
  },
  {
   "cell_type": "code",
   "execution_count": 48,
   "metadata": {},
   "outputs": [
    {
     "data": {
      "text/plain": [
       "title           0\n",
       "rank            0\n",
       "date            0\n",
       "artist          0\n",
       "region          0\n",
       "chart           0\n",
       "streams         0\n",
       "popularity      0\n",
       "danceability    0\n",
       "valence         0\n",
       "energy          0\n",
       "explicit        0\n",
       "key             0\n",
       "liveness        0\n",
       "loudness        0\n",
       "speechiness     0\n",
       "tempo           0\n",
       "dtype: int64"
      ]
     },
     "execution_count": 48,
     "metadata": {},
     "output_type": "execute_result"
    }
   ],
   "source": [
    "top200.isna().sum()"
   ]
  },
  {
   "cell_type": "code",
   "execution_count": 47,
   "metadata": {},
   "outputs": [
    {
     "data": {
      "text/html": [
       "<div>\n",
       "<style scoped>\n",
       "    .dataframe tbody tr th:only-of-type {\n",
       "        vertical-align: middle;\n",
       "    }\n",
       "\n",
       "    .dataframe tbody tr th {\n",
       "        vertical-align: top;\n",
       "    }\n",
       "\n",
       "    .dataframe thead th {\n",
       "        text-align: right;\n",
       "    }\n",
       "</style>\n",
       "<table border=\"1\" class=\"dataframe\">\n",
       "  <thead>\n",
       "    <tr style=\"text-align: right;\">\n",
       "      <th></th>\n",
       "      <th>rank</th>\n",
       "      <th>date</th>\n",
       "      <th>streams</th>\n",
       "      <th>popularity</th>\n",
       "      <th>danceability</th>\n",
       "      <th>valence</th>\n",
       "      <th>energy</th>\n",
       "      <th>explicit</th>\n",
       "      <th>key</th>\n",
       "      <th>liveness</th>\n",
       "      <th>loudness</th>\n",
       "      <th>speechiness</th>\n",
       "      <th>tempo</th>\n",
       "    </tr>\n",
       "  </thead>\n",
       "  <tbody>\n",
       "    <tr>\n",
       "      <th>8</th>\n",
       "      <td>116</td>\n",
       "      <td>2017-01-01</td>\n",
       "      <td>487214.0</td>\n",
       "      <td>67</td>\n",
       "      <td>0.777</td>\n",
       "      <td>0.704</td>\n",
       "      <td>0.911</td>\n",
       "      <td>0</td>\n",
       "      <td>6</td>\n",
       "      <td>0.257</td>\n",
       "      <td>-3.223</td>\n",
       "      <td>0.1730</td>\n",
       "      <td>96.017</td>\n",
       "    </tr>\n",
       "    <tr>\n",
       "      <th>31</th>\n",
       "      <td>144</td>\n",
       "      <td>2017-01-02</td>\n",
       "      <td>435983.0</td>\n",
       "      <td>67</td>\n",
       "      <td>0.777</td>\n",
       "      <td>0.704</td>\n",
       "      <td>0.911</td>\n",
       "      <td>0</td>\n",
       "      <td>6</td>\n",
       "      <td>0.257</td>\n",
       "      <td>-3.223</td>\n",
       "      <td>0.1730</td>\n",
       "      <td>96.017</td>\n",
       "    </tr>\n",
       "    <tr>\n",
       "      <th>63</th>\n",
       "      <td>79</td>\n",
       "      <td>2017-02-01</td>\n",
       "      <td>737527.0</td>\n",
       "      <td>67</td>\n",
       "      <td>0.777</td>\n",
       "      <td>0.704</td>\n",
       "      <td>0.911</td>\n",
       "      <td>0</td>\n",
       "      <td>6</td>\n",
       "      <td>0.257</td>\n",
       "      <td>-3.223</td>\n",
       "      <td>0.1730</td>\n",
       "      <td>96.017</td>\n",
       "    </tr>\n",
       "    <tr>\n",
       "      <th>71</th>\n",
       "      <td>145</td>\n",
       "      <td>2017-01-03</td>\n",
       "      <td>463393.0</td>\n",
       "      <td>67</td>\n",
       "      <td>0.777</td>\n",
       "      <td>0.704</td>\n",
       "      <td>0.911</td>\n",
       "      <td>0</td>\n",
       "      <td>6</td>\n",
       "      <td>0.257</td>\n",
       "      <td>-3.223</td>\n",
       "      <td>0.1730</td>\n",
       "      <td>96.017</td>\n",
       "    </tr>\n",
       "    <tr>\n",
       "      <th>93</th>\n",
       "      <td>79</td>\n",
       "      <td>2017-02-02</td>\n",
       "      <td>750369.0</td>\n",
       "      <td>67</td>\n",
       "      <td>0.777</td>\n",
       "      <td>0.704</td>\n",
       "      <td>0.911</td>\n",
       "      <td>0</td>\n",
       "      <td>6</td>\n",
       "      <td>0.257</td>\n",
       "      <td>-3.223</td>\n",
       "      <td>0.1730</td>\n",
       "      <td>96.017</td>\n",
       "    </tr>\n",
       "    <tr>\n",
       "      <th>...</th>\n",
       "      <td>...</td>\n",
       "      <td>...</td>\n",
       "      <td>...</td>\n",
       "      <td>...</td>\n",
       "      <td>...</td>\n",
       "      <td>...</td>\n",
       "      <td>...</td>\n",
       "      <td>...</td>\n",
       "      <td>...</td>\n",
       "      <td>...</td>\n",
       "      <td>...</td>\n",
       "      <td>...</td>\n",
       "      <td>...</td>\n",
       "    </tr>\n",
       "    <tr>\n",
       "      <th>399103</th>\n",
       "      <td>64</td>\n",
       "      <td>2020-07-24</td>\n",
       "      <td>1531025.0</td>\n",
       "      <td>66</td>\n",
       "      <td>0.794</td>\n",
       "      <td>0.831</td>\n",
       "      <td>0.845</td>\n",
       "      <td>1</td>\n",
       "      <td>1</td>\n",
       "      <td>0.124</td>\n",
       "      <td>-6.118</td>\n",
       "      <td>0.3870</td>\n",
       "      <td>93.939</td>\n",
       "    </tr>\n",
       "    <tr>\n",
       "      <th>399115</th>\n",
       "      <td>155</td>\n",
       "      <td>2020-07-25</td>\n",
       "      <td>794634.0</td>\n",
       "      <td>66</td>\n",
       "      <td>0.794</td>\n",
       "      <td>0.831</td>\n",
       "      <td>0.845</td>\n",
       "      <td>1</td>\n",
       "      <td>1</td>\n",
       "      <td>0.124</td>\n",
       "      <td>-6.118</td>\n",
       "      <td>0.3870</td>\n",
       "      <td>93.939</td>\n",
       "    </tr>\n",
       "    <tr>\n",
       "      <th>404222</th>\n",
       "      <td>139</td>\n",
       "      <td>2017-11-01</td>\n",
       "      <td>587582.0</td>\n",
       "      <td>58</td>\n",
       "      <td>0.926</td>\n",
       "      <td>0.656</td>\n",
       "      <td>0.544</td>\n",
       "      <td>1</td>\n",
       "      <td>5</td>\n",
       "      <td>0.112</td>\n",
       "      <td>-6.827</td>\n",
       "      <td>0.0727</td>\n",
       "      <td>115.951</td>\n",
       "    </tr>\n",
       "    <tr>\n",
       "      <th>404226</th>\n",
       "      <td>189</td>\n",
       "      <td>2017-11-02</td>\n",
       "      <td>496387.0</td>\n",
       "      <td>58</td>\n",
       "      <td>0.926</td>\n",
       "      <td>0.656</td>\n",
       "      <td>0.544</td>\n",
       "      <td>1</td>\n",
       "      <td>5</td>\n",
       "      <td>0.112</td>\n",
       "      <td>-6.827</td>\n",
       "      <td>0.0727</td>\n",
       "      <td>115.951</td>\n",
       "    </tr>\n",
       "    <tr>\n",
       "      <th>404240</th>\n",
       "      <td>142</td>\n",
       "      <td>2017-10-31</td>\n",
       "      <td>625681.0</td>\n",
       "      <td>58</td>\n",
       "      <td>0.926</td>\n",
       "      <td>0.656</td>\n",
       "      <td>0.544</td>\n",
       "      <td>1</td>\n",
       "      <td>5</td>\n",
       "      <td>0.112</td>\n",
       "      <td>-6.827</td>\n",
       "      <td>0.0727</td>\n",
       "      <td>115.951</td>\n",
       "    </tr>\n",
       "  </tbody>\n",
       "</table>\n",
       "<p>6595 rows × 13 columns</p>\n",
       "</div>"
      ],
      "text/plain": [
       "        rank       date    streams  popularity  danceability  valence  energy  \\\n",
       "8        116 2017-01-01   487214.0          67         0.777    0.704   0.911   \n",
       "31       144 2017-01-02   435983.0          67         0.777    0.704   0.911   \n",
       "63        79 2017-02-01   737527.0          67         0.777    0.704   0.911   \n",
       "71       145 2017-01-03   463393.0          67         0.777    0.704   0.911   \n",
       "93        79 2017-02-02   750369.0          67         0.777    0.704   0.911   \n",
       "...      ...        ...        ...         ...           ...      ...     ...   \n",
       "399103    64 2020-07-24  1531025.0          66         0.794    0.831   0.845   \n",
       "399115   155 2020-07-25   794634.0          66         0.794    0.831   0.845   \n",
       "404222   139 2017-11-01   587582.0          58         0.926    0.656   0.544   \n",
       "404226   189 2017-11-02   496387.0          58         0.926    0.656   0.544   \n",
       "404240   142 2017-10-31   625681.0          58         0.926    0.656   0.544   \n",
       "\n",
       "        explicit  key  liveness  loudness  speechiness    tempo  \n",
       "8              0    6     0.257    -3.223       0.1730   96.017  \n",
       "31             0    6     0.257    -3.223       0.1730   96.017  \n",
       "63             0    6     0.257    -3.223       0.1730   96.017  \n",
       "71             0    6     0.257    -3.223       0.1730   96.017  \n",
       "93             0    6     0.257    -3.223       0.1730   96.017  \n",
       "...          ...  ...       ...       ...          ...      ...  \n",
       "399103         1    1     0.124    -6.118       0.3870   93.939  \n",
       "399115         1    1     0.124    -6.118       0.3870   93.939  \n",
       "404222         1    5     0.112    -6.827       0.0727  115.951  \n",
       "404226         1    5     0.112    -6.827       0.0727  115.951  \n",
       "404240         1    5     0.112    -6.827       0.0727  115.951  \n",
       "\n",
       "[6595 rows x 13 columns]"
      ]
     },
     "execution_count": 47,
     "metadata": {},
     "output_type": "execute_result"
    }
   ],
   "source": [
    "spotify_num = top200.select_dtypes(exclude = ['object'])\n",
    "spotify_num"
   ]
  },
  {
   "cell_type": "markdown",
   "metadata": {},
   "source": [
    "## 3.2 Correlations"
   ]
  },
  {
   "cell_type": "code",
   "execution_count": 49,
   "metadata": {},
   "outputs": [
    {
     "data": {
      "image/png": "[encoded data removed]",
      "text/plain": [
       "<Figure size 800x800 with 2 Axes>"
      ]
     },
     "metadata": {},
     "output_type": "display_data"
    }
   ],
   "source": [
    "plt.figure(figsize=(8,8))\n",
    "\n",
    "sns.heatmap(spotify_num.corr(),\n",
    "            annot = True,\n",
    "            annot_kws = {\"fontsize\":10},\n",
    "            cmap='PuRd');"
   ]
  },
  {
   "cell_type": "code",
   "execution_count": null,
   "metadata": {},
   "outputs": [],
   "source": []
  }
 ],
 "metadata": {
  "kernelspec": {
   "display_name": "lewagon",
   "language": "python",
   "name": "python3"
  },
  "language_info": {
   "codemirror_mode": {
    "name": "ipython",
    "version": 3
   },
   "file_extension": ".py",
   "mimetype": "text/x-python",
   "name": "python",
   "nbconvert_exporter": "python",
   "pygments_lexer": "ipython3",
   "version": "3.10.6"
  },
  "orig_nbformat": 4
 },
 "nbformat": 4,
 "nbformat_minor": 2
}
