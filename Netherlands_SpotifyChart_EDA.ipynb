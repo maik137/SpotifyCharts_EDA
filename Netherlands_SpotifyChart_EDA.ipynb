{
 "cells": [
  {
   "cell_type": "markdown",
   "metadata": {},
   "source": [
    "# An EDA of the Top 50 artists on Spotify"
   ]
  },
  {
   "cell_type": "markdown",
   "metadata": {},
   "source": [
    "__Summary of Dataset__\n",
    "1. Data taken from Kaggle: https://www.kaggle.com/datasets/dhruvildave/spotify-charts\n",
    "2. CSV file includes Top 200 and Viral 50 data from 1 January 2017 till 31 July 2021\n",
    "3. Data organised into following columns:\n",
    "  - Title of song\n",
    "  - Rank of song in Top 200 or Viral 50\n",
    "  - Date\n",
    "  - Artist name\n",
    "  - URL of song\n",
    "  - Region (Country)\n",
    "  - Chart\n",
    "  - Whether the song has moved up, down etc. in chart\n",
    "  - Number of streams"
   ]
  },
  {
   "cell_type": "markdown",
   "metadata": {},
   "source": [
    "## Load libraries and data"
   ]
  },
  {
   "cell_type": "code",
   "execution_count": 1,
   "metadata": {},
   "outputs": [
    {
     "name": "stderr",
     "output_type": "stream",
     "text": [
      "/home/mai/.pyenv/versions/3.10.6/envs/lewagon/lib/python3.10/site-packages/scipy/__init__.py:146: UserWarning: A NumPy version >=1.17.3 and <1.25.0 is required for this version of SciPy (detected version 1.25.1\n",
      "  warnings.warn(f\"A NumPy version >={np_minversion} and <{np_maxversion}\"\n"
     ]
    },
    {
     "data": {
      "text/html": [
       "        <script type=\"text/javascript\">\n",
       "        window.PlotlyConfig = {MathJaxConfig: 'local'};\n",
       "        if (window.MathJax && window.MathJax.Hub && window.MathJax.Hub.Config) {window.MathJax.Hub.Config({SVG: {font: \"STIX-Web\"}});}\n",
       "        if (typeof require !== 'undefined') {\n",
       "        require.undef(\"plotly\");\n",
       "        requirejs.config({\n",
       "            paths: {\n",
       "                'plotly': ['https://cdn.plot.ly/plotly-2.12.1.min']\n",
       "            }\n",
       "        });\n",
       "        require(['plotly'], function(Plotly) {\n",
       "            window._Plotly = Plotly;\n",
       "        });\n",
       "        }\n",
       "        </script>\n",
       "        "
      ]
     },
     "metadata": {},
     "output_type": "display_data"
    },
    {
     "data": {
      "text/html": [
       "        <script type=\"text/javascript\">\n",
       "        window.PlotlyConfig = {MathJaxConfig: 'local'};\n",
       "        if (window.MathJax && window.MathJax.Hub && window.MathJax.Hub.Config) {window.MathJax.Hub.Config({SVG: {font: \"STIX-Web\"}});}\n",
       "        if (typeof require !== 'undefined') {\n",
       "        require.undef(\"plotly\");\n",
       "        requirejs.config({\n",
       "            paths: {\n",
       "                'plotly': ['https://cdn.plot.ly/plotly-2.12.1.min']\n",
       "            }\n",
       "        });\n",
       "        require(['plotly'], function(Plotly) {\n",
       "            window._Plotly = Plotly;\n",
       "        });\n",
       "        }\n",
       "        </script>\n",
       "        "
      ]
     },
     "metadata": {},
     "output_type": "display_data"
    }
   ],
   "source": [
    "import numpy as np\n",
    "import pandas as pd\n",
    "import matplotlib.pyplot as plt\n",
    "import seaborn as sns\n",
    "\n",
    "from wordcloud import WordCloud\n",
    "from PIL import Image\n",
    "import cufflinks as cf\n",
    "from plotly.offline import plot, iplot, init_notebook_mode\n",
    "init_notebook_mode(connected=True)\n",
    "cf.go_offline()\n",
    "\n",
    "import matplotlib.dates as mdates\n",
    "from unidecode import unidecode"
   ]
  },
  {
   "cell_type": "code",
   "execution_count": 2,
   "metadata": {},
   "outputs": [
    {
     "data": {
      "text/html": [
       "<div>\n",
       "<style scoped>\n",
       "    .dataframe tbody tr th:only-of-type {\n",
       "        vertical-align: middle;\n",
       "    }\n",
       "\n",
       "    .dataframe tbody tr th {\n",
       "        vertical-align: top;\n",
       "    }\n",
       "\n",
       "    .dataframe thead th {\n",
       "        text-align: right;\n",
       "    }\n",
       "</style>\n",
       "<table border=\"1\" class=\"dataframe\">\n",
       "  <thead>\n",
       "    <tr style=\"text-align: right;\">\n",
       "      <th></th>\n",
       "      <th>title</th>\n",
       "      <th>rank</th>\n",
       "      <th>date</th>\n",
       "      <th>artist</th>\n",
       "      <th>region</th>\n",
       "      <th>chart</th>\n",
       "      <th>streams</th>\n",
       "    </tr>\n",
       "  </thead>\n",
       "  <tbody>\n",
       "    <tr>\n",
       "      <th>0</th>\n",
       "      <td>Chantaje (feat. Maluma)</td>\n",
       "      <td>1</td>\n",
       "      <td>2017-01-01</td>\n",
       "      <td>Shakira</td>\n",
       "      <td>Argentina</td>\n",
       "      <td>top200</td>\n",
       "      <td>253019.0</td>\n",
       "    </tr>\n",
       "    <tr>\n",
       "      <th>1</th>\n",
       "      <td>Vente Pa' Ca (feat. Maluma)</td>\n",
       "      <td>2</td>\n",
       "      <td>2017-01-01</td>\n",
       "      <td>Ricky Martin</td>\n",
       "      <td>Argentina</td>\n",
       "      <td>top200</td>\n",
       "      <td>223988.0</td>\n",
       "    </tr>\n",
       "    <tr>\n",
       "      <th>2</th>\n",
       "      <td>Reggaetón Lento (Bailemos)</td>\n",
       "      <td>3</td>\n",
       "      <td>2017-01-01</td>\n",
       "      <td>CNCO</td>\n",
       "      <td>Argentina</td>\n",
       "      <td>top200</td>\n",
       "      <td>210943.0</td>\n",
       "    </tr>\n",
       "    <tr>\n",
       "      <th>3</th>\n",
       "      <td>Safari</td>\n",
       "      <td>4</td>\n",
       "      <td>2017-01-01</td>\n",
       "      <td>J Balvin, Pharrell Williams, BIA, Sky</td>\n",
       "      <td>Argentina</td>\n",
       "      <td>top200</td>\n",
       "      <td>173865.0</td>\n",
       "    </tr>\n",
       "    <tr>\n",
       "      <th>4</th>\n",
       "      <td>Shaky Shaky</td>\n",
       "      <td>5</td>\n",
       "      <td>2017-01-01</td>\n",
       "      <td>Daddy Yankee</td>\n",
       "      <td>Argentina</td>\n",
       "      <td>top200</td>\n",
       "      <td>153956.0</td>\n",
       "    </tr>\n",
       "  </tbody>\n",
       "</table>\n",
       "</div>"
      ],
      "text/plain": [
       "                         title  rank        date  \\\n",
       "0      Chantaje (feat. Maluma)     1  2017-01-01   \n",
       "1  Vente Pa' Ca (feat. Maluma)     2  2017-01-01   \n",
       "2   Reggaetón Lento (Bailemos)     3  2017-01-01   \n",
       "3                       Safari     4  2017-01-01   \n",
       "4                  Shaky Shaky     5  2017-01-01   \n",
       "\n",
       "                                  artist     region   chart   streams  \n",
       "0                                Shakira  Argentina  top200  253019.0  \n",
       "1                           Ricky Martin  Argentina  top200  223988.0  \n",
       "2                                   CNCO  Argentina  top200  210943.0  \n",
       "3  J Balvin, Pharrell Williams, BIA, Sky  Argentina  top200  173865.0  \n",
       "4                           Daddy Yankee  Argentina  top200  153956.0  "
      ]
     },
     "execution_count": 2,
     "metadata": {},
     "output_type": "execute_result"
    }
   ],
   "source": [
    "# columns of interest, so to not upload entire CSV\n",
    "cols_int = ['title','rank','date','artist','region','chart','streams']\n",
    "\n",
    "df = pd.read_csv('data/charts.csv', usecols=cols_int)\n",
    "df.head()"
   ]
  },
  {
   "cell_type": "code",
   "execution_count": 3,
   "metadata": {},
   "outputs": [
    {
     "data": {
      "text/plain": [
       "top200     20321904\n",
       "viral50     5851610\n",
       "Name: chart, dtype: int64"
      ]
     },
     "execution_count": 3,
     "metadata": {},
     "output_type": "execute_result"
    }
   ],
   "source": [
    "# Checking chart types logged\n",
    "df['chart'].value_counts()"
   ]
  },
  {
   "cell_type": "code",
   "execution_count": 4,
   "metadata": {},
   "outputs": [
    {
     "data": {
      "text/html": [
       "<div>\n",
       "<style scoped>\n",
       "    .dataframe tbody tr th:only-of-type {\n",
       "        vertical-align: middle;\n",
       "    }\n",
       "\n",
       "    .dataframe tbody tr th {\n",
       "        vertical-align: top;\n",
       "    }\n",
       "\n",
       "    .dataframe thead th {\n",
       "        text-align: right;\n",
       "    }\n",
       "</style>\n",
       "<table border=\"1\" class=\"dataframe\">\n",
       "  <thead>\n",
       "    <tr style=\"text-align: right;\">\n",
       "      <th></th>\n",
       "      <th>title</th>\n",
       "      <th>rank</th>\n",
       "      <th>date</th>\n",
       "      <th>artist</th>\n",
       "      <th>region</th>\n",
       "      <th>chart</th>\n",
       "      <th>streams</th>\n",
       "    </tr>\n",
       "  </thead>\n",
       "  <tbody>\n",
       "    <tr>\n",
       "      <th>5184</th>\n",
       "      <td>Energie</td>\n",
       "      <td>1</td>\n",
       "      <td>2017-01-01</td>\n",
       "      <td>Ronnie Flex, Frenna</td>\n",
       "      <td>Netherlands</td>\n",
       "      <td>top200</td>\n",
       "      <td>112252.0</td>\n",
       "    </tr>\n",
       "    <tr>\n",
       "      <th>5185</th>\n",
       "      <td>Rockabye (feat. Sean Paul &amp; Anne-Marie)</td>\n",
       "      <td>2</td>\n",
       "      <td>2017-01-01</td>\n",
       "      <td>Clean Bandit</td>\n",
       "      <td>Netherlands</td>\n",
       "      <td>top200</td>\n",
       "      <td>106984.0</td>\n",
       "    </tr>\n",
       "    <tr>\n",
       "      <th>5186</th>\n",
       "      <td>Say You Won't Let Go</td>\n",
       "      <td>3</td>\n",
       "      <td>2017-01-01</td>\n",
       "      <td>James Arthur</td>\n",
       "      <td>Netherlands</td>\n",
       "      <td>top200</td>\n",
       "      <td>96067.0</td>\n",
       "    </tr>\n",
       "    <tr>\n",
       "      <th>5187</th>\n",
       "      <td>Het Is Een Feit</td>\n",
       "      <td>4</td>\n",
       "      <td>2017-01-01</td>\n",
       "      <td>Broederliefde, Emms</td>\n",
       "      <td>Netherlands</td>\n",
       "      <td>top200</td>\n",
       "      <td>91829.0</td>\n",
       "    </tr>\n",
       "    <tr>\n",
       "      <th>5188</th>\n",
       "      <td>Starboy</td>\n",
       "      <td>5</td>\n",
       "      <td>2017-01-01</td>\n",
       "      <td>The Weeknd, Daft Punk</td>\n",
       "      <td>Netherlands</td>\n",
       "      <td>top200</td>\n",
       "      <td>76076.0</td>\n",
       "    </tr>\n",
       "    <tr>\n",
       "      <th>...</th>\n",
       "      <td>...</td>\n",
       "      <td>...</td>\n",
       "      <td>...</td>\n",
       "      <td>...</td>\n",
       "      <td>...</td>\n",
       "      <td>...</td>\n",
       "      <td>...</td>\n",
       "    </tr>\n",
       "    <tr>\n",
       "      <th>26172114</th>\n",
       "      <td>Kindess (Tiguini)</td>\n",
       "      <td>46</td>\n",
       "      <td>2021-07-31</td>\n",
       "      <td>O'Streaming</td>\n",
       "      <td>Netherlands</td>\n",
       "      <td>viral50</td>\n",
       "      <td>NaN</td>\n",
       "    </tr>\n",
       "    <tr>\n",
       "      <th>26172115</th>\n",
       "      <td>Ramenez la coupe à la maison</td>\n",
       "      <td>47</td>\n",
       "      <td>2021-07-31</td>\n",
       "      <td>Vegedream</td>\n",
       "      <td>Netherlands</td>\n",
       "      <td>viral50</td>\n",
       "      <td>NaN</td>\n",
       "    </tr>\n",
       "    <tr>\n",
       "      <th>26172116</th>\n",
       "      <td>Müslüm</td>\n",
       "      <td>48</td>\n",
       "      <td>2021-07-31</td>\n",
       "      <td>Hayat</td>\n",
       "      <td>Netherlands</td>\n",
       "      <td>viral50</td>\n",
       "      <td>NaN</td>\n",
       "    </tr>\n",
       "    <tr>\n",
       "      <th>26172117</th>\n",
       "      <td>Love Tonight</td>\n",
       "      <td>49</td>\n",
       "      <td>2021-07-31</td>\n",
       "      <td>Shouse</td>\n",
       "      <td>Netherlands</td>\n",
       "      <td>viral50</td>\n",
       "      <td>NaN</td>\n",
       "    </tr>\n",
       "    <tr>\n",
       "      <th>26172118</th>\n",
       "      <td>Give It to Me X Won't Look Back</td>\n",
       "      <td>50</td>\n",
       "      <td>2021-07-31</td>\n",
       "      <td>Jake Woolf, Jake Rock</td>\n",
       "      <td>Netherlands</td>\n",
       "      <td>viral50</td>\n",
       "      <td>NaN</td>\n",
       "    </tr>\n",
       "  </tbody>\n",
       "</table>\n",
       "<p>448913 rows × 7 columns</p>\n",
       "</div>"
      ],
      "text/plain": [
       "                                            title  rank        date  \\\n",
       "5184                                      Energie     1  2017-01-01   \n",
       "5185      Rockabye (feat. Sean Paul & Anne-Marie)     2  2017-01-01   \n",
       "5186                         Say You Won't Let Go     3  2017-01-01   \n",
       "5187                              Het Is Een Feit     4  2017-01-01   \n",
       "5188                                      Starboy     5  2017-01-01   \n",
       "...                                           ...   ...         ...   \n",
       "26172114                        Kindess (Tiguini)    46  2021-07-31   \n",
       "26172115             Ramenez la coupe à la maison    47  2021-07-31   \n",
       "26172116                                   Müslüm    48  2021-07-31   \n",
       "26172117                             Love Tonight    49  2021-07-31   \n",
       "26172118          Give It to Me X Won't Look Back    50  2021-07-31   \n",
       "\n",
       "                         artist       region    chart   streams  \n",
       "5184        Ronnie Flex, Frenna  Netherlands   top200  112252.0  \n",
       "5185               Clean Bandit  Netherlands   top200  106984.0  \n",
       "5186               James Arthur  Netherlands   top200   96067.0  \n",
       "5187        Broederliefde, Emms  Netherlands   top200   91829.0  \n",
       "5188      The Weeknd, Daft Punk  Netherlands   top200   76076.0  \n",
       "...                         ...          ...      ...       ...  \n",
       "26172114            O'Streaming  Netherlands  viral50       NaN  \n",
       "26172115              Vegedream  Netherlands  viral50       NaN  \n",
       "26172116                  Hayat  Netherlands  viral50       NaN  \n",
       "26172117                 Shouse  Netherlands  viral50       NaN  \n",
       "26172118  Jake Woolf, Jake Rock  Netherlands  viral50       NaN  \n",
       "\n",
       "[448913 rows x 7 columns]"
      ]
     },
     "execution_count": 4,
     "metadata": {},
     "output_type": "execute_result"
    }
   ],
   "source": [
    "# Checking for how Spotify names The Netherlands\n",
    "df.loc[df['region'] == 'Netherlands']"
   ]
  },
  {
   "cell_type": "markdown",
   "metadata": {},
   "source": [
    "## Top 50 Most Streamed Songs in NL"
   ]
  },
  {
   "cell_type": "markdown",
   "metadata": {},
   "source": [
    "__Summary__"
   ]
  },
  {
   "cell_type": "code",
   "execution_count": 5,
   "metadata": {},
   "outputs": [],
   "source": [
    "# Creating Top 50 songs in NL dataframe\n",
    "top50_NL = df[(df['chart'] == 'top200') & (df['rank'] <= 50) & \n",
    "              ((df['region'] == 'Netherlands'))]"
   ]
  },
  {
   "cell_type": "code",
   "execution_count": 6,
   "metadata": {},
   "outputs": [
    {
     "name": "stdout",
     "output_type": "stream",
     "text": [
      "<class 'pandas.core.frame.DataFrame'>\n",
      "Int64Index: 89495 entries, 5184 to 25262351\n",
      "Data columns (total 7 columns):\n",
      " #   Column   Non-Null Count  Dtype  \n",
      "---  ------   --------------  -----  \n",
      " 0   title    89495 non-null  object \n",
      " 1   rank     89495 non-null  int64  \n",
      " 2   date     89495 non-null  object \n",
      " 3   artist   89495 non-null  object \n",
      " 4   region   89495 non-null  object \n",
      " 5   chart    89495 non-null  object \n",
      " 6   streams  89495 non-null  float64\n",
      "dtypes: float64(1), int64(1), object(5)\n",
      "memory usage: 5.5+ MB\n"
     ]
    }
   ],
   "source": [
    "# Check data types\n",
    "top50_NL.info()"
   ]
  },
  {
   "cell_type": "code",
   "execution_count": 7,
   "metadata": {},
   "outputs": [],
   "source": [
    "# Convert date into datetime type\n",
    "top50_NL['date'] = pd.to_datetime(top50_NL['date'])"
   ]
  },
  {
   "cell_type": "code",
   "execution_count": 8,
   "metadata": {},
   "outputs": [
    {
     "data": {
      "text/html": [
       "<div>\n",
       "<style scoped>\n",
       "    .dataframe tbody tr th:only-of-type {\n",
       "        vertical-align: middle;\n",
       "    }\n",
       "\n",
       "    .dataframe tbody tr th {\n",
       "        vertical-align: top;\n",
       "    }\n",
       "\n",
       "    .dataframe thead th {\n",
       "        text-align: right;\n",
       "    }\n",
       "</style>\n",
       "<table border=\"1\" class=\"dataframe\">\n",
       "  <thead>\n",
       "    <tr style=\"text-align: right;\">\n",
       "      <th></th>\n",
       "      <th>title</th>\n",
       "      <th>rank</th>\n",
       "      <th>date</th>\n",
       "      <th>artist</th>\n",
       "      <th>streams</th>\n",
       "    </tr>\n",
       "  </thead>\n",
       "  <tbody>\n",
       "    <tr>\n",
       "      <th>22501612</th>\n",
       "      <td>Henny Op Een Maandag</td>\n",
       "      <td>19</td>\n",
       "      <td>2021-08-09</td>\n",
       "      <td>Chivv, Broederliefde</td>\n",
       "      <td>95630.0</td>\n",
       "    </tr>\n",
       "    <tr>\n",
       "      <th>2276675</th>\n",
       "      <td>These Days (feat. Jess Glynne, Macklemore &amp; Da...</td>\n",
       "      <td>15</td>\n",
       "      <td>2018-05-27</td>\n",
       "      <td>Rudimental</td>\n",
       "      <td>97037.0</td>\n",
       "    </tr>\n",
       "    <tr>\n",
       "      <th>24559369</th>\n",
       "      <td>rockstar</td>\n",
       "      <td>30</td>\n",
       "      <td>2017-12-25</td>\n",
       "      <td>Post Malone, 21 Savage</td>\n",
       "      <td>95705.0</td>\n",
       "    </tr>\n",
       "    <tr>\n",
       "      <th>11836466</th>\n",
       "      <td>Party</td>\n",
       "      <td>16</td>\n",
       "      <td>2017-05-17</td>\n",
       "      <td>Jonna Fraser, Ronnie Flex</td>\n",
       "      <td>118573.0</td>\n",
       "    </tr>\n",
       "    <tr>\n",
       "      <th>12309548</th>\n",
       "      <td>Halen &amp; Trekken</td>\n",
       "      <td>44</td>\n",
       "      <td>2017-06-28</td>\n",
       "      <td>Lil Kleine, Jonna Fraser</td>\n",
       "      <td>79288.0</td>\n",
       "    </tr>\n",
       "  </tbody>\n",
       "</table>\n",
       "</div>"
      ],
      "text/plain": [
       "                                                      title  rank       date  \\\n",
       "22501612                               Henny Op Een Maandag    19 2021-08-09   \n",
       "2276675   These Days (feat. Jess Glynne, Macklemore & Da...    15 2018-05-27   \n",
       "24559369                                           rockstar    30 2017-12-25   \n",
       "11836466                                              Party    16 2017-05-17   \n",
       "12309548                                    Halen & Trekken    44 2017-06-28   \n",
       "\n",
       "                             artist   streams  \n",
       "22501612       Chivv, Broederliefde   95630.0  \n",
       "2276675                  Rudimental   97037.0  \n",
       "24559369     Post Malone, 21 Savage   95705.0  \n",
       "11836466  Jonna Fraser, Ronnie Flex  118573.0  \n",
       "12309548   Lil Kleine, Jonna Fraser   79288.0  "
      ]
     },
     "execution_count": 8,
     "metadata": {},
     "output_type": "execute_result"
    }
   ],
   "source": [
    "# Drop Region and Chart columns\n",
    "top50_NL.drop(['region','chart'],axis=1,inplace=True)\n",
    "top50_NL.sample(5)"
   ]
  },
  {
   "cell_type": "markdown",
   "metadata": {},
   "source": [
    "## Data Visualization"
   ]
  },
  {
   "cell_type": "markdown",
   "metadata": {},
   "source": [
    "### Artists of Top 50 Streamed Songs [2017-2021]"
   ]
  },
  {
   "cell_type": "code",
   "execution_count": 9,
   "metadata": {},
   "outputs": [],
   "source": [
    "def word_count_visual(freq):\n",
    "    wc = WordCloud(width=1000, height=500,\n",
    "                   max_words=100,\n",
    "                   max_font_size=150,\n",
    "                   colormap='rainbow',\n",
    "                   prefer_horizontal=.95,\n",
    "                   collocations=True,\n",
    "                   background_color='white',random_state=42).generate_from_frequencies(freq)\n",
    "    \n",
    "    plt.figure(figsize=(10,8))\n",
    "    plt.title('Artists on Spotify Top 50 Streamed Songs in NL [2017-2021]')\n",
    "    plt.imshow(wc,interpolation='bilinear')\n",
    "    plt.axis('off')\n",
    "\n",
    "    plt.show;"
   ]
  },
  {
   "cell_type": "code",
   "execution_count": 10,
   "metadata": {},
   "outputs": [],
   "source": [
    "def wc_edit(freq,mask=None):\n",
    "    wc = WordCloud(width=1000, height=500,\n",
    "                   scale=3,\n",
    "                   max_words=100,\n",
    "                   max_font_size=150,\n",
    "                   colormap='rainbow',\n",
    "                   mask=mask,\n",
    "                   prefer_horizontal=.95,\n",
    "                   collocations=True,\n",
    "                   background_color='white',random_state=42).generate_from_frequencies(freq)\n",
    "    \n",
    "    plt.figure(figsize=(10,8))\n",
    "    plt.title('Artists on Spotify Top 50 Streamed Songs in NL [2017-2021]')\n",
    "    plt.imshow(wc,interpolation='bilinear')\n",
    "    plt.axis('off')\n",
    "\n",
    "    plt.show;"
   ]
  },
  {
   "cell_type": "code",
   "execution_count": 11,
   "metadata": {},
   "outputs": [
    {
     "data": {
      "text/plain": [
       "Ed Sheeran       2030\n",
       "Dua Lipa         1362\n",
       "Justin Bieber    1116\n",
       "Boef             1069\n",
       "The Weeknd       1012\n",
       "Name: artist, dtype: int64"
      ]
     },
     "execution_count": 11,
     "metadata": {},
     "output_type": "execute_result"
    }
   ],
   "source": [
    "# Note: This if for 2017-2021\n",
    "top_artists = top50_NL['artist'].value_counts()\n",
    "top_artists.head()"
   ]
  },
  {
   "cell_type": "code",
   "execution_count": 12,
   "metadata": {},
   "outputs": [],
   "source": [
    "NL_mask = np.array(Image.open('data/NL-EPS-01-0001.jpg'))"
   ]
  },
  {
   "cell_type": "code",
   "execution_count": 13,
   "metadata": {},
   "outputs": [
    {
     "data": {
      "image/png": "[encoded data removed]",
      "text/plain": [
       "<Figure size 1000x800 with 1 Axes>"
      ]
     },
     "metadata": {},
     "output_type": "display_data"
    }
   ],
   "source": [
    "word_count_visual(top_artists)"
   ]
  },
  {
   "cell_type": "code",
   "execution_count": 14,
   "metadata": {},
   "outputs": [
    {
     "data": {
      "application/vnd.plotly.v1+json": {
       "config": {
        "linkText": "Export to plot.ly",
        "plotlyServerURL": "https://plot.ly",
        "showLink": true
       },
       "data": [
        {
         "marker": {
          "color": "rgba(255, 153, 51, 0.6)",
          "line": {
           "color": "rgba(255, 153, 51, 1.0)",
           "width": 1
          }
         },
         "name": "artist",
         "orientation": "v",
         "text": "",
         "type": "bar",
         "x": [
          "Ed Sheeran",
          "Dua Lipa",
          "Justin Bieber",
          "Boef",
          "The Weeknd",
          "Ariana Grande",
          "Suzan & Freek",
          "Lil Kleine",
          "Snelle",
          "Drake",
          "Post Malone",
          "Martin Garrix",
          "Billie Eilish",
          "Davina Michelle",
          "Shawn Mendes",
          "Josylvio",
          "Lewis Capaldi",
          "Lil Nas X",
          "Broederliefde",
          "Ava Max",
          "Clean Bandit",
          "Calvin Harris",
          "Danny Vera",
          "Imagine Dragons",
          "Sam Smith",
          "Tones And I",
          "Maroon 5",
          "Camila Cabello",
          "Avicii",
          "Olivia Rodrigo",
          "Maan",
          "Harry Styles",
          "Frenna",
          "Jonas Brothers",
          "Lijpe",
          "Rita Ora",
          "Dopebwoy",
          "Jason Derulo",
          "Pop Smoke",
          "Tiësto",
          "Doja Cat",
          "5 Seconds of Summer",
          "Joel Corry",
          "The Kid LAROI",
          "Sevn Alias",
          "Aya Nakamura",
          "Måneskin",
          "Kris Kross Amsterdam, Maan, Tabitha",
          "Mabel",
          "Kevin, Yade Lauren"
         ],
         "y": [
          2030,
          1362,
          1116,
          1069,
          1012,
          939,
          911,
          886,
          882,
          830,
          775,
          775,
          757,
          726,
          722,
          699,
          669,
          620,
          545,
          544,
          542,
          511,
          499,
          489,
          488,
          452,
          450,
          439,
          434,
          424,
          402,
          395,
          391,
          388,
          382,
          377,
          349,
          346,
          346,
          343,
          339,
          330,
          322,
          307,
          305,
          301,
          301,
          298,
          291,
          289
         ]
        }
       ],
       "layout": {
        "legend": {
         "bgcolor": "#F5F6F9",
         "font": {
          "color": "#4D5663"
         }
        },
        "paper_bgcolor": "#F5F6F9",
        "plot_bgcolor": "#F5F6F9",
        "template": {
         "data": {
          "bar": [
           {
            "error_x": {
             "color": "#2a3f5f"
            },
            "error_y": {
             "color": "#2a3f5f"
            },
            "marker": {
             "line": {
              "color": "#E5ECF6",
              "width": 0.5
             },
             "pattern": {
              "fillmode": "overlay",
              "size": 10,
              "solidity": 0.2
             }
            },
            "type": "bar"
           }
          ],
          "barpolar": [
           {
            "marker": {
             "line": {
              "color": "#E5ECF6",
              "width": 0.5
             },
             "pattern": {
              "fillmode": "overlay",
              "size": 10,
              "solidity": 0.2
             }
            },
            "type": "barpolar"
           }
          ],
          "carpet": [
           {
            "aaxis": {
             "endlinecolor": "#2a3f5f",
             "gridcolor": "white",
             "linecolor": "white",
             "minorgridcolor": "white",
             "startlinecolor": "#2a3f5f"
            },
            "baxis": {
             "endlinecolor": "#2a3f5f",
             "gridcolor": "white",
             "linecolor": "white",
             "minorgridcolor": "white",
             "startlinecolor": "#2a3f5f"
            },
            "type": "carpet"
           }
          ],
          "choropleth": [
           {
            "colorbar": {
             "outlinewidth": 0,
             "ticks": ""
            },
            "type": "choropleth"
           }
          ],
          "contour": [
           {
            "colorbar": {
             "outlinewidth": 0,
             "ticks": ""
            },
            "colorscale": [
             [
              0,
              "#0d0887"
             ],
             [
              0.1111111111111111,
              "#46039f"
             ],
             [
              0.2222222222222222,
              "#7201a8"
             ],
             [
              0.3333333333333333,
              "#9c179e"
             ],
             [
              0.4444444444444444,
              "#bd3786"
             ],
             [
              0.5555555555555556,
              "#d8576b"
             ],
             [
              0.6666666666666666,
              "#ed7953"
             ],
             [
              0.7777777777777778,
              "#fb9f3a"
             ],
             [
              0.8888888888888888,
              "#fdca26"
             ],
             [
              1,
              "#f0f921"
             ]
            ],
            "type": "contour"
           }
          ],
          "contourcarpet": [
           {
            "colorbar": {
             "outlinewidth": 0,
             "ticks": ""
            },
            "type": "contourcarpet"
           }
          ],
          "heatmap": [
           {
            "colorbar": {
             "outlinewidth": 0,
             "ticks": ""
            },
            "colorscale": [
             [
              0,
              "#0d0887"
             ],
             [
              0.1111111111111111,
              "#46039f"
             ],
             [
              0.2222222222222222,
              "#7201a8"
             ],
             [
              0.3333333333333333,
              "#9c179e"
             ],
             [
              0.4444444444444444,
              "#bd3786"
             ],
             [
              0.5555555555555556,
              "#d8576b"
             ],
             [
              0.6666666666666666,
              "#ed7953"
             ],
             [
              0.7777777777777778,
              "#fb9f3a"
             ],
             [
              0.8888888888888888,
              "#fdca26"
             ],
             [
              1,
              "#f0f921"
             ]
            ],
            "type": "heatmap"
           }
          ],
          "heatmapgl": [
           {
            "colorbar": {
             "outlinewidth": 0,
             "ticks": ""
            },
            "colorscale": [
             [
              0,
              "#0d0887"
             ],
             [
              0.1111111111111111,
              "#46039f"
             ],
             [
              0.2222222222222222,
              "#7201a8"
             ],
             [
              0.3333333333333333,
              "#9c179e"
             ],
             [
              0.4444444444444444,
              "#bd3786"
             ],
             [
              0.5555555555555556,
              "#d8576b"
             ],
             [
              0.6666666666666666,
              "#ed7953"
             ],
             [
              0.7777777777777778,
              "#fb9f3a"
             ],
             [
              0.8888888888888888,
              "#fdca26"
             ],
             [
              1,
              "#f0f921"
             ]
            ],
            "type": "heatmapgl"
           }
          ],
          "histogram": [
           {
            "marker": {
             "pattern": {
              "fillmode": "overlay",
              "size": 10,
              "solidity": 0.2
             }
            },
            "type": "histogram"
           }
          ],
          "histogram2d": [
           {
            "colorbar": {
             "outlinewidth": 0,
             "ticks": ""
            },
            "colorscale": [
             [
              0,
              "#0d0887"
             ],
             [
              0.1111111111111111,
              "#46039f"
             ],
             [
              0.2222222222222222,
              "#7201a8"
             ],
             [
              0.3333333333333333,
              "#9c179e"
             ],
             [
              0.4444444444444444,
              "#bd3786"
             ],
             [
              0.5555555555555556,
              "#d8576b"
             ],
             [
              0.6666666666666666,
              "#ed7953"
             ],
             [
              0.7777777777777778,
              "#fb9f3a"
             ],
             [
              0.8888888888888888,
              "#fdca26"
             ],
             [
              1,
              "#f0f921"
             ]
            ],
            "type": "histogram2d"
           }
          ],
          "histogram2dcontour": [
           {
            "colorbar": {
             "outlinewidth": 0,
             "ticks": ""
            },
            "colorscale": [
             [
              0,
              "#0d0887"
             ],
             [
              0.1111111111111111,
              "#46039f"
             ],
             [
              0.2222222222222222,
              "#7201a8"
             ],
             [
              0.3333333333333333,
              "#9c179e"
             ],
             [
              0.4444444444444444,
              "#bd3786"
             ],
             [
              0.5555555555555556,
              "#d8576b"
             ],
             [
              0.6666666666666666,
              "#ed7953"
             ],
             [
              0.7777777777777778,
              "#fb9f3a"
             ],
             [
              0.8888888888888888,
              "#fdca26"
             ],
             [
              1,
              "#f0f921"
             ]
            ],
            "type": "histogram2dcontour"
           }
          ],
          "mesh3d": [
           {
            "colorbar": {
             "outlinewidth": 0,
             "ticks": ""
            },
            "type": "mesh3d"
           }
          ],
          "parcoords": [
           {
            "line": {
             "colorbar": {
              "outlinewidth": 0,
              "ticks": ""
             }
            },
            "type": "parcoords"
           }
          ],
          "pie": [
           {
            "automargin": true,
            "type": "pie"
           }
          ],
          "scatter": [
           {
            "fillpattern": {
             "fillmode": "overlay",
             "size": 10,
             "solidity": 0.2
            },
            "type": "scatter"
           }
          ],
          "scatter3d": [
           {
            "line": {
             "colorbar": {
              "outlinewidth": 0,
              "ticks": ""
             }
            },
            "marker": {
             "colorbar": {
              "outlinewidth": 0,
              "ticks": ""
             }
            },
            "type": "scatter3d"
           }
          ],
          "scattercarpet": [
           {
            "marker": {
             "colorbar": {
              "outlinewidth": 0,
              "ticks": ""
             }
            },
            "type": "scattercarpet"
           }
          ],
          "scattergeo": [
           {
            "marker": {
             "colorbar": {
              "outlinewidth": 0,
              "ticks": ""
             }
            },
            "type": "scattergeo"
           }
          ],
          "scattergl": [
           {
            "marker": {
             "colorbar": {
              "outlinewidth": 0,
              "ticks": ""
             }
            },
            "type": "scattergl"
           }
          ],
          "scattermapbox": [
           {
            "marker": {
             "colorbar": {
              "outlinewidth": 0,
              "ticks": ""
             }
            },
            "type": "scattermapbox"
           }
          ],
          "scatterpolar": [
           {
            "marker": {
             "colorbar": {
              "outlinewidth": 0,
              "ticks": ""
             }
            },
            "type": "scatterpolar"
           }
          ],
          "scatterpolargl": [
           {
            "marker": {
             "colorbar": {
              "outlinewidth": 0,
              "ticks": ""
             }
            },
            "type": "scatterpolargl"
           }
          ],
          "scatterternary": [
           {
            "marker": {
             "colorbar": {
              "outlinewidth": 0,
              "ticks": ""
             }
            },
            "type": "scatterternary"
           }
          ],
          "surface": [
           {
            "colorbar": {
             "outlinewidth": 0,
             "ticks": ""
            },
            "colorscale": [
             [
              0,
              "#0d0887"
             ],
             [
              0.1111111111111111,
              "#46039f"
             ],
             [
              0.2222222222222222,
              "#7201a8"
             ],
             [
              0.3333333333333333,
              "#9c179e"
             ],
             [
              0.4444444444444444,
              "#bd3786"
             ],
             [
              0.5555555555555556,
              "#d8576b"
             ],
             [
              0.6666666666666666,
              "#ed7953"
             ],
             [
              0.7777777777777778,
              "#fb9f3a"
             ],
             [
              0.8888888888888888,
              "#fdca26"
             ],
             [
              1,
              "#f0f921"
             ]
            ],
            "type": "surface"
           }
          ],
          "table": [
           {
            "cells": {
             "fill": {
              "color": "#EBF0F8"
             },
             "line": {
              "color": "white"
             }
            },
            "header": {
             "fill": {
              "color": "#C8D4E3"
             },
             "line": {
              "color": "white"
             }
            },
            "type": "table"
           }
          ]
         },
         "layout": {
          "annotationdefaults": {
           "arrowcolor": "#2a3f5f",
           "arrowhead": 0,
           "arrowwidth": 1
          },
          "autotypenumbers": "strict",
          "coloraxis": {
           "colorbar": {
            "outlinewidth": 0,
            "ticks": ""
           }
          },
          "colorscale": {
           "diverging": [
            [
             0,
             "#8e0152"
            ],
            [
             0.1,
             "#c51b7d"
            ],
            [
             0.2,
             "#de77ae"
            ],
            [
             0.3,
             "#f1b6da"
            ],
            [
             0.4,
             "#fde0ef"
            ],
            [
             0.5,
             "#f7f7f7"
            ],
            [
             0.6,
             "#e6f5d0"
            ],
            [
             0.7,
             "#b8e186"
            ],
            [
             0.8,
             "#7fbc41"
            ],
            [
             0.9,
             "#4d9221"
            ],
            [
             1,
             "#276419"
            ]
           ],
           "sequential": [
            [
             0,
             "#0d0887"
            ],
            [
             0.1111111111111111,
             "#46039f"
            ],
            [
             0.2222222222222222,
             "#7201a8"
            ],
            [
             0.3333333333333333,
             "#9c179e"
            ],
            [
             0.4444444444444444,
             "#bd3786"
            ],
            [
             0.5555555555555556,
             "#d8576b"
            ],
            [
             0.6666666666666666,
             "#ed7953"
            ],
            [
             0.7777777777777778,
             "#fb9f3a"
            ],
            [
             0.8888888888888888,
             "#fdca26"
            ],
            [
             1,
             "#f0f921"
            ]
           ],
           "sequentialminus": [
            [
             0,
             "#0d0887"
            ],
            [
             0.1111111111111111,
             "#46039f"
            ],
            [
             0.2222222222222222,
             "#7201a8"
            ],
            [
             0.3333333333333333,
             "#9c179e"
            ],
            [
             0.4444444444444444,
             "#bd3786"
            ],
            [
             0.5555555555555556,
             "#d8576b"
            ],
            [
             0.6666666666666666,
             "#ed7953"
            ],
            [
             0.7777777777777778,
             "#fb9f3a"
            ],
            [
             0.8888888888888888,
             "#fdca26"
            ],
            [
             1,
             "#f0f921"
            ]
           ]
          },
          "colorway": [
           "#636efa",
           "#EF553B",
           "#00cc96",
           "#ab63fa",
           "#FFA15A",
           "#19d3f3",
           "#FF6692",
           "#B6E880",
           "#FF97FF",
           "#FECB52"
          ],
          "font": {
           "color": "#2a3f5f"
          },
          "geo": {
           "bgcolor": "white",
           "lakecolor": "white",
           "landcolor": "#E5ECF6",
           "showlakes": true,
           "showland": true,
           "subunitcolor": "white"
          },
          "hoverlabel": {
           "align": "left"
          },
          "hovermode": "closest",
          "mapbox": {
           "style": "light"
          },
          "paper_bgcolor": "white",
          "plot_bgcolor": "#E5ECF6",
          "polar": {
           "angularaxis": {
            "gridcolor": "white",
            "linecolor": "white",
            "ticks": ""
           },
           "bgcolor": "#E5ECF6",
           "radialaxis": {
            "gridcolor": "white",
            "linecolor": "white",
            "ticks": ""
           }
          },
          "scene": {
           "xaxis": {
            "backgroundcolor": "#E5ECF6",
            "gridcolor": "white",
            "gridwidth": 2,
            "linecolor": "white",
            "showbackground": true,
            "ticks": "",
            "zerolinecolor": "white"
           },
           "yaxis": {
            "backgroundcolor": "#E5ECF6",
            "gridcolor": "white",
            "gridwidth": 2,
            "linecolor": "white",
            "showbackground": true,
            "ticks": "",
            "zerolinecolor": "white"
           },
           "zaxis": {
            "backgroundcolor": "#E5ECF6",
            "gridcolor": "white",
            "gridwidth": 2,
            "linecolor": "white",
            "showbackground": true,
            "ticks": "",
            "zerolinecolor": "white"
           }
          },
          "shapedefaults": {
           "line": {
            "color": "#2a3f5f"
           }
          },
          "ternary": {
           "aaxis": {
            "gridcolor": "white",
            "linecolor": "white",
            "ticks": ""
           },
           "baxis": {
            "gridcolor": "white",
            "linecolor": "white",
            "ticks": ""
           },
           "bgcolor": "#E5ECF6",
           "caxis": {
            "gridcolor": "white",
            "linecolor": "white",
            "ticks": ""
           }
          },
          "title": {
           "x": 0.05
          },
          "xaxis": {
           "automargin": true,
           "gridcolor": "white",
           "linecolor": "white",
           "ticks": "",
           "title": {
            "standoff": 15
           },
           "zerolinecolor": "white",
           "zerolinewidth": 2
          },
          "yaxis": {
           "automargin": true,
           "gridcolor": "white",
           "linecolor": "white",
           "ticks": "",
           "title": {
            "standoff": 15
           },
           "zerolinecolor": "white",
           "zerolinewidth": 2
          }
         }
        },
        "title": {
         "font": {
          "color": "#4D5663"
         }
        },
        "xaxis": {
         "gridcolor": "#E1E5ED",
         "showgrid": true,
         "tickfont": {
          "color": "#4D5663"
         },
         "title": {
          "font": {
           "color": "#4D5663"
          },
          "text": ""
         },
         "zerolinecolor": "#E1E5ED"
        },
        "yaxis": {
         "gridcolor": "#E1E5ED",
         "showgrid": true,
         "tickfont": {
          "color": "#4D5663"
         },
         "title": {
          "font": {
           "color": "#4D5663"
          },
          "text": ""
         },
         "zerolinecolor": "#E1E5ED"
        }
       }
      },
      "text/html": [
       "<div>                            <div id=\"366f90a4-973d-4b6c-9366-3c8fee18fb0f\" class=\"plotly-graph-div\" style=\"height:525px; width:100%;\"></div>            <script type=\"text/javascript\">                require([\"plotly\"], function(Plotly) {                    window.PLOTLYENV=window.PLOTLYENV || {};\n",
       "                    window.PLOTLYENV.BASE_URL='https://plot.ly';                                    if (document.getElementById(\"366f90a4-973d-4b6c-9366-3c8fee18fb0f\")) {                    Plotly.newPlot(                        \"366f90a4-973d-4b6c-9366-3c8fee18fb0f\",                        [{\"marker\":{\"color\":\"rgba(255, 153, 51, 0.6)\",\"line\":{\"color\":\"rgba(255, 153, 51, 1.0)\",\"width\":1}},\"name\":\"artist\",\"orientation\":\"v\",\"text\":\"\",\"x\":[\"Ed Sheeran\",\"Dua Lipa\",\"Justin Bieber\",\"Boef\",\"The Weeknd\",\"Ariana Grande\",\"Suzan & Freek\",\"Lil Kleine\",\"Snelle\",\"Drake\",\"Post Malone\",\"Martin Garrix\",\"Billie Eilish\",\"Davina Michelle\",\"Shawn Mendes\",\"Josylvio\",\"Lewis Capaldi\",\"Lil Nas X\",\"Broederliefde\",\"Ava Max\",\"Clean Bandit\",\"Calvin Harris\",\"Danny Vera\",\"Imagine Dragons\",\"Sam Smith\",\"Tones And I\",\"Maroon 5\",\"Camila Cabello\",\"Avicii\",\"Olivia Rodrigo\",\"Maan\",\"Harry Styles\",\"Frenna\",\"Jonas Brothers\",\"Lijpe\",\"Rita Ora\",\"Dopebwoy\",\"Jason Derulo\",\"Pop Smoke\",\"Ti\\u00ebsto\",\"Doja Cat\",\"5 Seconds of Summer\",\"Joel Corry\",\"The Kid LAROI\",\"Sevn Alias\",\"Aya Nakamura\",\"M\\u00e5neskin\",\"Kris Kross Amsterdam, Maan, Tabitha\",\"Mabel\",\"Kevin, Yade Lauren\"],\"y\":[2030,1362,1116,1069,1012,939,911,886,882,830,775,775,757,726,722,699,669,620,545,544,542,511,499,489,488,452,450,439,434,424,402,395,391,388,382,377,349,346,346,343,339,330,322,307,305,301,301,298,291,289],\"type\":\"bar\"}],                        {\"legend\":{\"bgcolor\":\"#F5F6F9\",\"font\":{\"color\":\"#4D5663\"}},\"paper_bgcolor\":\"#F5F6F9\",\"plot_bgcolor\":\"#F5F6F9\",\"template\":{\"data\":{\"barpolar\":[{\"marker\":{\"line\":{\"color\":\"#E5ECF6\",\"width\":0.5},\"pattern\":{\"fillmode\":\"overlay\",\"size\":10,\"solidity\":0.2}},\"type\":\"barpolar\"}],\"bar\":[{\"error_x\":{\"color\":\"#2a3f5f\"},\"error_y\":{\"color\":\"#2a3f5f\"},\"marker\":{\"line\":{\"color\":\"#E5ECF6\",\"width\":0.5},\"pattern\":{\"fillmode\":\"overlay\",\"size\":10,\"solidity\":0.2}},\"type\":\"bar\"}],\"carpet\":[{\"aaxis\":{\"endlinecolor\":\"#2a3f5f\",\"gridcolor\":\"white\",\"linecolor\":\"white\",\"minorgridcolor\":\"white\",\"startlinecolor\":\"#2a3f5f\"},\"baxis\":{\"endlinecolor\":\"#2a3f5f\",\"gridcolor\":\"white\",\"linecolor\":\"white\",\"minorgridcolor\":\"white\",\"startlinecolor\":\"#2a3f5f\"},\"type\":\"carpet\"}],\"choropleth\":[{\"colorbar\":{\"outlinewidth\":0,\"ticks\":\"\"},\"type\":\"choropleth\"}],\"contourcarpet\":[{\"colorbar\":{\"outlinewidth\":0,\"ticks\":\"\"},\"type\":\"contourcarpet\"}],\"contour\":[{\"colorbar\":{\"outlinewidth\":0,\"ticks\":\"\"},\"colorscale\":[[0.0,\"#0d0887\"],[0.1111111111111111,\"#46039f\"],[0.2222222222222222,\"#7201a8\"],[0.3333333333333333,\"#9c179e\"],[0.4444444444444444,\"#bd3786\"],[0.5555555555555556,\"#d8576b\"],[0.6666666666666666,\"#ed7953\"],[0.7777777777777778,\"#fb9f3a\"],[0.8888888888888888,\"#fdca26\"],[1.0,\"#f0f921\"]],\"type\":\"contour\"}],\"heatmapgl\":[{\"colorbar\":{\"outlinewidth\":0,\"ticks\":\"\"},\"colorscale\":[[0.0,\"#0d0887\"],[0.1111111111111111,\"#46039f\"],[0.2222222222222222,\"#7201a8\"],[0.3333333333333333,\"#9c179e\"],[0.4444444444444444,\"#bd3786\"],[0.5555555555555556,\"#d8576b\"],[0.6666666666666666,\"#ed7953\"],[0.7777777777777778,\"#fb9f3a\"],[0.8888888888888888,\"#fdca26\"],[1.0,\"#f0f921\"]],\"type\":\"heatmapgl\"}],\"heatmap\":[{\"colorbar\":{\"outlinewidth\":0,\"ticks\":\"\"},\"colorscale\":[[0.0,\"#0d0887\"],[0.1111111111111111,\"#46039f\"],[0.2222222222222222,\"#7201a8\"],[0.3333333333333333,\"#9c179e\"],[0.4444444444444444,\"#bd3786\"],[0.5555555555555556,\"#d8576b\"],[0.6666666666666666,\"#ed7953\"],[0.7777777777777778,\"#fb9f3a\"],[0.8888888888888888,\"#fdca26\"],[1.0,\"#f0f921\"]],\"type\":\"heatmap\"}],\"histogram2dcontour\":[{\"colorbar\":{\"outlinewidth\":0,\"ticks\":\"\"},\"colorscale\":[[0.0,\"#0d0887\"],[0.1111111111111111,\"#46039f\"],[0.2222222222222222,\"#7201a8\"],[0.3333333333333333,\"#9c179e\"],[0.4444444444444444,\"#bd3786\"],[0.5555555555555556,\"#d8576b\"],[0.6666666666666666,\"#ed7953\"],[0.7777777777777778,\"#fb9f3a\"],[0.8888888888888888,\"#fdca26\"],[1.0,\"#f0f921\"]],\"type\":\"histogram2dcontour\"}],\"histogram2d\":[{\"colorbar\":{\"outlinewidth\":0,\"ticks\":\"\"},\"colorscale\":[[0.0,\"#0d0887\"],[0.1111111111111111,\"#46039f\"],[0.2222222222222222,\"#7201a8\"],[0.3333333333333333,\"#9c179e\"],[0.4444444444444444,\"#bd3786\"],[0.5555555555555556,\"#d8576b\"],[0.6666666666666666,\"#ed7953\"],[0.7777777777777778,\"#fb9f3a\"],[0.8888888888888888,\"#fdca26\"],[1.0,\"#f0f921\"]],\"type\":\"histogram2d\"}],\"histogram\":[{\"marker\":{\"pattern\":{\"fillmode\":\"overlay\",\"size\":10,\"solidity\":0.2}},\"type\":\"histogram\"}],\"mesh3d\":[{\"colorbar\":{\"outlinewidth\":0,\"ticks\":\"\"},\"type\":\"mesh3d\"}],\"parcoords\":[{\"line\":{\"colorbar\":{\"outlinewidth\":0,\"ticks\":\"\"}},\"type\":\"parcoords\"}],\"pie\":[{\"automargin\":true,\"type\":\"pie\"}],\"scatter3d\":[{\"line\":{\"colorbar\":{\"outlinewidth\":0,\"ticks\":\"\"}},\"marker\":{\"colorbar\":{\"outlinewidth\":0,\"ticks\":\"\"}},\"type\":\"scatter3d\"}],\"scattercarpet\":[{\"marker\":{\"colorbar\":{\"outlinewidth\":0,\"ticks\":\"\"}},\"type\":\"scattercarpet\"}],\"scattergeo\":[{\"marker\":{\"colorbar\":{\"outlinewidth\":0,\"ticks\":\"\"}},\"type\":\"scattergeo\"}],\"scattergl\":[{\"marker\":{\"colorbar\":{\"outlinewidth\":0,\"ticks\":\"\"}},\"type\":\"scattergl\"}],\"scattermapbox\":[{\"marker\":{\"colorbar\":{\"outlinewidth\":0,\"ticks\":\"\"}},\"type\":\"scattermapbox\"}],\"scatterpolargl\":[{\"marker\":{\"colorbar\":{\"outlinewidth\":0,\"ticks\":\"\"}},\"type\":\"scatterpolargl\"}],\"scatterpolar\":[{\"marker\":{\"colorbar\":{\"outlinewidth\":0,\"ticks\":\"\"}},\"type\":\"scatterpolar\"}],\"scatter\":[{\"fillpattern\":{\"fillmode\":\"overlay\",\"size\":10,\"solidity\":0.2},\"type\":\"scatter\"}],\"scatterternary\":[{\"marker\":{\"colorbar\":{\"outlinewidth\":0,\"ticks\":\"\"}},\"type\":\"scatterternary\"}],\"surface\":[{\"colorbar\":{\"outlinewidth\":0,\"ticks\":\"\"},\"colorscale\":[[0.0,\"#0d0887\"],[0.1111111111111111,\"#46039f\"],[0.2222222222222222,\"#7201a8\"],[0.3333333333333333,\"#9c179e\"],[0.4444444444444444,\"#bd3786\"],[0.5555555555555556,\"#d8576b\"],[0.6666666666666666,\"#ed7953\"],[0.7777777777777778,\"#fb9f3a\"],[0.8888888888888888,\"#fdca26\"],[1.0,\"#f0f921\"]],\"type\":\"surface\"}],\"table\":[{\"cells\":{\"fill\":{\"color\":\"#EBF0F8\"},\"line\":{\"color\":\"white\"}},\"header\":{\"fill\":{\"color\":\"#C8D4E3\"},\"line\":{\"color\":\"white\"}},\"type\":\"table\"}]},\"layout\":{\"annotationdefaults\":{\"arrowcolor\":\"#2a3f5f\",\"arrowhead\":0,\"arrowwidth\":1},\"autotypenumbers\":\"strict\",\"coloraxis\":{\"colorbar\":{\"outlinewidth\":0,\"ticks\":\"\"}},\"colorscale\":{\"diverging\":[[0,\"#8e0152\"],[0.1,\"#c51b7d\"],[0.2,\"#de77ae\"],[0.3,\"#f1b6da\"],[0.4,\"#fde0ef\"],[0.5,\"#f7f7f7\"],[0.6,\"#e6f5d0\"],[0.7,\"#b8e186\"],[0.8,\"#7fbc41\"],[0.9,\"#4d9221\"],[1,\"#276419\"]],\"sequential\":[[0.0,\"#0d0887\"],[0.1111111111111111,\"#46039f\"],[0.2222222222222222,\"#7201a8\"],[0.3333333333333333,\"#9c179e\"],[0.4444444444444444,\"#bd3786\"],[0.5555555555555556,\"#d8576b\"],[0.6666666666666666,\"#ed7953\"],[0.7777777777777778,\"#fb9f3a\"],[0.8888888888888888,\"#fdca26\"],[1.0,\"#f0f921\"]],\"sequentialminus\":[[0.0,\"#0d0887\"],[0.1111111111111111,\"#46039f\"],[0.2222222222222222,\"#7201a8\"],[0.3333333333333333,\"#9c179e\"],[0.4444444444444444,\"#bd3786\"],[0.5555555555555556,\"#d8576b\"],[0.6666666666666666,\"#ed7953\"],[0.7777777777777778,\"#fb9f3a\"],[0.8888888888888888,\"#fdca26\"],[1.0,\"#f0f921\"]]},\"colorway\":[\"#636efa\",\"#EF553B\",\"#00cc96\",\"#ab63fa\",\"#FFA15A\",\"#19d3f3\",\"#FF6692\",\"#B6E880\",\"#FF97FF\",\"#FECB52\"],\"font\":{\"color\":\"#2a3f5f\"},\"geo\":{\"bgcolor\":\"white\",\"lakecolor\":\"white\",\"landcolor\":\"#E5ECF6\",\"showlakes\":true,\"showland\":true,\"subunitcolor\":\"white\"},\"hoverlabel\":{\"align\":\"left\"},\"hovermode\":\"closest\",\"mapbox\":{\"style\":\"light\"},\"paper_bgcolor\":\"white\",\"plot_bgcolor\":\"#E5ECF6\",\"polar\":{\"angularaxis\":{\"gridcolor\":\"white\",\"linecolor\":\"white\",\"ticks\":\"\"},\"bgcolor\":\"#E5ECF6\",\"radialaxis\":{\"gridcolor\":\"white\",\"linecolor\":\"white\",\"ticks\":\"\"}},\"scene\":{\"xaxis\":{\"backgroundcolor\":\"#E5ECF6\",\"gridcolor\":\"white\",\"gridwidth\":2,\"linecolor\":\"white\",\"showbackground\":true,\"ticks\":\"\",\"zerolinecolor\":\"white\"},\"yaxis\":{\"backgroundcolor\":\"#E5ECF6\",\"gridcolor\":\"white\",\"gridwidth\":2,\"linecolor\":\"white\",\"showbackground\":true,\"ticks\":\"\",\"zerolinecolor\":\"white\"},\"zaxis\":{\"backgroundcolor\":\"#E5ECF6\",\"gridcolor\":\"white\",\"gridwidth\":2,\"linecolor\":\"white\",\"showbackground\":true,\"ticks\":\"\",\"zerolinecolor\":\"white\"}},\"shapedefaults\":{\"line\":{\"color\":\"#2a3f5f\"}},\"ternary\":{\"aaxis\":{\"gridcolor\":\"white\",\"linecolor\":\"white\",\"ticks\":\"\"},\"baxis\":{\"gridcolor\":\"white\",\"linecolor\":\"white\",\"ticks\":\"\"},\"bgcolor\":\"#E5ECF6\",\"caxis\":{\"gridcolor\":\"white\",\"linecolor\":\"white\",\"ticks\":\"\"}},\"title\":{\"x\":0.05},\"xaxis\":{\"automargin\":true,\"gridcolor\":\"white\",\"linecolor\":\"white\",\"ticks\":\"\",\"title\":{\"standoff\":15},\"zerolinecolor\":\"white\",\"zerolinewidth\":2},\"yaxis\":{\"automargin\":true,\"gridcolor\":\"white\",\"linecolor\":\"white\",\"ticks\":\"\",\"title\":{\"standoff\":15},\"zerolinecolor\":\"white\",\"zerolinewidth\":2}}},\"title\":{\"font\":{\"color\":\"#4D5663\"}},\"xaxis\":{\"gridcolor\":\"#E1E5ED\",\"showgrid\":true,\"tickfont\":{\"color\":\"#4D5663\"},\"title\":{\"font\":{\"color\":\"#4D5663\"},\"text\":\"\"},\"zerolinecolor\":\"#E1E5ED\"},\"yaxis\":{\"gridcolor\":\"#E1E5ED\",\"showgrid\":true,\"tickfont\":{\"color\":\"#4D5663\"},\"title\":{\"font\":{\"color\":\"#4D5663\"},\"text\":\"\"},\"zerolinecolor\":\"#E1E5ED\"}},                        {\"showLink\": true, \"linkText\": \"Export to plot.ly\", \"plotlyServerURL\": \"https://plot.ly\", \"responsive\": true}                    ).then(function(){\n",
       "                            \n",
       "var gd = document.getElementById('366f90a4-973d-4b6c-9366-3c8fee18fb0f');\n",
       "var x = new MutationObserver(function (mutations, observer) {{\n",
       "        var display = window.getComputedStyle(gd).display;\n",
       "        if (!display || display === 'none') {{\n",
       "            console.log([gd, 'removed!']);\n",
       "            Plotly.purge(gd);\n",
       "            observer.disconnect();\n",
       "        }}\n",
       "}});\n",
       "\n",
       "// Listen for the removal of the full notebook cells\n",
       "var notebookContainer = gd.closest('#notebook-container');\n",
       "if (notebookContainer) {{\n",
       "    x.observe(notebookContainer, {childList: true});\n",
       "}}\n",
       "\n",
       "// Listen for the clearing of the current output cell\n",
       "var outputEl = gd.closest('.output');\n",
       "if (outputEl) {{\n",
       "    x.observe(outputEl, {childList: true});\n",
       "}}\n",
       "\n",
       "                        })                };                });            </script>        </div>"
      ]
     },
     "metadata": {},
     "output_type": "display_data"
    }
   ],
   "source": [
    "# Number of times an artist has appeared in the Top 50 in NL\n",
    "top50_NL['artist'].value_counts().head(50).iplot(kind='bar')"
   ]
  },
  {
   "cell_type": "markdown",
   "metadata": {},
   "source": [
    "### Breakdown by Date"
   ]
  },
  {
   "cell_type": "code",
   "execution_count": 15,
   "metadata": {},
   "outputs": [
    {
     "data": {
      "text/html": [
       "<div>\n",
       "<style scoped>\n",
       "    .dataframe tbody tr th:only-of-type {\n",
       "        vertical-align: middle;\n",
       "    }\n",
       "\n",
       "    .dataframe tbody tr th {\n",
       "        vertical-align: top;\n",
       "    }\n",
       "\n",
       "    .dataframe thead th {\n",
       "        text-align: right;\n",
       "    }\n",
       "</style>\n",
       "<table border=\"1\" class=\"dataframe\">\n",
       "  <thead>\n",
       "    <tr style=\"text-align: right;\">\n",
       "      <th></th>\n",
       "      <th>title</th>\n",
       "      <th>rank</th>\n",
       "      <th>date</th>\n",
       "      <th>artist</th>\n",
       "      <th>streams</th>\n",
       "      <th>year</th>\n",
       "      <th>month</th>\n",
       "      <th>year-month</th>\n",
       "    </tr>\n",
       "  </thead>\n",
       "  <tbody>\n",
       "    <tr>\n",
       "      <th>5184</th>\n",
       "      <td>Energie</td>\n",
       "      <td>1</td>\n",
       "      <td>2017-01-01</td>\n",
       "      <td>Ronnie Flex, Frenna</td>\n",
       "      <td>112252.0</td>\n",
       "      <td>2017</td>\n",
       "      <td>1</td>\n",
       "      <td>2017-01</td>\n",
       "    </tr>\n",
       "    <tr>\n",
       "      <th>5185</th>\n",
       "      <td>Rockabye (feat. Sean Paul &amp; Anne-Marie)</td>\n",
       "      <td>2</td>\n",
       "      <td>2017-01-01</td>\n",
       "      <td>Clean Bandit</td>\n",
       "      <td>106984.0</td>\n",
       "      <td>2017</td>\n",
       "      <td>1</td>\n",
       "      <td>2017-01</td>\n",
       "    </tr>\n",
       "  </tbody>\n",
       "</table>\n",
       "</div>"
      ],
      "text/plain": [
       "                                        title  rank       date  \\\n",
       "5184                                  Energie     1 2017-01-01   \n",
       "5185  Rockabye (feat. Sean Paul & Anne-Marie)     2 2017-01-01   \n",
       "\n",
       "                   artist   streams  year  month year-month  \n",
       "5184  Ronnie Flex, Frenna  112252.0  2017      1    2017-01  \n",
       "5185         Clean Bandit  106984.0  2017      1    2017-01  "
      ]
     },
     "execution_count": 15,
     "metadata": {},
     "output_type": "execute_result"
    }
   ],
   "source": [
    "top50_NL['year'] = top50_NL['date'].dt.year\n",
    "top50_NL['month'] = top50_NL['date'].dt.month\n",
    "top50_NL['year-month'] = top50_NL['date'].dt.to_period('m')\n",
    "top50_NL.head(2)"
   ]
  },
  {
   "cell_type": "code",
   "execution_count": 16,
   "metadata": {},
   "outputs": [
    {
     "name": "stdout",
     "output_type": "stream",
     "text": [
      "<class 'pandas.core.frame.DataFrame'>\n",
      "Int64Index: 89495 entries, 5184 to 25262351\n",
      "Data columns (total 8 columns):\n",
      " #   Column      Non-Null Count  Dtype         \n",
      "---  ------      --------------  -----         \n",
      " 0   title       89495 non-null  object        \n",
      " 1   rank        89495 non-null  int64         \n",
      " 2   date        89495 non-null  datetime64[ns]\n",
      " 3   artist      89495 non-null  object        \n",
      " 4   streams     89495 non-null  float64       \n",
      " 5   year        89495 non-null  int64         \n",
      " 6   month       89495 non-null  int64         \n",
      " 7   year-month  89495 non-null  period[M]     \n",
      "dtypes: datetime64[ns](1), float64(1), int64(3), object(2), period[M](1)\n",
      "memory usage: 6.1+ MB\n"
     ]
    }
   ],
   "source": [
    "top50_NL.info()"
   ]
  },
  {
   "cell_type": "markdown",
   "metadata": {},
   "source": [
    "#### Monthly Streams"
   ]
  },
  {
   "cell_type": "code",
   "execution_count": 17,
   "metadata": {},
   "outputs": [
    {
     "data": {
      "text/html": [
       "<div>\n",
       "<style scoped>\n",
       "    .dataframe tbody tr th:only-of-type {\n",
       "        vertical-align: middle;\n",
       "    }\n",
       "\n",
       "    .dataframe tbody tr th {\n",
       "        vertical-align: top;\n",
       "    }\n",
       "\n",
       "    .dataframe thead th {\n",
       "        text-align: right;\n",
       "    }\n",
       "</style>\n",
       "<table border=\"1\" class=\"dataframe\">\n",
       "  <thead>\n",
       "    <tr style=\"text-align: right;\">\n",
       "      <th></th>\n",
       "      <th>date</th>\n",
       "      <th>streams</th>\n",
       "      <th>year-month</th>\n",
       "    </tr>\n",
       "  </thead>\n",
       "  <tbody>\n",
       "    <tr>\n",
       "      <th>0</th>\n",
       "      <td>2017-01-01</td>\n",
       "      <td>2423858.0</td>\n",
       "      <td>2017-01</td>\n",
       "    </tr>\n",
       "    <tr>\n",
       "      <th>1</th>\n",
       "      <td>2017-01-02</td>\n",
       "      <td>3386047.0</td>\n",
       "      <td>2017-01</td>\n",
       "    </tr>\n",
       "    <tr>\n",
       "      <th>2</th>\n",
       "      <td>2017-01-03</td>\n",
       "      <td>3457137.0</td>\n",
       "      <td>2017-01</td>\n",
       "    </tr>\n",
       "    <tr>\n",
       "      <th>3</th>\n",
       "      <td>2017-01-04</td>\n",
       "      <td>3574480.0</td>\n",
       "      <td>2017-01</td>\n",
       "    </tr>\n",
       "    <tr>\n",
       "      <th>4</th>\n",
       "      <td>2017-01-05</td>\n",
       "      <td>3636208.0</td>\n",
       "      <td>2017-01</td>\n",
       "    </tr>\n",
       "    <tr>\n",
       "      <th>...</th>\n",
       "      <td>...</td>\n",
       "      <td>...</td>\n",
       "      <td>...</td>\n",
       "    </tr>\n",
       "    <tr>\n",
       "      <th>1785</th>\n",
       "      <td>2021-11-26</td>\n",
       "      <td>6614591.0</td>\n",
       "      <td>2021-11</td>\n",
       "    </tr>\n",
       "    <tr>\n",
       "      <th>1786</th>\n",
       "      <td>2021-11-27</td>\n",
       "      <td>6615004.0</td>\n",
       "      <td>2021-11</td>\n",
       "    </tr>\n",
       "    <tr>\n",
       "      <th>1787</th>\n",
       "      <td>2021-11-28</td>\n",
       "      <td>5369119.0</td>\n",
       "      <td>2021-11</td>\n",
       "    </tr>\n",
       "    <tr>\n",
       "      <th>1788</th>\n",
       "      <td>2021-11-29</td>\n",
       "      <td>5895370.0</td>\n",
       "      <td>2021-11</td>\n",
       "    </tr>\n",
       "    <tr>\n",
       "      <th>1789</th>\n",
       "      <td>2021-11-30</td>\n",
       "      <td>5923573.0</td>\n",
       "      <td>2021-11</td>\n",
       "    </tr>\n",
       "  </tbody>\n",
       "</table>\n",
       "<p>1790 rows × 3 columns</p>\n",
       "</div>"
      ],
      "text/plain": [
       "           date    streams year-month\n",
       "0    2017-01-01  2423858.0    2017-01\n",
       "1    2017-01-02  3386047.0    2017-01\n",
       "2    2017-01-03  3457137.0    2017-01\n",
       "3    2017-01-04  3574480.0    2017-01\n",
       "4    2017-01-05  3636208.0    2017-01\n",
       "...         ...        ...        ...\n",
       "1785 2021-11-26  6614591.0    2021-11\n",
       "1786 2021-11-27  6615004.0    2021-11\n",
       "1787 2021-11-28  5369119.0    2021-11\n",
       "1788 2021-11-29  5895370.0    2021-11\n",
       "1789 2021-11-30  5923573.0    2021-11\n",
       "\n",
       "[1790 rows x 3 columns]"
      ]
     },
     "execution_count": 17,
     "metadata": {},
     "output_type": "execute_result"
    }
   ],
   "source": [
    "month_streams = top50_NL.groupby(top50_NL['date'])[['streams']].sum()\n",
    "month_streams.reset_index(inplace=True)\n",
    "month_streams['year-month'] = month_streams['date'].dt.to_period('m')\n",
    "month_streams"
   ]
  },
  {
   "cell_type": "code",
   "execution_count": 18,
   "metadata": {},
   "outputs": [
    {
     "data": {
      "image/png": "[encoded data removed]",
      "text/plain": [
       "<Figure size 1500x300 with 1 Axes>"
      ]
     },
     "metadata": {},
     "output_type": "display_data"
    }
   ],
   "source": [
    "fig, g = plt.subplots(figsize=(15,3))\n",
    "\n",
    "g = sns.barplot(x=month_streams['year-month'],y=month_streams['streams'])\n",
    "g.set_title('Top50 Songs: Total Number of Streams')\n",
    "g.set_ylabel('Streams [100 Million]')\n",
    "g.set_xlabel('Date')\n",
    "g.tick_params(axis='x', rotation=90)"
   ]
  },
  {
   "cell_type": "code",
   "execution_count": 19,
   "metadata": {},
   "outputs": [
    {
     "data": {
      "image/png": "[encoded data removed]",
      "text/plain": [
       "<Figure size 1500x300 with 1 Axes>"
      ]
     },
     "metadata": {},
     "output_type": "display_data"
    }
   ],
   "source": [
    "fig, ax = plt.subplots(figsize=(15,3))\n",
    "\n",
    "ax.plot(month_streams['date'], month_streams['streams'].rolling(30).mean())\n",
    "ax.set_title('Top50 Songs: Total Number of Streams')\n",
    "ax.set_ylabel('Streams [100 Million]')\n",
    "ax.set_xlabel('Date')\n",
    "ax.xaxis.set_major_locator(mdates.MonthLocator(interval=1))\n",
    "ax.xaxis.set_major_formatter(mdates.DateFormatter('%Y-%m'))\n",
    "ax.tick_params(axis='x', rotation=90)"
   ]
  },
  {
   "cell_type": "code",
   "execution_count": 20,
   "metadata": {},
   "outputs": [
    {
     "data": {
      "text/html": [
       "<div>\n",
       "<style scoped>\n",
       "    .dataframe tbody tr th:only-of-type {\n",
       "        vertical-align: middle;\n",
       "    }\n",
       "\n",
       "    .dataframe tbody tr th {\n",
       "        vertical-align: top;\n",
       "    }\n",
       "\n",
       "    .dataframe thead th {\n",
       "        text-align: right;\n",
       "    }\n",
       "</style>\n",
       "<table border=\"1\" class=\"dataframe\">\n",
       "  <thead>\n",
       "    <tr style=\"text-align: right;\">\n",
       "      <th></th>\n",
       "      <th>date</th>\n",
       "      <th>streams</th>\n",
       "      <th>year-month</th>\n",
       "      <th>Total_revenue</th>\n",
       "      <th>Artist_revenue</th>\n",
       "      <th>Spotify_revenue</th>\n",
       "    </tr>\n",
       "  </thead>\n",
       "  <tbody>\n",
       "    <tr>\n",
       "      <th>1014</th>\n",
       "      <td>2019-10-16</td>\n",
       "      <td>5961301.0</td>\n",
       "      <td>2019-10</td>\n",
       "      <td>178839.03</td>\n",
       "      <td>53651.71</td>\n",
       "      <td>125187.32</td>\n",
       "    </tr>\n",
       "    <tr>\n",
       "      <th>446</th>\n",
       "      <td>2018-03-27</td>\n",
       "      <td>5886393.0</td>\n",
       "      <td>2018-03</td>\n",
       "      <td>176591.79</td>\n",
       "      <td>52977.54</td>\n",
       "      <td>123614.25</td>\n",
       "    </tr>\n",
       "  </tbody>\n",
       "</table>\n",
       "</div>"
      ],
      "text/plain": [
       "           date    streams year-month  Total_revenue  Artist_revenue  \\\n",
       "1014 2019-10-16  5961301.0    2019-10      178839.03        53651.71   \n",
       "446  2018-03-27  5886393.0    2018-03      176591.79        52977.54   \n",
       "\n",
       "      Spotify_revenue  \n",
       "1014        125187.32  \n",
       "446         123614.25  "
      ]
     },
     "execution_count": 20,
     "metadata": {},
     "output_type": "execute_result"
    }
   ],
   "source": [
    "# On average 10 streams = 0.03 euros\n",
    "month_streams['Total_revenue'] = month_streams['streams']*0.03\n",
    "month_streams['Artist_revenue'] = round(month_streams['Total_revenue']*0.3,2)\n",
    "month_streams['Spotify_revenue'] = round(month_streams['Total_revenue']*0.7,2)\n",
    "month_streams.sample(2)"
   ]
  },
  {
   "cell_type": "code",
   "execution_count": 21,
   "metadata": {},
   "outputs": [],
   "source": [
    "# fig, ax = plt.subplots(figsize=(15,3))\n",
    "\n",
    "# ax.plot(month_streams['date'], month_streams['Artist_revenue'].rolling(30).mean(),'b')\n",
    "# ax.plot(month_streams['date'], month_streams['Spotify_revenue'].rolling(30).mean(),'r')\n",
    "# ax.set_title('Top50 Songs: Total Revenue over time')\n",
    "# ax.legend(['Artist Revenue','Spotify Revenue'])\n",
    "# ax.set_ylabel('Revenue [Dollars]')\n",
    "# ax.set_xlabel('Date')\n",
    "# ax.xaxis.set_major_locator(mdates.MonthLocator(interval=1))\n",
    "# ax.xaxis.set_major_formatter(mdates.DateFormatter('%Y-%m'))\n",
    "# ax.tick_params(axis='x', rotation=90)"
   ]
  },
  {
   "cell_type": "code",
   "execution_count": 22,
   "metadata": {},
   "outputs": [
    {
     "data": {
      "image/png": "[encoded data removed]",
      "text/plain": [
       "<Figure size 1500x300 with 1 Axes>"
      ]
     },
     "metadata": {},
     "output_type": "display_data"
    }
   ],
   "source": [
    "# Total revenue made according to Top 50 songs by artists (30%), and Spotify (70%) [2017-2021]\n",
    "# Heavy assumptions: All artists own all the royalties, based on 2023 earnings calculator)\n",
    "\n",
    "# plt.stackplot(month_streams['year-month2'],month_streams['Artist_revenue'])\n",
    "fig, ax = plt.subplots(figsize=(15,3))\n",
    "\n",
    "ax.stackplot(month_streams['date'], month_streams['Artist_revenue'].rolling(20).mean(), month_streams['Spotify_revenue'].rolling(30).mean(),\n",
    "             colors=['b','r'])\n",
    "ax.set_title('Top50 Songs: Total Revenue over time')\n",
    "ax.legend(['Artist Revenue','Spotify Revenue'])\n",
    "ax.set_ylabel('Revenue [Dollars]')\n",
    "ax.set_xlabel('Date')\n",
    "ax.xaxis.set_major_locator(mdates.MonthLocator(interval=1))\n",
    "ax.xaxis.set_major_formatter(mdates.DateFormatter('%Y-%m'))\n",
    "ax.tick_params(axis='x', rotation=90)"
   ]
  },
  {
   "cell_type": "code",
   "execution_count": null,
   "metadata": {},
   "outputs": [],
   "source": [
    "# Song that was played the most"
   ]
  },
  {
   "cell_type": "markdown",
   "metadata": {},
   "source": [
    "#### Days"
   ]
  },
  {
   "cell_type": "code",
   "execution_count": 23,
   "metadata": {},
   "outputs": [
    {
     "data": {
      "text/html": [
       "<div>\n",
       "<style scoped>\n",
       "    .dataframe tbody tr th:only-of-type {\n",
       "        vertical-align: middle;\n",
       "    }\n",
       "\n",
       "    .dataframe tbody tr th {\n",
       "        vertical-align: top;\n",
       "    }\n",
       "\n",
       "    .dataframe thead th {\n",
       "        text-align: right;\n",
       "    }\n",
       "</style>\n",
       "<table border=\"1\" class=\"dataframe\">\n",
       "  <thead>\n",
       "    <tr style=\"text-align: right;\">\n",
       "      <th></th>\n",
       "      <th>artist</th>\n",
       "      <th>title</th>\n",
       "      <th>Number of days in Top 50</th>\n",
       "    </tr>\n",
       "  </thead>\n",
       "  <tbody>\n",
       "    <tr>\n",
       "      <th>0</th>\n",
       "      <td>$hirak</td>\n",
       "      <td>Beng (feat. SBMG)</td>\n",
       "      <td>21</td>\n",
       "    </tr>\n",
       "    <tr>\n",
       "      <th>1</th>\n",
       "      <td>$hirak</td>\n",
       "      <td>DM's (feat. Adje, 3robi &amp; Josylvio)</td>\n",
       "      <td>8</td>\n",
       "    </tr>\n",
       "  </tbody>\n",
       "</table>\n",
       "</div>"
      ],
      "text/plain": [
       "   artist                                title  Number of days in Top 50\n",
       "0  $hirak                    Beng (feat. SBMG)                        21\n",
       "1  $hirak  DM's (feat. Adje, 3robi & Josylvio)                         8"
      ]
     },
     "execution_count": 23,
     "metadata": {},
     "output_type": "execute_result"
    }
   ],
   "source": [
    "days_in = top50_NL.groupby(['artist','title'])[['date']].count().reset_index()\n",
    "days_in.columns = ['artist','title','Number of days in Top 50']\n",
    "days_in.head(2)"
   ]
  },
  {
   "cell_type": "code",
   "execution_count": 24,
   "metadata": {},
   "outputs": [
    {
     "data": {
      "image/png": "[encoded data removed]",
      "text/plain": [
       "<Figure size 1200x400 with 1 Axes>"
      ]
     },
     "metadata": {},
     "output_type": "display_data"
    }
   ],
   "source": [
    "fig,ax = plt.subplots(figsize=(12,4))\n",
    "\n",
    "ax.hist(days_in['Number of days in Top 50'],bins=100,color='g',edgecolor='black')\n",
    "ax.set_title('Number of days a song stays in the Top 50 [NL]')\n",
    "ax.set_xlabel('Number of days')\n",
    "ax.set_ylabel('Number of songs')\n",
    "ax.set_yscale('log')\n",
    "\n",
    "plt.tight_layout()"
   ]
  },
  {
   "cell_type": "code",
   "execution_count": 53,
   "metadata": {},
   "outputs": [
    {
     "data": {
      "text/html": [
       "<div>\n",
       "<style scoped>\n",
       "    .dataframe tbody tr th:only-of-type {\n",
       "        vertical-align: middle;\n",
       "    }\n",
       "\n",
       "    .dataframe tbody tr th {\n",
       "        vertical-align: top;\n",
       "    }\n",
       "\n",
       "    .dataframe thead th {\n",
       "        text-align: right;\n",
       "    }\n",
       "</style>\n",
       "<table border=\"1\" class=\"dataframe\">\n",
       "  <thead>\n",
       "    <tr style=\"text-align: right;\">\n",
       "      <th></th>\n",
       "      <th>artist</th>\n",
       "      <th>title</th>\n",
       "      <th>Number of days in Top 50</th>\n",
       "    </tr>\n",
       "  </thead>\n",
       "  <tbody>\n",
       "    <tr>\n",
       "      <th>461</th>\n",
       "      <td>Danny Vera</td>\n",
       "      <td>Roller Coaster</td>\n",
       "      <td>499</td>\n",
       "    </tr>\n",
       "    <tr>\n",
       "      <th>2021</th>\n",
       "      <td>The Weeknd</td>\n",
       "      <td>Blinding Lights</td>\n",
       "      <td>471</td>\n",
       "    </tr>\n",
       "    <tr>\n",
       "      <th>1275</th>\n",
       "      <td>Lewis Capaldi</td>\n",
       "      <td>Someone You Loved</td>\n",
       "      <td>448</td>\n",
       "    </tr>\n",
       "    <tr>\n",
       "      <th>614</th>\n",
       "      <td>Ed Sheeran</td>\n",
       "      <td>Shape of You</td>\n",
       "      <td>381</td>\n",
       "    </tr>\n",
       "    <tr>\n",
       "      <th>471</th>\n",
       "      <td>Davina Michelle</td>\n",
       "      <td>Duurt Te Lang</td>\n",
       "      <td>348</td>\n",
       "    </tr>\n",
       "  </tbody>\n",
       "</table>\n",
       "</div>"
      ],
      "text/plain": [
       "               artist              title  Number of days in Top 50\n",
       "461        Danny Vera     Roller Coaster                       499\n",
       "2021       The Weeknd    Blinding Lights                       471\n",
       "1275    Lewis Capaldi  Someone You Loved                       448\n",
       "614        Ed Sheeran       Shape of You                       381\n",
       "471   Davina Michelle      Duurt Te Lang                       348"
      ]
     },
     "execution_count": 53,
     "metadata": {},
     "output_type": "execute_result"
    }
   ],
   "source": [
    "longest_intop = days_in.sort_values(by='Number of days in Top 50',ascending=False)\n",
    "longest_intop['title'] = longest_intop['title'].apply(unidecode)\n",
    "longest_intop.head()"
   ]
  },
  {
   "cell_type": "code",
   "execution_count": 55,
   "metadata": {},
   "outputs": [],
   "source": [
    "longest_intop_title = longest_intop[['title','Number of days in Top 50']]\n",
    "longest_intop_title.set_index('title', inplace=True)"
   ]
  },
  {
   "cell_type": "code",
   "execution_count": 56,
   "metadata": {},
   "outputs": [],
   "source": [
    "longest_intop['artist-title'] = longest_intop[['artist','title']].agg(': '.join, axis=1)\n",
    "longest_intop_edit = longest_intop.copy()\n",
    "longest_intop_edit.drop(['artist','title'], axis=1, inplace=True)\n",
    "longest_intop_edit.set_index('artist-title',inplace=True)"
   ]
  },
  {
   "cell_type": "code",
   "execution_count": 57,
   "metadata": {},
   "outputs": [
    {
     "data": {
      "text/html": [
       "<div>\n",
       "<style scoped>\n",
       "    .dataframe tbody tr th:only-of-type {\n",
       "        vertical-align: middle;\n",
       "    }\n",
       "\n",
       "    .dataframe tbody tr th {\n",
       "        vertical-align: top;\n",
       "    }\n",
       "\n",
       "    .dataframe thead th {\n",
       "        text-align: right;\n",
       "    }\n",
       "</style>\n",
       "<table border=\"1\" class=\"dataframe\">\n",
       "  <thead>\n",
       "    <tr style=\"text-align: right;\">\n",
       "      <th></th>\n",
       "      <th>Number of days in Top 50</th>\n",
       "    </tr>\n",
       "    <tr>\n",
       "      <th>artist-title</th>\n",
       "      <th></th>\n",
       "    </tr>\n",
       "  </thead>\n",
       "  <tbody>\n",
       "    <tr>\n",
       "      <th>Danny Vera: Roller Coaster</th>\n",
       "      <td>499</td>\n",
       "    </tr>\n",
       "    <tr>\n",
       "      <th>The Weeknd: Blinding Lights</th>\n",
       "      <td>471</td>\n",
       "    </tr>\n",
       "    <tr>\n",
       "      <th>Lewis Capaldi: Someone You Loved</th>\n",
       "      <td>448</td>\n",
       "    </tr>\n",
       "    <tr>\n",
       "      <th>Ed Sheeran: Shape of You</th>\n",
       "      <td>381</td>\n",
       "    </tr>\n",
       "    <tr>\n",
       "      <th>Davina Michelle: Duurt Te Lang</th>\n",
       "      <td>348</td>\n",
       "    </tr>\n",
       "    <tr>\n",
       "      <th>...</th>\n",
       "      <td>...</td>\n",
       "    </tr>\n",
       "    <tr>\n",
       "      <th>Pop Smoke: Bout A Million (feat. 42 Dugg &amp; 21 Savage)</th>\n",
       "      <td>1</td>\n",
       "    </tr>\n",
       "    <tr>\n",
       "      <th>Pop Smoke: Bad Bitch From Tokyo (Intro)</th>\n",
       "      <td>1</td>\n",
       "    </tr>\n",
       "    <tr>\n",
       "      <th>Pop Smoke: 44 BullDog</th>\n",
       "      <td>1</td>\n",
       "    </tr>\n",
       "    <tr>\n",
       "      <th>Cor, Reverse: Hier Ver Vandaan (feat. Frenna)</th>\n",
       "      <td>1</td>\n",
       "    </tr>\n",
       "    <tr>\n",
       "      <th>Jacin Trill: teddiebeer</th>\n",
       "      <td>1</td>\n",
       "    </tr>\n",
       "  </tbody>\n",
       "</table>\n",
       "<p>2129 rows × 1 columns</p>\n",
       "</div>"
      ],
      "text/plain": [
       "                                                    Number of days in Top 50\n",
       "artist-title                                                                \n",
       "Danny Vera: Roller Coaster                                               499\n",
       "The Weeknd: Blinding Lights                                              471\n",
       "Lewis Capaldi: Someone You Loved                                         448\n",
       "Ed Sheeran: Shape of You                                                 381\n",
       "Davina Michelle: Duurt Te Lang                                           348\n",
       "...                                                                      ...\n",
       "Pop Smoke: Bout A Million (feat. 42 Dugg & 21 S...                         1\n",
       "Pop Smoke: Bad Bitch From Tokyo (Intro)                                    1\n",
       "Pop Smoke: 44 BullDog                                                      1\n",
       "Cor, Reverse: Hier Ver Vandaan (feat. Frenna)                              1\n",
       "Jacin Trill: teddiebeer                                                    1\n",
       "\n",
       "[2129 rows x 1 columns]"
      ]
     },
     "execution_count": 57,
     "metadata": {},
     "output_type": "execute_result"
    }
   ],
   "source": [
    "longest_intop_edit"
   ]
  },
  {
   "cell_type": "code",
   "execution_count": 60,
   "metadata": {},
   "outputs": [
    {
     "data": {
      "application/vnd.plotly.v1+json": {
       "config": {
        "linkText": "Export to plot.ly",
        "plotlyServerURL": "https://plot.ly",
        "showLink": true
       },
       "data": [
        {
         "marker": {
          "color": "rgba(255, 153, 51, 0.6)",
          "line": {
           "color": "rgba(255, 153, 51, 1.0)",
           "width": 1
          }
         },
         "name": "Number of days in Top 50",
         "orientation": "v",
         "text": "",
         "type": "bar",
         "x": [
          "Danny Vera: Roller Coaster",
          "The Weeknd: Blinding Lights",
          "Lewis Capaldi: Someone You Loved",
          "Ed Sheeran: Shape of You",
          "Davina Michelle: Duurt Te Lang",
          "Tones And I: Dance Monkey",
          "Joel Corry: Head & Heart (feat. MNEK)",
          "Kris Kross Amsterdam, Maan, Tabitha: Hij Is Van Mij (feat. Bizzey)",
          "Tiësto: The Business",
          "Emma Heesters, Rolf Sanchez: Pa Olvidarte (Beste Zangers Seizoen 2019)",
          "Marco Borsato, Armin van Buuren, Davina Michelle: Hoe Het Danst",
          "Snelle: Reunie",
          "SAINt JHN: Roses - Imanbek Remix",
          "5 Seconds of Summer: Youngblood",
          "Suzan & Freek, Snelle: De Overkant",
          "Lady Gaga, Bradley Cooper: Shallow",
          "Dua Lipa: Don't Start Now",
          "French Montana, Swae Lee: Unforgettable",
          "Dua Lipa: New Rules",
          "Lewis Capaldi: Before You Go",
          "Lil Kleine, Boef: Krantenwijk",
          "Nielson: IJskoud",
          "Snelle, Ronnie Flex: In De Schuur",
          "Shawn Mendes, Camila Cabello: Senorita",
          "Henkie T, Jonna Fraser: DomDoen",
          "Lil Kleine, Bokoesam: Net Iets Meer",
          "Topic, A7S: Breaking Me",
          "Kevin, Yade Lauren: Als Ik Je Niet Zie",
          "Dean Lewis: Be Alright",
          "Billie Eilish: bad guy",
          "Riton, Nightcrawlers: Friday (feat. Mufasa & Hypeman) - Dopamine Re-Edit",
          "24kGoldn: Mood (feat. iann dior)",
          "Frenna, Lil Kleine: Verleden Tijd",
          "Post Malone: Circles",
          "Ed Sheeran: Perfect",
          "Regard: Ride It",
          "Luis Fonsi: Despacito (Featuring Daddy Yankee)",
          "Snelle, Frenna: Plankgas",
          "Mabel: Don't Call Me Up",
          "Daddy Yankee, Snow: Con Calma",
          "Ava Max: Sweet but Psycho",
          "Suzan & Freek: Als Het Avond Is",
          "SFB, Ronnie Flex: Lovely Body",
          "DaBaby: ROCKSTAR (feat. Roddy Ricch)",
          "Dua Lipa: Levitating (feat. DaBaby)",
          "Harry Styles: Watermelon Sugar",
          "Yxng Le, Frenna: Wat Is Je Naam",
          "Snelle: Scars",
          "Miss Montreal: Door De Wind",
          "Snelle, Maan: Blijven Slapen"
         ],
         "y": [
          499,
          471,
          448,
          381,
          348,
          336,
          322,
          298,
          293,
          288,
          285,
          257,
          257,
          255,
          248,
          241,
          235,
          231,
          222,
          221,
          216,
          214,
          214,
          212,
          209,
          207,
          207,
          206,
          206,
          205,
          205,
          205,
          204,
          201,
          201,
          200,
          199,
          198,
          197,
          196,
          196,
          196,
          195,
          194,
          194,
          192,
          191,
          190,
          188,
          188
         ]
        }
       ],
       "layout": {
        "legend": {
         "bgcolor": "#F5F6F9",
         "font": {
          "color": "#4D5663"
         }
        },
        "paper_bgcolor": "#F5F6F9",
        "plot_bgcolor": "#F5F6F9",
        "template": {
         "data": {
          "bar": [
           {
            "error_x": {
             "color": "#2a3f5f"
            },
            "error_y": {
             "color": "#2a3f5f"
            },
            "marker": {
             "line": {
              "color": "#E5ECF6",
              "width": 0.5
             },
             "pattern": {
              "fillmode": "overlay",
              "size": 10,
              "solidity": 0.2
             }
            },
            "type": "bar"
           }
          ],
          "barpolar": [
           {
            "marker": {
             "line": {
              "color": "#E5ECF6",
              "width": 0.5
             },
             "pattern": {
              "fillmode": "overlay",
              "size": 10,
              "solidity": 0.2
             }
            },
            "type": "barpolar"
           }
          ],
          "carpet": [
           {
            "aaxis": {
             "endlinecolor": "#2a3f5f",
             "gridcolor": "white",
             "linecolor": "white",
             "minorgridcolor": "white",
             "startlinecolor": "#2a3f5f"
            },
            "baxis": {
             "endlinecolor": "#2a3f5f",
             "gridcolor": "white",
             "linecolor": "white",
             "minorgridcolor": "white",
             "startlinecolor": "#2a3f5f"
            },
            "type": "carpet"
           }
          ],
          "choropleth": [
           {
            "colorbar": {
             "outlinewidth": 0,
             "ticks": ""
            },
            "type": "choropleth"
           }
          ],
          "contour": [
           {
            "colorbar": {
             "outlinewidth": 0,
             "ticks": ""
            },
            "colorscale": [
             [
              0,
              "#0d0887"
             ],
             [
              0.1111111111111111,
              "#46039f"
             ],
             [
              0.2222222222222222,
              "#7201a8"
             ],
             [
              0.3333333333333333,
              "#9c179e"
             ],
             [
              0.4444444444444444,
              "#bd3786"
             ],
             [
              0.5555555555555556,
              "#d8576b"
             ],
             [
              0.6666666666666666,
              "#ed7953"
             ],
             [
              0.7777777777777778,
              "#fb9f3a"
             ],
             [
              0.8888888888888888,
              "#fdca26"
             ],
             [
              1,
              "#f0f921"
             ]
            ],
            "type": "contour"
           }
          ],
          "contourcarpet": [
           {
            "colorbar": {
             "outlinewidth": 0,
             "ticks": ""
            },
            "type": "contourcarpet"
           }
          ],
          "heatmap": [
           {
            "colorbar": {
             "outlinewidth": 0,
             "ticks": ""
            },
            "colorscale": [
             [
              0,
              "#0d0887"
             ],
             [
              0.1111111111111111,
              "#46039f"
             ],
             [
              0.2222222222222222,
              "#7201a8"
             ],
             [
              0.3333333333333333,
              "#9c179e"
             ],
             [
              0.4444444444444444,
              "#bd3786"
             ],
             [
              0.5555555555555556,
              "#d8576b"
             ],
             [
              0.6666666666666666,
              "#ed7953"
             ],
             [
              0.7777777777777778,
              "#fb9f3a"
             ],
             [
              0.8888888888888888,
              "#fdca26"
             ],
             [
              1,
              "#f0f921"
             ]
            ],
            "type": "heatmap"
           }
          ],
          "heatmapgl": [
           {
            "colorbar": {
             "outlinewidth": 0,
             "ticks": ""
            },
            "colorscale": [
             [
              0,
              "#0d0887"
             ],
             [
              0.1111111111111111,
              "#46039f"
             ],
             [
              0.2222222222222222,
              "#7201a8"
             ],
             [
              0.3333333333333333,
              "#9c179e"
             ],
             [
              0.4444444444444444,
              "#bd3786"
             ],
             [
              0.5555555555555556,
              "#d8576b"
             ],
             [
              0.6666666666666666,
              "#ed7953"
             ],
             [
              0.7777777777777778,
              "#fb9f3a"
             ],
             [
              0.8888888888888888,
              "#fdca26"
             ],
             [
              1,
              "#f0f921"
             ]
            ],
            "type": "heatmapgl"
           }
          ],
          "histogram": [
           {
            "marker": {
             "pattern": {
              "fillmode": "overlay",
              "size": 10,
              "solidity": 0.2
             }
            },
            "type": "histogram"
           }
          ],
          "histogram2d": [
           {
            "colorbar": {
             "outlinewidth": 0,
             "ticks": ""
            },
            "colorscale": [
             [
              0,
              "#0d0887"
             ],
             [
              0.1111111111111111,
              "#46039f"
             ],
             [
              0.2222222222222222,
              "#7201a8"
             ],
             [
              0.3333333333333333,
              "#9c179e"
             ],
             [
              0.4444444444444444,
              "#bd3786"
             ],
             [
              0.5555555555555556,
              "#d8576b"
             ],
             [
              0.6666666666666666,
              "#ed7953"
             ],
             [
              0.7777777777777778,
              "#fb9f3a"
             ],
             [
              0.8888888888888888,
              "#fdca26"
             ],
             [
              1,
              "#f0f921"
             ]
            ],
            "type": "histogram2d"
           }
          ],
          "histogram2dcontour": [
           {
            "colorbar": {
             "outlinewidth": 0,
             "ticks": ""
            },
            "colorscale": [
             [
              0,
              "#0d0887"
             ],
             [
              0.1111111111111111,
              "#46039f"
             ],
             [
              0.2222222222222222,
              "#7201a8"
             ],
             [
              0.3333333333333333,
              "#9c179e"
             ],
             [
              0.4444444444444444,
              "#bd3786"
             ],
             [
              0.5555555555555556,
              "#d8576b"
             ],
             [
              0.6666666666666666,
              "#ed7953"
             ],
             [
              0.7777777777777778,
              "#fb9f3a"
             ],
             [
              0.8888888888888888,
              "#fdca26"
             ],
             [
              1,
              "#f0f921"
             ]
            ],
            "type": "histogram2dcontour"
           }
          ],
          "mesh3d": [
           {
            "colorbar": {
             "outlinewidth": 0,
             "ticks": ""
            },
            "type": "mesh3d"
           }
          ],
          "parcoords": [
           {
            "line": {
             "colorbar": {
              "outlinewidth": 0,
              "ticks": ""
             }
            },
            "type": "parcoords"
           }
          ],
          "pie": [
           {
            "automargin": true,
            "type": "pie"
           }
          ],
          "scatter": [
           {
            "fillpattern": {
             "fillmode": "overlay",
             "size": 10,
             "solidity": 0.2
            },
            "type": "scatter"
           }
          ],
          "scatter3d": [
           {
            "line": {
             "colorbar": {
              "outlinewidth": 0,
              "ticks": ""
             }
            },
            "marker": {
             "colorbar": {
              "outlinewidth": 0,
              "ticks": ""
             }
            },
            "type": "scatter3d"
           }
          ],
          "scattercarpet": [
           {
            "marker": {
             "colorbar": {
              "outlinewidth": 0,
              "ticks": ""
             }
            },
            "type": "scattercarpet"
           }
          ],
          "scattergeo": [
           {
            "marker": {
             "colorbar": {
              "outlinewidth": 0,
              "ticks": ""
             }
            },
            "type": "scattergeo"
           }
          ],
          "scattergl": [
           {
            "marker": {
             "colorbar": {
              "outlinewidth": 0,
              "ticks": ""
             }
            },
            "type": "scattergl"
           }
          ],
          "scattermapbox": [
           {
            "marker": {
             "colorbar": {
              "outlinewidth": 0,
              "ticks": ""
             }
            },
            "type": "scattermapbox"
           }
          ],
          "scatterpolar": [
           {
            "marker": {
             "colorbar": {
              "outlinewidth": 0,
              "ticks": ""
             }
            },
            "type": "scatterpolar"
           }
          ],
          "scatterpolargl": [
           {
            "marker": {
             "colorbar": {
              "outlinewidth": 0,
              "ticks": ""
             }
            },
            "type": "scatterpolargl"
           }
          ],
          "scatterternary": [
           {
            "marker": {
             "colorbar": {
              "outlinewidth": 0,
              "ticks": ""
             }
            },
            "type": "scatterternary"
           }
          ],
          "surface": [
           {
            "colorbar": {
             "outlinewidth": 0,
             "ticks": ""
            },
            "colorscale": [
             [
              0,
              "#0d0887"
             ],
             [
              0.1111111111111111,
              "#46039f"
             ],
             [
              0.2222222222222222,
              "#7201a8"
             ],
             [
              0.3333333333333333,
              "#9c179e"
             ],
             [
              0.4444444444444444,
              "#bd3786"
             ],
             [
              0.5555555555555556,
              "#d8576b"
             ],
             [
              0.6666666666666666,
              "#ed7953"
             ],
             [
              0.7777777777777778,
              "#fb9f3a"
             ],
             [
              0.8888888888888888,
              "#fdca26"
             ],
             [
              1,
              "#f0f921"
             ]
            ],
            "type": "surface"
           }
          ],
          "table": [
           {
            "cells": {
             "fill": {
              "color": "#EBF0F8"
             },
             "line": {
              "color": "white"
             }
            },
            "header": {
             "fill": {
              "color": "#C8D4E3"
             },
             "line": {
              "color": "white"
             }
            },
            "type": "table"
           }
          ]
         },
         "layout": {
          "annotationdefaults": {
           "arrowcolor": "#2a3f5f",
           "arrowhead": 0,
           "arrowwidth": 1
          },
          "autotypenumbers": "strict",
          "coloraxis": {
           "colorbar": {
            "outlinewidth": 0,
            "ticks": ""
           }
          },
          "colorscale": {
           "diverging": [
            [
             0,
             "#8e0152"
            ],
            [
             0.1,
             "#c51b7d"
            ],
            [
             0.2,
             "#de77ae"
            ],
            [
             0.3,
             "#f1b6da"
            ],
            [
             0.4,
             "#fde0ef"
            ],
            [
             0.5,
             "#f7f7f7"
            ],
            [
             0.6,
             "#e6f5d0"
            ],
            [
             0.7,
             "#b8e186"
            ],
            [
             0.8,
             "#7fbc41"
            ],
            [
             0.9,
             "#4d9221"
            ],
            [
             1,
             "#276419"
            ]
           ],
           "sequential": [
            [
             0,
             "#0d0887"
            ],
            [
             0.1111111111111111,
             "#46039f"
            ],
            [
             0.2222222222222222,
             "#7201a8"
            ],
            [
             0.3333333333333333,
             "#9c179e"
            ],
            [
             0.4444444444444444,
             "#bd3786"
            ],
            [
             0.5555555555555556,
             "#d8576b"
            ],
            [
             0.6666666666666666,
             "#ed7953"
            ],
            [
             0.7777777777777778,
             "#fb9f3a"
            ],
            [
             0.8888888888888888,
             "#fdca26"
            ],
            [
             1,
             "#f0f921"
            ]
           ],
           "sequentialminus": [
            [
             0,
             "#0d0887"
            ],
            [
             0.1111111111111111,
             "#46039f"
            ],
            [
             0.2222222222222222,
             "#7201a8"
            ],
            [
             0.3333333333333333,
             "#9c179e"
            ],
            [
             0.4444444444444444,
             "#bd3786"
            ],
            [
             0.5555555555555556,
             "#d8576b"
            ],
            [
             0.6666666666666666,
             "#ed7953"
            ],
            [
             0.7777777777777778,
             "#fb9f3a"
            ],
            [
             0.8888888888888888,
             "#fdca26"
            ],
            [
             1,
             "#f0f921"
            ]
           ]
          },
          "colorway": [
           "#636efa",
           "#EF553B",
           "#00cc96",
           "#ab63fa",
           "#FFA15A",
           "#19d3f3",
           "#FF6692",
           "#B6E880",
           "#FF97FF",
           "#FECB52"
          ],
          "font": {
           "color": "#2a3f5f"
          },
          "geo": {
           "bgcolor": "white",
           "lakecolor": "white",
           "landcolor": "#E5ECF6",
           "showlakes": true,
           "showland": true,
           "subunitcolor": "white"
          },
          "hoverlabel": {
           "align": "left"
          },
          "hovermode": "closest",
          "mapbox": {
           "style": "light"
          },
          "paper_bgcolor": "white",
          "plot_bgcolor": "#E5ECF6",
          "polar": {
           "angularaxis": {
            "gridcolor": "white",
            "linecolor": "white",
            "ticks": ""
           },
           "bgcolor": "#E5ECF6",
           "radialaxis": {
            "gridcolor": "white",
            "linecolor": "white",
            "ticks": ""
           }
          },
          "scene": {
           "xaxis": {
            "backgroundcolor": "#E5ECF6",
            "gridcolor": "white",
            "gridwidth": 2,
            "linecolor": "white",
            "showbackground": true,
            "ticks": "",
            "zerolinecolor": "white"
           },
           "yaxis": {
            "backgroundcolor": "#E5ECF6",
            "gridcolor": "white",
            "gridwidth": 2,
            "linecolor": "white",
            "showbackground": true,
            "ticks": "",
            "zerolinecolor": "white"
           },
           "zaxis": {
            "backgroundcolor": "#E5ECF6",
            "gridcolor": "white",
            "gridwidth": 2,
            "linecolor": "white",
            "showbackground": true,
            "ticks": "",
            "zerolinecolor": "white"
           }
          },
          "shapedefaults": {
           "line": {
            "color": "#2a3f5f"
           }
          },
          "ternary": {
           "aaxis": {
            "gridcolor": "white",
            "linecolor": "white",
            "ticks": ""
           },
           "baxis": {
            "gridcolor": "white",
            "linecolor": "white",
            "ticks": ""
           },
           "bgcolor": "#E5ECF6",
           "caxis": {
            "gridcolor": "white",
            "linecolor": "white",
            "ticks": ""
           }
          },
          "title": {
           "x": 0.05
          },
          "xaxis": {
           "automargin": true,
           "gridcolor": "white",
           "linecolor": "white",
           "ticks": "",
           "title": {
            "standoff": 15
           },
           "zerolinecolor": "white",
           "zerolinewidth": 2
          },
          "yaxis": {
           "automargin": true,
           "gridcolor": "white",
           "linecolor": "white",
           "ticks": "",
           "title": {
            "standoff": 15
           },
           "zerolinecolor": "white",
           "zerolinewidth": 2
          }
         }
        },
        "title": {
         "font": {
          "color": "#4D5663"
         }
        },
        "xaxis": {
         "gridcolor": "#E1E5ED",
         "showgrid": true,
         "tickfont": {
          "color": "#4D5663"
         },
         "title": {
          "font": {
           "color": "#4D5663"
          },
          "text": ""
         },
         "zerolinecolor": "#E1E5ED"
        },
        "yaxis": {
         "gridcolor": "#E1E5ED",
         "showgrid": true,
         "tickfont": {
          "color": "#4D5663"
         },
         "title": {
          "font": {
           "color": "#4D5663"
          },
          "text": ""
         },
         "zerolinecolor": "#E1E5ED"
        }
       }
      },
      "text/html": [
       "<div>                            <div id=\"ab0ec12f-5b03-4ccd-ace2-3cbc457b9c61\" class=\"plotly-graph-div\" style=\"height:525px; width:100%;\"></div>            <script type=\"text/javascript\">                require([\"plotly\"], function(Plotly) {                    window.PLOTLYENV=window.PLOTLYENV || {};\n",
       "                    window.PLOTLYENV.BASE_URL='https://plot.ly';                                    if (document.getElementById(\"ab0ec12f-5b03-4ccd-ace2-3cbc457b9c61\")) {                    Plotly.newPlot(                        \"ab0ec12f-5b03-4ccd-ace2-3cbc457b9c61\",                        [{\"marker\":{\"color\":\"rgba(255, 153, 51, 0.6)\",\"line\":{\"color\":\"rgba(255, 153, 51, 1.0)\",\"width\":1}},\"name\":\"Number of days in Top 50\",\"orientation\":\"v\",\"text\":\"\",\"x\":[\"Danny Vera: Roller Coaster\",\"The Weeknd: Blinding Lights\",\"Lewis Capaldi: Someone You Loved\",\"Ed Sheeran: Shape of You\",\"Davina Michelle: Duurt Te Lang\",\"Tones And I: Dance Monkey\",\"Joel Corry: Head & Heart (feat. MNEK)\",\"Kris Kross Amsterdam, Maan, Tabitha: Hij Is Van Mij (feat. Bizzey)\",\"Ti\\u00ebsto: The Business\",\"Emma Heesters, Rolf Sanchez: Pa Olvidarte (Beste Zangers Seizoen 2019)\",\"Marco Borsato, Armin van Buuren, Davina Michelle: Hoe Het Danst\",\"Snelle: Reunie\",\"SAINt JHN: Roses - Imanbek Remix\",\"5 Seconds of Summer: Youngblood\",\"Suzan & Freek, Snelle: De Overkant\",\"Lady Gaga, Bradley Cooper: Shallow\",\"Dua Lipa: Don't Start Now\",\"French Montana, Swae Lee: Unforgettable\",\"Dua Lipa: New Rules\",\"Lewis Capaldi: Before You Go\",\"Lil Kleine, Boef: Krantenwijk\",\"Nielson: IJskoud\",\"Snelle, Ronnie Flex: In De Schuur\",\"Shawn Mendes, Camila Cabello: Senorita\",\"Henkie T, Jonna Fraser: DomDoen\",\"Lil Kleine, Bokoesam: Net Iets Meer\",\"Topic, A7S: Breaking Me\",\"Kevin, Yade Lauren: Als Ik Je Niet Zie\",\"Dean Lewis: Be Alright\",\"Billie Eilish: bad guy\",\"Riton, Nightcrawlers: Friday (feat. Mufasa & Hypeman) - Dopamine Re-Edit\",\"24kGoldn: Mood (feat. iann dior)\",\"Frenna, Lil Kleine: Verleden Tijd\",\"Post Malone: Circles\",\"Ed Sheeran: Perfect\",\"Regard: Ride It\",\"Luis Fonsi: Despacito (Featuring Daddy Yankee)\",\"Snelle, Frenna: Plankgas\",\"Mabel: Don't Call Me Up\",\"Daddy Yankee, Snow: Con Calma\",\"Ava Max: Sweet but Psycho\",\"Suzan & Freek: Als Het Avond Is\",\"SFB, Ronnie Flex: Lovely Body\",\"DaBaby: ROCKSTAR (feat. Roddy Ricch)\",\"Dua Lipa: Levitating (feat. DaBaby)\",\"Harry Styles: Watermelon Sugar\",\"Yxng Le, Frenna: Wat Is Je Naam\",\"Snelle: Scars\",\"Miss Montreal: Door De Wind\",\"Snelle, Maan: Blijven Slapen\"],\"y\":[499,471,448,381,348,336,322,298,293,288,285,257,257,255,248,241,235,231,222,221,216,214,214,212,209,207,207,206,206,205,205,205,204,201,201,200,199,198,197,196,196,196,195,194,194,192,191,190,188,188],\"type\":\"bar\"}],                        {\"legend\":{\"bgcolor\":\"#F5F6F9\",\"font\":{\"color\":\"#4D5663\"}},\"paper_bgcolor\":\"#F5F6F9\",\"plot_bgcolor\":\"#F5F6F9\",\"template\":{\"data\":{\"barpolar\":[{\"marker\":{\"line\":{\"color\":\"#E5ECF6\",\"width\":0.5},\"pattern\":{\"fillmode\":\"overlay\",\"size\":10,\"solidity\":0.2}},\"type\":\"barpolar\"}],\"bar\":[{\"error_x\":{\"color\":\"#2a3f5f\"},\"error_y\":{\"color\":\"#2a3f5f\"},\"marker\":{\"line\":{\"color\":\"#E5ECF6\",\"width\":0.5},\"pattern\":{\"fillmode\":\"overlay\",\"size\":10,\"solidity\":0.2}},\"type\":\"bar\"}],\"carpet\":[{\"aaxis\":{\"endlinecolor\":\"#2a3f5f\",\"gridcolor\":\"white\",\"linecolor\":\"white\",\"minorgridcolor\":\"white\",\"startlinecolor\":\"#2a3f5f\"},\"baxis\":{\"endlinecolor\":\"#2a3f5f\",\"gridcolor\":\"white\",\"linecolor\":\"white\",\"minorgridcolor\":\"white\",\"startlinecolor\":\"#2a3f5f\"},\"type\":\"carpet\"}],\"choropleth\":[{\"colorbar\":{\"outlinewidth\":0,\"ticks\":\"\"},\"type\":\"choropleth\"}],\"contourcarpet\":[{\"colorbar\":{\"outlinewidth\":0,\"ticks\":\"\"},\"type\":\"contourcarpet\"}],\"contour\":[{\"colorbar\":{\"outlinewidth\":0,\"ticks\":\"\"},\"colorscale\":[[0.0,\"#0d0887\"],[0.1111111111111111,\"#46039f\"],[0.2222222222222222,\"#7201a8\"],[0.3333333333333333,\"#9c179e\"],[0.4444444444444444,\"#bd3786\"],[0.5555555555555556,\"#d8576b\"],[0.6666666666666666,\"#ed7953\"],[0.7777777777777778,\"#fb9f3a\"],[0.8888888888888888,\"#fdca26\"],[1.0,\"#f0f921\"]],\"type\":\"contour\"}],\"heatmapgl\":[{\"colorbar\":{\"outlinewidth\":0,\"ticks\":\"\"},\"colorscale\":[[0.0,\"#0d0887\"],[0.1111111111111111,\"#46039f\"],[0.2222222222222222,\"#7201a8\"],[0.3333333333333333,\"#9c179e\"],[0.4444444444444444,\"#bd3786\"],[0.5555555555555556,\"#d8576b\"],[0.6666666666666666,\"#ed7953\"],[0.7777777777777778,\"#fb9f3a\"],[0.8888888888888888,\"#fdca26\"],[1.0,\"#f0f921\"]],\"type\":\"heatmapgl\"}],\"heatmap\":[{\"colorbar\":{\"outlinewidth\":0,\"ticks\":\"\"},\"colorscale\":[[0.0,\"#0d0887\"],[0.1111111111111111,\"#46039f\"],[0.2222222222222222,\"#7201a8\"],[0.3333333333333333,\"#9c179e\"],[0.4444444444444444,\"#bd3786\"],[0.5555555555555556,\"#d8576b\"],[0.6666666666666666,\"#ed7953\"],[0.7777777777777778,\"#fb9f3a\"],[0.8888888888888888,\"#fdca26\"],[1.0,\"#f0f921\"]],\"type\":\"heatmap\"}],\"histogram2dcontour\":[{\"colorbar\":{\"outlinewidth\":0,\"ticks\":\"\"},\"colorscale\":[[0.0,\"#0d0887\"],[0.1111111111111111,\"#46039f\"],[0.2222222222222222,\"#7201a8\"],[0.3333333333333333,\"#9c179e\"],[0.4444444444444444,\"#bd3786\"],[0.5555555555555556,\"#d8576b\"],[0.6666666666666666,\"#ed7953\"],[0.7777777777777778,\"#fb9f3a\"],[0.8888888888888888,\"#fdca26\"],[1.0,\"#f0f921\"]],\"type\":\"histogram2dcontour\"}],\"histogram2d\":[{\"colorbar\":{\"outlinewidth\":0,\"ticks\":\"\"},\"colorscale\":[[0.0,\"#0d0887\"],[0.1111111111111111,\"#46039f\"],[0.2222222222222222,\"#7201a8\"],[0.3333333333333333,\"#9c179e\"],[0.4444444444444444,\"#bd3786\"],[0.5555555555555556,\"#d8576b\"],[0.6666666666666666,\"#ed7953\"],[0.7777777777777778,\"#fb9f3a\"],[0.8888888888888888,\"#fdca26\"],[1.0,\"#f0f921\"]],\"type\":\"histogram2d\"}],\"histogram\":[{\"marker\":{\"pattern\":{\"fillmode\":\"overlay\",\"size\":10,\"solidity\":0.2}},\"type\":\"histogram\"}],\"mesh3d\":[{\"colorbar\":{\"outlinewidth\":0,\"ticks\":\"\"},\"type\":\"mesh3d\"}],\"parcoords\":[{\"line\":{\"colorbar\":{\"outlinewidth\":0,\"ticks\":\"\"}},\"type\":\"parcoords\"}],\"pie\":[{\"automargin\":true,\"type\":\"pie\"}],\"scatter3d\":[{\"line\":{\"colorbar\":{\"outlinewidth\":0,\"ticks\":\"\"}},\"marker\":{\"colorbar\":{\"outlinewidth\":0,\"ticks\":\"\"}},\"type\":\"scatter3d\"}],\"scattercarpet\":[{\"marker\":{\"colorbar\":{\"outlinewidth\":0,\"ticks\":\"\"}},\"type\":\"scattercarpet\"}],\"scattergeo\":[{\"marker\":{\"colorbar\":{\"outlinewidth\":0,\"ticks\":\"\"}},\"type\":\"scattergeo\"}],\"scattergl\":[{\"marker\":{\"colorbar\":{\"outlinewidth\":0,\"ticks\":\"\"}},\"type\":\"scattergl\"}],\"scattermapbox\":[{\"marker\":{\"colorbar\":{\"outlinewidth\":0,\"ticks\":\"\"}},\"type\":\"scattermapbox\"}],\"scatterpolargl\":[{\"marker\":{\"colorbar\":{\"outlinewidth\":0,\"ticks\":\"\"}},\"type\":\"scatterpolargl\"}],\"scatterpolar\":[{\"marker\":{\"colorbar\":{\"outlinewidth\":0,\"ticks\":\"\"}},\"type\":\"scatterpolar\"}],\"scatter\":[{\"fillpattern\":{\"fillmode\":\"overlay\",\"size\":10,\"solidity\":0.2},\"type\":\"scatter\"}],\"scatterternary\":[{\"marker\":{\"colorbar\":{\"outlinewidth\":0,\"ticks\":\"\"}},\"type\":\"scatterternary\"}],\"surface\":[{\"colorbar\":{\"outlinewidth\":0,\"ticks\":\"\"},\"colorscale\":[[0.0,\"#0d0887\"],[0.1111111111111111,\"#46039f\"],[0.2222222222222222,\"#7201a8\"],[0.3333333333333333,\"#9c179e\"],[0.4444444444444444,\"#bd3786\"],[0.5555555555555556,\"#d8576b\"],[0.6666666666666666,\"#ed7953\"],[0.7777777777777778,\"#fb9f3a\"],[0.8888888888888888,\"#fdca26\"],[1.0,\"#f0f921\"]],\"type\":\"surface\"}],\"table\":[{\"cells\":{\"fill\":{\"color\":\"#EBF0F8\"},\"line\":{\"color\":\"white\"}},\"header\":{\"fill\":{\"color\":\"#C8D4E3\"},\"line\":{\"color\":\"white\"}},\"type\":\"table\"}]},\"layout\":{\"annotationdefaults\":{\"arrowcolor\":\"#2a3f5f\",\"arrowhead\":0,\"arrowwidth\":1},\"autotypenumbers\":\"strict\",\"coloraxis\":{\"colorbar\":{\"outlinewidth\":0,\"ticks\":\"\"}},\"colorscale\":{\"diverging\":[[0,\"#8e0152\"],[0.1,\"#c51b7d\"],[0.2,\"#de77ae\"],[0.3,\"#f1b6da\"],[0.4,\"#fde0ef\"],[0.5,\"#f7f7f7\"],[0.6,\"#e6f5d0\"],[0.7,\"#b8e186\"],[0.8,\"#7fbc41\"],[0.9,\"#4d9221\"],[1,\"#276419\"]],\"sequential\":[[0.0,\"#0d0887\"],[0.1111111111111111,\"#46039f\"],[0.2222222222222222,\"#7201a8\"],[0.3333333333333333,\"#9c179e\"],[0.4444444444444444,\"#bd3786\"],[0.5555555555555556,\"#d8576b\"],[0.6666666666666666,\"#ed7953\"],[0.7777777777777778,\"#fb9f3a\"],[0.8888888888888888,\"#fdca26\"],[1.0,\"#f0f921\"]],\"sequentialminus\":[[0.0,\"#0d0887\"],[0.1111111111111111,\"#46039f\"],[0.2222222222222222,\"#7201a8\"],[0.3333333333333333,\"#9c179e\"],[0.4444444444444444,\"#bd3786\"],[0.5555555555555556,\"#d8576b\"],[0.6666666666666666,\"#ed7953\"],[0.7777777777777778,\"#fb9f3a\"],[0.8888888888888888,\"#fdca26\"],[1.0,\"#f0f921\"]]},\"colorway\":[\"#636efa\",\"#EF553B\",\"#00cc96\",\"#ab63fa\",\"#FFA15A\",\"#19d3f3\",\"#FF6692\",\"#B6E880\",\"#FF97FF\",\"#FECB52\"],\"font\":{\"color\":\"#2a3f5f\"},\"geo\":{\"bgcolor\":\"white\",\"lakecolor\":\"white\",\"landcolor\":\"#E5ECF6\",\"showlakes\":true,\"showland\":true,\"subunitcolor\":\"white\"},\"hoverlabel\":{\"align\":\"left\"},\"hovermode\":\"closest\",\"mapbox\":{\"style\":\"light\"},\"paper_bgcolor\":\"white\",\"plot_bgcolor\":\"#E5ECF6\",\"polar\":{\"angularaxis\":{\"gridcolor\":\"white\",\"linecolor\":\"white\",\"ticks\":\"\"},\"bgcolor\":\"#E5ECF6\",\"radialaxis\":{\"gridcolor\":\"white\",\"linecolor\":\"white\",\"ticks\":\"\"}},\"scene\":{\"xaxis\":{\"backgroundcolor\":\"#E5ECF6\",\"gridcolor\":\"white\",\"gridwidth\":2,\"linecolor\":\"white\",\"showbackground\":true,\"ticks\":\"\",\"zerolinecolor\":\"white\"},\"yaxis\":{\"backgroundcolor\":\"#E5ECF6\",\"gridcolor\":\"white\",\"gridwidth\":2,\"linecolor\":\"white\",\"showbackground\":true,\"ticks\":\"\",\"zerolinecolor\":\"white\"},\"zaxis\":{\"backgroundcolor\":\"#E5ECF6\",\"gridcolor\":\"white\",\"gridwidth\":2,\"linecolor\":\"white\",\"showbackground\":true,\"ticks\":\"\",\"zerolinecolor\":\"white\"}},\"shapedefaults\":{\"line\":{\"color\":\"#2a3f5f\"}},\"ternary\":{\"aaxis\":{\"gridcolor\":\"white\",\"linecolor\":\"white\",\"ticks\":\"\"},\"baxis\":{\"gridcolor\":\"white\",\"linecolor\":\"white\",\"ticks\":\"\"},\"bgcolor\":\"#E5ECF6\",\"caxis\":{\"gridcolor\":\"white\",\"linecolor\":\"white\",\"ticks\":\"\"}},\"title\":{\"x\":0.05},\"xaxis\":{\"automargin\":true,\"gridcolor\":\"white\",\"linecolor\":\"white\",\"ticks\":\"\",\"title\":{\"standoff\":15},\"zerolinecolor\":\"white\",\"zerolinewidth\":2},\"yaxis\":{\"automargin\":true,\"gridcolor\":\"white\",\"linecolor\":\"white\",\"ticks\":\"\",\"title\":{\"standoff\":15},\"zerolinecolor\":\"white\",\"zerolinewidth\":2}}},\"title\":{\"font\":{\"color\":\"#4D5663\"}},\"xaxis\":{\"gridcolor\":\"#E1E5ED\",\"showgrid\":true,\"tickfont\":{\"color\":\"#4D5663\"},\"title\":{\"font\":{\"color\":\"#4D5663\"},\"text\":\"\"},\"zerolinecolor\":\"#E1E5ED\"},\"yaxis\":{\"gridcolor\":\"#E1E5ED\",\"showgrid\":true,\"tickfont\":{\"color\":\"#4D5663\"},\"title\":{\"font\":{\"color\":\"#4D5663\"},\"text\":\"\"},\"zerolinecolor\":\"#E1E5ED\"}},                        {\"showLink\": true, \"linkText\": \"Export to plot.ly\", \"plotlyServerURL\": \"https://plot.ly\", \"responsive\": true}                    ).then(function(){\n",
       "                            \n",
       "var gd = document.getElementById('ab0ec12f-5b03-4ccd-ace2-3cbc457b9c61');\n",
       "var x = new MutationObserver(function (mutations, observer) {{\n",
       "        var display = window.getComputedStyle(gd).display;\n",
       "        if (!display || display === 'none') {{\n",
       "            console.log([gd, 'removed!']);\n",
       "            Plotly.purge(gd);\n",
       "            observer.disconnect();\n",
       "        }}\n",
       "}});\n",
       "\n",
       "// Listen for the removal of the full notebook cells\n",
       "var notebookContainer = gd.closest('#notebook-container');\n",
       "if (notebookContainer) {{\n",
       "    x.observe(notebookContainer, {childList: true});\n",
       "}}\n",
       "\n",
       "// Listen for the clearing of the current output cell\n",
       "var outputEl = gd.closest('.output');\n",
       "if (outputEl) {{\n",
       "    x.observe(outputEl, {childList: true});\n",
       "}}\n",
       "\n",
       "                        })                };                });            </script>        </div>"
      ]
     },
     "metadata": {},
     "output_type": "display_data"
    }
   ],
   "source": [
    "# Top 50 Songs that stayed the longest in the Spotify Netherlands Charts [2017-2021]\n",
    "longest_intop_edit.head(50).iplot(kind='bar')"
   ]
  },
  {
   "cell_type": "markdown",
   "metadata": {},
   "source": [
    "#### Trends for Top 5 songs on the Charts"
   ]
  },
  {
   "cell_type": "code",
   "execution_count": 69,
   "metadata": {},
   "outputs": [
    {
     "data": {
      "text/html": [
       "<div>\n",
       "<style scoped>\n",
       "    .dataframe tbody tr th:only-of-type {\n",
       "        vertical-align: middle;\n",
       "    }\n",
       "\n",
       "    .dataframe tbody tr th {\n",
       "        vertical-align: top;\n",
       "    }\n",
       "\n",
       "    .dataframe thead th {\n",
       "        text-align: right;\n",
       "    }\n",
       "</style>\n",
       "<table border=\"1\" class=\"dataframe\">\n",
       "  <thead>\n",
       "    <tr style=\"text-align: right;\">\n",
       "      <th></th>\n",
       "      <th>title</th>\n",
       "      <th>rank</th>\n",
       "      <th>date</th>\n",
       "      <th>artist</th>\n",
       "      <th>streams</th>\n",
       "      <th>year</th>\n",
       "      <th>month</th>\n",
       "      <th>year-month</th>\n",
       "    </tr>\n",
       "  </thead>\n",
       "  <tbody>\n",
       "    <tr>\n",
       "      <th>0</th>\n",
       "      <td>Roller Coaster</td>\n",
       "      <td>50</td>\n",
       "      <td>2019-05-25</td>\n",
       "      <td>Danny Vera</td>\n",
       "      <td>74595.0</td>\n",
       "      <td>2019</td>\n",
       "      <td>5</td>\n",
       "      <td>2019-05</td>\n",
       "    </tr>\n",
       "    <tr>\n",
       "      <th>1</th>\n",
       "      <td>Roller Coaster</td>\n",
       "      <td>46</td>\n",
       "      <td>2019-05-26</td>\n",
       "      <td>Danny Vera</td>\n",
       "      <td>65000.0</td>\n",
       "      <td>2019</td>\n",
       "      <td>5</td>\n",
       "      <td>2019-05</td>\n",
       "    </tr>\n",
       "    <tr>\n",
       "      <th>2</th>\n",
       "      <td>Roller Coaster</td>\n",
       "      <td>50</td>\n",
       "      <td>2019-05-27</td>\n",
       "      <td>Danny Vera</td>\n",
       "      <td>72717.0</td>\n",
       "      <td>2019</td>\n",
       "      <td>5</td>\n",
       "      <td>2019-05</td>\n",
       "    </tr>\n",
       "    <tr>\n",
       "      <th>3</th>\n",
       "      <td>Roller Coaster</td>\n",
       "      <td>47</td>\n",
       "      <td>2019-05-28</td>\n",
       "      <td>Danny Vera</td>\n",
       "      <td>69872.0</td>\n",
       "      <td>2019</td>\n",
       "      <td>5</td>\n",
       "      <td>2019-05</td>\n",
       "    </tr>\n",
       "    <tr>\n",
       "      <th>4</th>\n",
       "      <td>Roller Coaster</td>\n",
       "      <td>50</td>\n",
       "      <td>2019-05-29</td>\n",
       "      <td>Danny Vera</td>\n",
       "      <td>76148.0</td>\n",
       "      <td>2019</td>\n",
       "      <td>5</td>\n",
       "      <td>2019-05</td>\n",
       "    </tr>\n",
       "    <tr>\n",
       "      <th>...</th>\n",
       "      <td>...</td>\n",
       "      <td>...</td>\n",
       "      <td>...</td>\n",
       "      <td>...</td>\n",
       "      <td>...</td>\n",
       "      <td>...</td>\n",
       "      <td>...</td>\n",
       "      <td>...</td>\n",
       "    </tr>\n",
       "    <tr>\n",
       "      <th>494</th>\n",
       "      <td>Roller Coaster</td>\n",
       "      <td>49</td>\n",
       "      <td>2021-05-17</td>\n",
       "      <td>Danny Vera</td>\n",
       "      <td>59045.0</td>\n",
       "      <td>2021</td>\n",
       "      <td>5</td>\n",
       "      <td>2021-05</td>\n",
       "    </tr>\n",
       "    <tr>\n",
       "      <th>495</th>\n",
       "      <td>Roller Coaster</td>\n",
       "      <td>50</td>\n",
       "      <td>2021-05-18</td>\n",
       "      <td>Danny Vera</td>\n",
       "      <td>60624.0</td>\n",
       "      <td>2021</td>\n",
       "      <td>5</td>\n",
       "      <td>2021-05</td>\n",
       "    </tr>\n",
       "    <tr>\n",
       "      <th>496</th>\n",
       "      <td>Roller Coaster</td>\n",
       "      <td>48</td>\n",
       "      <td>2021-05-19</td>\n",
       "      <td>Danny Vera</td>\n",
       "      <td>61527.0</td>\n",
       "      <td>2021</td>\n",
       "      <td>5</td>\n",
       "      <td>2021-05</td>\n",
       "    </tr>\n",
       "    <tr>\n",
       "      <th>497</th>\n",
       "      <td>Roller Coaster</td>\n",
       "      <td>44</td>\n",
       "      <td>2021-05-30</td>\n",
       "      <td>Danny Vera</td>\n",
       "      <td>67164.0</td>\n",
       "      <td>2021</td>\n",
       "      <td>5</td>\n",
       "      <td>2021-05</td>\n",
       "    </tr>\n",
       "    <tr>\n",
       "      <th>498</th>\n",
       "      <td>Roller Coaster</td>\n",
       "      <td>49</td>\n",
       "      <td>2021-06-05</td>\n",
       "      <td>Danny Vera</td>\n",
       "      <td>65996.0</td>\n",
       "      <td>2021</td>\n",
       "      <td>6</td>\n",
       "      <td>2021-06</td>\n",
       "    </tr>\n",
       "  </tbody>\n",
       "</table>\n",
       "<p>499 rows × 8 columns</p>\n",
       "</div>"
      ],
      "text/plain": [
       "              title  rank       date      artist  streams  year  month  \\\n",
       "0    Roller Coaster    50 2019-05-25  Danny Vera  74595.0  2019      5   \n",
       "1    Roller Coaster    46 2019-05-26  Danny Vera  65000.0  2019      5   \n",
       "2    Roller Coaster    50 2019-05-27  Danny Vera  72717.0  2019      5   \n",
       "3    Roller Coaster    47 2019-05-28  Danny Vera  69872.0  2019      5   \n",
       "4    Roller Coaster    50 2019-05-29  Danny Vera  76148.0  2019      5   \n",
       "..              ...   ...        ...         ...      ...   ...    ...   \n",
       "494  Roller Coaster    49 2021-05-17  Danny Vera  59045.0  2021      5   \n",
       "495  Roller Coaster    50 2021-05-18  Danny Vera  60624.0  2021      5   \n",
       "496  Roller Coaster    48 2021-05-19  Danny Vera  61527.0  2021      5   \n",
       "497  Roller Coaster    44 2021-05-30  Danny Vera  67164.0  2021      5   \n",
       "498  Roller Coaster    49 2021-06-05  Danny Vera  65996.0  2021      6   \n",
       "\n",
       "    year-month  \n",
       "0      2019-05  \n",
       "1      2019-05  \n",
       "2      2019-05  \n",
       "3      2019-05  \n",
       "4      2019-05  \n",
       "..         ...  \n",
       "494    2021-05  \n",
       "495    2021-05  \n",
       "496    2021-05  \n",
       "497    2021-05  \n",
       "498    2021-06  \n",
       "\n",
       "[499 rows x 8 columns]"
      ]
     },
     "execution_count": 69,
     "metadata": {},
     "output_type": "execute_result"
    }
   ],
   "source": [
    "roller_coaster = top50_NL[top50_NL['title'] == 'Roller Coaster'].sort_values(by='date').reset_index(drop=True)\n",
    "roller_coaster"
   ]
  },
  {
   "cell_type": "code",
   "execution_count": 70,
   "metadata": {},
   "outputs": [],
   "source": [
    "blinding_lights = top50_NL[top50_NL['title'] == 'Blinding Lights'].sort_values(by='date').reset_index(drop=True)\n",
    "someone_you_loved = top50_NL[top50_NL['title'] == 'Someone You Loved'].sort_values(by='date').reset_index(drop=True)\n",
    "shape_of_you = top50_NL[top50_NL['title'] == 'Shape of You'].sort_values(by='date').reset_index(drop=True)\n",
    "duurt_te_lang = top50_NL[top50_NL['title'] == 'Duurt Te Lang'].sort_values(by='date').reset_index(drop=True)"
   ]
  },
  {
   "cell_type": "code",
   "execution_count": 80,
   "metadata": {},
   "outputs": [
    {
     "data": {
      "text/html": [
       "<div>\n",
       "<style scoped>\n",
       "    .dataframe tbody tr th:only-of-type {\n",
       "        vertical-align: middle;\n",
       "    }\n",
       "\n",
       "    .dataframe tbody tr th {\n",
       "        vertical-align: top;\n",
       "    }\n",
       "\n",
       "    .dataframe thead th {\n",
       "        text-align: right;\n",
       "    }\n",
       "</style>\n",
       "<table border=\"1\" class=\"dataframe\">\n",
       "  <thead>\n",
       "    <tr style=\"text-align: right;\">\n",
       "      <th></th>\n",
       "      <th>title</th>\n",
       "      <th>rank</th>\n",
       "      <th>date</th>\n",
       "      <th>artist</th>\n",
       "      <th>streams</th>\n",
       "      <th>year</th>\n",
       "      <th>month</th>\n",
       "      <th>year-month</th>\n",
       "    </tr>\n",
       "  </thead>\n",
       "  <tbody>\n",
       "    <tr>\n",
       "      <th>0</th>\n",
       "      <td>Roller Coaster</td>\n",
       "      <td>50</td>\n",
       "      <td>2019-05-25</td>\n",
       "      <td>Danny Vera</td>\n",
       "      <td>74595.0</td>\n",
       "      <td>2019</td>\n",
       "      <td>5</td>\n",
       "      <td>2019-05</td>\n",
       "    </tr>\n",
       "    <tr>\n",
       "      <th>1</th>\n",
       "      <td>Roller Coaster</td>\n",
       "      <td>46</td>\n",
       "      <td>2019-05-26</td>\n",
       "      <td>Danny Vera</td>\n",
       "      <td>65000.0</td>\n",
       "      <td>2019</td>\n",
       "      <td>5</td>\n",
       "      <td>2019-05</td>\n",
       "    </tr>\n",
       "    <tr>\n",
       "      <th>2</th>\n",
       "      <td>Roller Coaster</td>\n",
       "      <td>50</td>\n",
       "      <td>2019-05-27</td>\n",
       "      <td>Danny Vera</td>\n",
       "      <td>72717.0</td>\n",
       "      <td>2019</td>\n",
       "      <td>5</td>\n",
       "      <td>2019-05</td>\n",
       "    </tr>\n",
       "    <tr>\n",
       "      <th>3</th>\n",
       "      <td>Roller Coaster</td>\n",
       "      <td>47</td>\n",
       "      <td>2019-05-28</td>\n",
       "      <td>Danny Vera</td>\n",
       "      <td>69872.0</td>\n",
       "      <td>2019</td>\n",
       "      <td>5</td>\n",
       "      <td>2019-05</td>\n",
       "    </tr>\n",
       "    <tr>\n",
       "      <th>4</th>\n",
       "      <td>Roller Coaster</td>\n",
       "      <td>50</td>\n",
       "      <td>2019-05-29</td>\n",
       "      <td>Danny Vera</td>\n",
       "      <td>76148.0</td>\n",
       "      <td>2019</td>\n",
       "      <td>5</td>\n",
       "      <td>2019-05</td>\n",
       "    </tr>\n",
       "    <tr>\n",
       "      <th>...</th>\n",
       "      <td>...</td>\n",
       "      <td>...</td>\n",
       "      <td>...</td>\n",
       "      <td>...</td>\n",
       "      <td>...</td>\n",
       "      <td>...</td>\n",
       "      <td>...</td>\n",
       "      <td>...</td>\n",
       "    </tr>\n",
       "    <tr>\n",
       "      <th>343</th>\n",
       "      <td>Duurt Te Lang</td>\n",
       "      <td>25</td>\n",
       "      <td>2020-01-01</td>\n",
       "      <td>Davina Michelle</td>\n",
       "      <td>54235.0</td>\n",
       "      <td>2020</td>\n",
       "      <td>1</td>\n",
       "      <td>2020-01</td>\n",
       "    </tr>\n",
       "    <tr>\n",
       "      <th>344</th>\n",
       "      <td>Duurt Te Lang</td>\n",
       "      <td>41</td>\n",
       "      <td>2020-01-02</td>\n",
       "      <td>Davina Michelle</td>\n",
       "      <td>62171.0</td>\n",
       "      <td>2020</td>\n",
       "      <td>1</td>\n",
       "      <td>2020-01</td>\n",
       "    </tr>\n",
       "    <tr>\n",
       "      <th>345</th>\n",
       "      <td>Duurt Te Lang</td>\n",
       "      <td>45</td>\n",
       "      <td>2020-01-03</td>\n",
       "      <td>Davina Michelle</td>\n",
       "      <td>65413.0</td>\n",
       "      <td>2020</td>\n",
       "      <td>1</td>\n",
       "      <td>2020-01</td>\n",
       "    </tr>\n",
       "    <tr>\n",
       "      <th>346</th>\n",
       "      <td>Duurt Te Lang</td>\n",
       "      <td>41</td>\n",
       "      <td>2020-01-04</td>\n",
       "      <td>Davina Michelle</td>\n",
       "      <td>67161.0</td>\n",
       "      <td>2020</td>\n",
       "      <td>1</td>\n",
       "      <td>2020-01</td>\n",
       "    </tr>\n",
       "    <tr>\n",
       "      <th>347</th>\n",
       "      <td>Duurt Te Lang</td>\n",
       "      <td>41</td>\n",
       "      <td>2020-01-05</td>\n",
       "      <td>Davina Michelle</td>\n",
       "      <td>57915.0</td>\n",
       "      <td>2020</td>\n",
       "      <td>1</td>\n",
       "      <td>2020-01</td>\n",
       "    </tr>\n",
       "  </tbody>\n",
       "</table>\n",
       "<p>2147 rows × 8 columns</p>\n",
       "</div>"
      ],
      "text/plain": [
       "              title  rank       date           artist  streams  year  month  \\\n",
       "0    Roller Coaster    50 2019-05-25       Danny Vera  74595.0  2019      5   \n",
       "1    Roller Coaster    46 2019-05-26       Danny Vera  65000.0  2019      5   \n",
       "2    Roller Coaster    50 2019-05-27       Danny Vera  72717.0  2019      5   \n",
       "3    Roller Coaster    47 2019-05-28       Danny Vera  69872.0  2019      5   \n",
       "4    Roller Coaster    50 2019-05-29       Danny Vera  76148.0  2019      5   \n",
       "..              ...   ...        ...              ...      ...   ...    ...   \n",
       "343   Duurt Te Lang    25 2020-01-01  Davina Michelle  54235.0  2020      1   \n",
       "344   Duurt Te Lang    41 2020-01-02  Davina Michelle  62171.0  2020      1   \n",
       "345   Duurt Te Lang    45 2020-01-03  Davina Michelle  65413.0  2020      1   \n",
       "346   Duurt Te Lang    41 2020-01-04  Davina Michelle  67161.0  2020      1   \n",
       "347   Duurt Te Lang    41 2020-01-05  Davina Michelle  57915.0  2020      1   \n",
       "\n",
       "    year-month  \n",
       "0      2019-05  \n",
       "1      2019-05  \n",
       "2      2019-05  \n",
       "3      2019-05  \n",
       "4      2019-05  \n",
       "..         ...  \n",
       "343    2020-01  \n",
       "344    2020-01  \n",
       "345    2020-01  \n",
       "346    2020-01  \n",
       "347    2020-01  \n",
       "\n",
       "[2147 rows x 8 columns]"
      ]
     },
     "execution_count": 80,
     "metadata": {},
     "output_type": "execute_result"
    }
   ],
   "source": [
    "five_songs = [roller_coaster,blinding_lights,someone_you_loved,shape_of_you,duurt_te_lang]\n",
    "result = pd.concat(five_songs)\n",
    "result"
   ]
  },
  {
   "cell_type": "code",
   "execution_count": 92,
   "metadata": {},
   "outputs": [
    {
     "data": {
      "image/png": "[encoded data removed]",
      "text/plain": [
       "<Figure size 1200x400 with 1 Axes>"
      ]
     },
     "metadata": {},
     "output_type": "display_data"
    }
   ],
   "source": [
    "plt.figure(figsize=(12,4))\n",
    "\n",
    "colors = ['blue', 'green', 'red', 'purple', 'orange']\n",
    "\n",
    "for title, color in zip(result['title'].unique(), colors):\n",
    "    song_data = result[result['title'] == title]\n",
    "    plt.plot(song_data['date'],song_data['rank'].rolling(10).mean(), color=color, label=f'{title}')\n",
    "\n",
    "# Title of graph\n",
    "plt.title('Change in Rank of the 5 Songs that were in the Top 50 for the Longest [NL]')\n",
    "\n",
    "# Label x-axis\n",
    "plt.xlabel('Date')\n",
    "\n",
    "# invert y-axis so #1 rank is at the top, and label it\n",
    "plt.gca().invert_yaxis()\n",
    "plt.ylabel('Rank in Top 50')\n",
    "\n",
    "# Create legend\n",
    "plt.legend(loc='lower left');"
   ]
  },
  {
   "cell_type": "markdown",
   "metadata": {},
   "source": [
    "## Trends for a Song staying in the Top 50"
   ]
  },
  {
   "cell_type": "code",
   "execution_count": null,
   "metadata": {},
   "outputs": [],
   "source": [
    "# Find other notebook"
   ]
  },
  {
   "cell_type": "markdown",
   "metadata": {},
   "source": [
    "## Top 50 in BeNeLux: Examining the area and comparisons between countries"
   ]
  },
  {
   "cell_type": "code",
   "execution_count": 61,
   "metadata": {},
   "outputs": [],
   "source": [
    "top50_benelux = df[(df['chart'] == 'top200') & (df['rank'] <= 50) & \n",
    "              ((df['region'] == 'Netherlands') | (df['region'] == 'Belgium') | (df['region'] == 'Luxembourg'))]"
   ]
  },
  {
   "cell_type": "code",
   "execution_count": 62,
   "metadata": {},
   "outputs": [
    {
     "data": {
      "text/plain": [
       "title      0\n",
       "rank       0\n",
       "date       0\n",
       "artist     0\n",
       "region     0\n",
       "chart      0\n",
       "streams    0\n",
       "dtype: int64"
      ]
     },
     "execution_count": 62,
     "metadata": {},
     "output_type": "execute_result"
    }
   ],
   "source": [
    "# Check for missing data\n",
    "top50_benelux.isnull().sum()"
   ]
  },
  {
   "cell_type": "code",
   "execution_count": 63,
   "metadata": {},
   "outputs": [
    {
     "name": "stdout",
     "output_type": "stream",
     "text": [
      "<class 'pandas.core.frame.DataFrame'>\n",
      "Int64Index: 187147 entries, 603 to 25262351\n",
      "Data columns (total 7 columns):\n",
      " #   Column   Non-Null Count   Dtype  \n",
      "---  ------   --------------   -----  \n",
      " 0   title    187147 non-null  object \n",
      " 1   rank     187147 non-null  int64  \n",
      " 2   date     187147 non-null  object \n",
      " 3   artist   187147 non-null  object \n",
      " 4   region   187147 non-null  object \n",
      " 5   chart    187147 non-null  object \n",
      " 6   streams  187147 non-null  float64\n",
      "dtypes: float64(1), int64(1), object(5)\n",
      "memory usage: 11.4+ MB\n"
     ]
    }
   ],
   "source": [
    "# Check data types\n",
    "top50_benelux.info()"
   ]
  },
  {
   "cell_type": "code",
   "execution_count": 64,
   "metadata": {},
   "outputs": [],
   "source": [
    "# Convert date into datetime type\n",
    "top50_benelux['date'] = pd.to_datetime(top50_benelux['date'])"
   ]
  },
  {
   "cell_type": "code",
   "execution_count": 65,
   "metadata": {},
   "outputs": [
    {
     "data": {
      "text/html": [
       "<div>\n",
       "<style scoped>\n",
       "    .dataframe tbody tr th:only-of-type {\n",
       "        vertical-align: middle;\n",
       "    }\n",
       "\n",
       "    .dataframe tbody tr th {\n",
       "        vertical-align: top;\n",
       "    }\n",
       "\n",
       "    .dataframe thead th {\n",
       "        text-align: right;\n",
       "    }\n",
       "</style>\n",
       "<table border=\"1\" class=\"dataframe\">\n",
       "  <thead>\n",
       "    <tr style=\"text-align: right;\">\n",
       "      <th></th>\n",
       "      <th>title</th>\n",
       "      <th>rank</th>\n",
       "      <th>date</th>\n",
       "      <th>artist</th>\n",
       "      <th>region</th>\n",
       "      <th>streams</th>\n",
       "    </tr>\n",
       "  </thead>\n",
       "  <tbody>\n",
       "    <tr>\n",
       "      <th>5098043</th>\n",
       "      <td>Mo Bamba</td>\n",
       "      <td>31</td>\n",
       "      <td>2019-01-27</td>\n",
       "      <td>Sheck Wes</td>\n",
       "      <td>Belgium</td>\n",
       "      <td>13490.0</td>\n",
       "    </tr>\n",
       "    <tr>\n",
       "      <th>22155367</th>\n",
       "      <td>Way 2 Sexy (with Future &amp; Young Thug)</td>\n",
       "      <td>42</td>\n",
       "      <td>2021-09-08</td>\n",
       "      <td>Drake</td>\n",
       "      <td>Belgium</td>\n",
       "      <td>18515.0</td>\n",
       "    </tr>\n",
       "    <tr>\n",
       "      <th>12151531</th>\n",
       "      <td>Galway Girl</td>\n",
       "      <td>13</td>\n",
       "      <td>2017-03-31</td>\n",
       "      <td>Ed Sheeran</td>\n",
       "      <td>Belgium</td>\n",
       "      <td>20965.0</td>\n",
       "    </tr>\n",
       "    <tr>\n",
       "      <th>16121530</th>\n",
       "      <td>Door De Wind</td>\n",
       "      <td>10</td>\n",
       "      <td>2020-11-09</td>\n",
       "      <td>Miss Montreal</td>\n",
       "      <td>Netherlands</td>\n",
       "      <td>137573.0</td>\n",
       "    </tr>\n",
       "    <tr>\n",
       "      <th>2392414</th>\n",
       "      <td>wine slow - remix</td>\n",
       "      <td>12</td>\n",
       "      <td>2018-08-05</td>\n",
       "      <td>Idaly, Ronnie Flex, Famke Louise, Bizzey</td>\n",
       "      <td>Netherlands</td>\n",
       "      <td>124103.0</td>\n",
       "    </tr>\n",
       "    <tr>\n",
       "      <th>3388318</th>\n",
       "      <td>no tears left to cry</td>\n",
       "      <td>40</td>\n",
       "      <td>2018-08-26</td>\n",
       "      <td>Ariana Grande</td>\n",
       "      <td>Netherlands</td>\n",
       "      <td>61312.0</td>\n",
       "    </tr>\n",
       "    <tr>\n",
       "      <th>5363829</th>\n",
       "      <td>Sneaky Money (feat. Chivv &amp; Boef)</td>\n",
       "      <td>23</td>\n",
       "      <td>2019-03-03</td>\n",
       "      <td>Ali B</td>\n",
       "      <td>Netherlands</td>\n",
       "      <td>81510.0</td>\n",
       "    </tr>\n",
       "    <tr>\n",
       "      <th>10035814</th>\n",
       "      <td>Save Myself</td>\n",
       "      <td>30</td>\n",
       "      <td>2017-03-07</td>\n",
       "      <td>Ed Sheeran</td>\n",
       "      <td>Netherlands</td>\n",
       "      <td>95498.0</td>\n",
       "    </tr>\n",
       "    <tr>\n",
       "      <th>15801697</th>\n",
       "      <td>Dance Monkey</td>\n",
       "      <td>27</td>\n",
       "      <td>2020-09-14</td>\n",
       "      <td>Tones And I</td>\n",
       "      <td>Belgium</td>\n",
       "      <td>19648.0</td>\n",
       "    </tr>\n",
       "    <tr>\n",
       "      <th>8477939</th>\n",
       "      <td>Someone You Loved</td>\n",
       "      <td>8</td>\n",
       "      <td>2019-09-28</td>\n",
       "      <td>Lewis Capaldi</td>\n",
       "      <td>Belgium</td>\n",
       "      <td>36081.0</td>\n",
       "    </tr>\n",
       "    <tr>\n",
       "      <th>21856692</th>\n",
       "      <td>Let You Down</td>\n",
       "      <td>22</td>\n",
       "      <td>2017-11-17</td>\n",
       "      <td>NF</td>\n",
       "      <td>Netherlands</td>\n",
       "      <td>111650.0</td>\n",
       "    </tr>\n",
       "    <tr>\n",
       "      <th>2377442</th>\n",
       "      <td>High On Life (feat. Bonn)</td>\n",
       "      <td>30</td>\n",
       "      <td>2018-09-03</td>\n",
       "      <td>Martin Garrix</td>\n",
       "      <td>Netherlands</td>\n",
       "      <td>92979.0</td>\n",
       "    </tr>\n",
       "    <tr>\n",
       "      <th>19267862</th>\n",
       "      <td>Paradise (feat. Dermot Kennedy)</td>\n",
       "      <td>7</td>\n",
       "      <td>2021-02-23</td>\n",
       "      <td>MEDUZA</td>\n",
       "      <td>Belgium</td>\n",
       "      <td>31133.0</td>\n",
       "    </tr>\n",
       "    <tr>\n",
       "      <th>5161983</th>\n",
       "      <td>Without Me</td>\n",
       "      <td>11</td>\n",
       "      <td>2019-01-28</td>\n",
       "      <td>Halsey</td>\n",
       "      <td>Netherlands</td>\n",
       "      <td>151439.0</td>\n",
       "    </tr>\n",
       "    <tr>\n",
       "      <th>8633792</th>\n",
       "      <td>Ransom</td>\n",
       "      <td>31</td>\n",
       "      <td>2019-11-20</td>\n",
       "      <td>Lil Tecca</td>\n",
       "      <td>Belgium</td>\n",
       "      <td>20592.0</td>\n",
       "    </tr>\n",
       "  </tbody>\n",
       "</table>\n",
       "</div>"
      ],
      "text/plain": [
       "                                          title  rank       date  \\\n",
       "5098043                                Mo Bamba    31 2019-01-27   \n",
       "22155367  Way 2 Sexy (with Future & Young Thug)    42 2021-09-08   \n",
       "12151531                            Galway Girl    13 2017-03-31   \n",
       "16121530                           Door De Wind    10 2020-11-09   \n",
       "2392414                       wine slow - remix    12 2018-08-05   \n",
       "3388318                    no tears left to cry    40 2018-08-26   \n",
       "5363829       Sneaky Money (feat. Chivv & Boef)    23 2019-03-03   \n",
       "10035814                            Save Myself    30 2017-03-07   \n",
       "15801697                           Dance Monkey    27 2020-09-14   \n",
       "8477939                       Someone You Loved     8 2019-09-28   \n",
       "21856692                           Let You Down    22 2017-11-17   \n",
       "2377442               High On Life (feat. Bonn)    30 2018-09-03   \n",
       "19267862        Paradise (feat. Dermot Kennedy)     7 2021-02-23   \n",
       "5161983                              Without Me    11 2019-01-28   \n",
       "8633792                                  Ransom    31 2019-11-20   \n",
       "\n",
       "                                            artist       region   streams  \n",
       "5098043                                  Sheck Wes      Belgium   13490.0  \n",
       "22155367                                     Drake      Belgium   18515.0  \n",
       "12151531                                Ed Sheeran      Belgium   20965.0  \n",
       "16121530                             Miss Montreal  Netherlands  137573.0  \n",
       "2392414   Idaly, Ronnie Flex, Famke Louise, Bizzey  Netherlands  124103.0  \n",
       "3388318                              Ariana Grande  Netherlands   61312.0  \n",
       "5363829                                      Ali B  Netherlands   81510.0  \n",
       "10035814                                Ed Sheeran  Netherlands   95498.0  \n",
       "15801697                               Tones And I      Belgium   19648.0  \n",
       "8477939                              Lewis Capaldi      Belgium   36081.0  \n",
       "21856692                                        NF  Netherlands  111650.0  \n",
       "2377442                              Martin Garrix  Netherlands   92979.0  \n",
       "19267862                                    MEDUZA      Belgium   31133.0  \n",
       "5161983                                     Halsey  Netherlands  151439.0  \n",
       "8633792                                  Lil Tecca      Belgium   20592.0  "
      ]
     },
     "execution_count": 65,
     "metadata": {},
     "output_type": "execute_result"
    }
   ],
   "source": [
    "top50_benelux.drop(['chart'],axis=1,inplace=True)\n",
    "top50_benelux.sample(15)"
   ]
  },
  {
   "cell_type": "code",
   "execution_count": null,
   "metadata": {},
   "outputs": [],
   "source": [
    "# Total streams by country"
   ]
  },
  {
   "cell_type": "code",
   "execution_count": null,
   "metadata": {},
   "outputs": [],
   "source": [
    "# Similarity with popular artist, title between countries\n"
   ]
  },
  {
   "cell_type": "code",
   "execution_count": null,
   "metadata": {},
   "outputs": [],
   "source": []
  },
  {
   "cell_type": "code",
   "execution_count": null,
   "metadata": {},
   "outputs": [],
   "source": [
    "# Europe map visualisation"
   ]
  },
  {
   "cell_type": "code",
   "execution_count": null,
   "metadata": {},
   "outputs": [],
   "source": []
  },
  {
   "cell_type": "code",
   "execution_count": null,
   "metadata": {},
   "outputs": [],
   "source": []
  },
  {
   "cell_type": "code",
   "execution_count": null,
   "metadata": {},
   "outputs": [],
   "source": []
  },
  {
   "cell_type": "code",
   "execution_count": null,
   "metadata": {},
   "outputs": [],
   "source": []
  }
 ],
 "metadata": {
  "kernelspec": {
   "display_name": "lewagon",
   "language": "python",
   "name": "python3"
  },
  "language_info": {
   "codemirror_mode": {
    "name": "ipython",
    "version": 3
   },
   "file_extension": ".py",
   "mimetype": "text/x-python",
   "name": "python",
   "nbconvert_exporter": "python",
   "pygments_lexer": "ipython3",
   "version": "3.10.6"
  },
  "orig_nbformat": 4
 },
 "nbformat": 4,
 "nbformat_minor": 2
}
