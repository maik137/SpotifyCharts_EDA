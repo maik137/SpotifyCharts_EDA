{
 "cells": [
  {
   "cell_type": "markdown",
   "metadata": {},
   "source": [
    "# An EDA of the Top 50 artists on Spotify"
   ]
  },
  {
   "cell_type": "markdown",
   "metadata": {},
   "source": [
    "__Summary of Dataset__\n",
    "1. Data taken from Kaggle: https://www.kaggle.com/datasets/dhruvildave/spotify-charts\n",
    "2. CSV file includes Top 200 and Viral 50 data from 1 January 2017 till 31 July 2021\n",
    "3. Data organised into following columns:\n",
    "  - Title of song\n",
    "  - Rank of song in Top 200 or Viral 50\n",
    "  - Date\n",
    "  - Artist name\n",
    "  - URL of song\n",
    "  - Region (Country)\n",
    "  - Chart\n",
    "  - Whether the song has moved up, down etc. in chart\n",
    "  - Number of streams"
   ]
  },
  {
   "cell_type": "markdown",
   "metadata": {},
   "source": [
    "## Load libraries and data"
   ]
  },
  {
   "cell_type": "code",
   "execution_count": 1,
   "metadata": {},
   "outputs": [
    {
     "data": {
      "text/html": [
       "        <script type=\"text/javascript\">\n",
       "        window.PlotlyConfig = {MathJaxConfig: 'local'};\n",
       "        if (window.MathJax && window.MathJax.Hub && window.MathJax.Hub.Config) {window.MathJax.Hub.Config({SVG: {font: \"STIX-Web\"}});}\n",
       "        if (typeof require !== 'undefined') {\n",
       "        require.undef(\"plotly\");\n",
       "        requirejs.config({\n",
       "            paths: {\n",
       "                'plotly': ['https://cdn.plot.ly/plotly-2.12.1.min']\n",
       "            }\n",
       "        });\n",
       "        require(['plotly'], function(Plotly) {\n",
       "            window._Plotly = Plotly;\n",
       "        });\n",
       "        }\n",
       "        </script>\n",
       "        "
      ]
     },
     "metadata": {},
     "output_type": "display_data"
    },
    {
     "data": {
      "text/html": [
       "        <script type=\"text/javascript\">\n",
       "        window.PlotlyConfig = {MathJaxConfig: 'local'};\n",
       "        if (window.MathJax && window.MathJax.Hub && window.MathJax.Hub.Config) {window.MathJax.Hub.Config({SVG: {font: \"STIX-Web\"}});}\n",
       "        if (typeof require !== 'undefined') {\n",
       "        require.undef(\"plotly\");\n",
       "        requirejs.config({\n",
       "            paths: {\n",
       "                'plotly': ['https://cdn.plot.ly/plotly-2.12.1.min']\n",
       "            }\n",
       "        });\n",
       "        require(['plotly'], function(Plotly) {\n",
       "            window._Plotly = Plotly;\n",
       "        });\n",
       "        }\n",
       "        </script>\n",
       "        "
      ]
     },
     "metadata": {},
     "output_type": "display_data"
    }
   ],
   "source": [
    "import numpy as np\n",
    "import pandas as pd\n",
    "import matplotlib.pyplot as plt\n",
    "import seaborn as sns\n",
    "\n",
    "from wordcloud import WordCloud\n",
    "import cufflinks as cf\n",
    "from plotly.offline import plot, iplot, init_notebook_mode\n",
    "init_notebook_mode(connected=True)\n",
    "cf.go_offline()"
   ]
  },
  {
   "cell_type": "code",
   "execution_count": 2,
   "metadata": {},
   "outputs": [
    {
     "data": {
      "text/html": [
       "<div>\n",
       "<style scoped>\n",
       "    .dataframe tbody tr th:only-of-type {\n",
       "        vertical-align: middle;\n",
       "    }\n",
       "\n",
       "    .dataframe tbody tr th {\n",
       "        vertical-align: top;\n",
       "    }\n",
       "\n",
       "    .dataframe thead th {\n",
       "        text-align: right;\n",
       "    }\n",
       "</style>\n",
       "<table border=\"1\" class=\"dataframe\">\n",
       "  <thead>\n",
       "    <tr style=\"text-align: right;\">\n",
       "      <th></th>\n",
       "      <th>title</th>\n",
       "      <th>rank</th>\n",
       "      <th>date</th>\n",
       "      <th>artist</th>\n",
       "      <th>region</th>\n",
       "      <th>chart</th>\n",
       "      <th>streams</th>\n",
       "    </tr>\n",
       "  </thead>\n",
       "  <tbody>\n",
       "    <tr>\n",
       "      <th>0</th>\n",
       "      <td>Chantaje (feat. Maluma)</td>\n",
       "      <td>1</td>\n",
       "      <td>2017-01-01</td>\n",
       "      <td>Shakira</td>\n",
       "      <td>Argentina</td>\n",
       "      <td>top200</td>\n",
       "      <td>253019.0</td>\n",
       "    </tr>\n",
       "    <tr>\n",
       "      <th>1</th>\n",
       "      <td>Vente Pa' Ca (feat. Maluma)</td>\n",
       "      <td>2</td>\n",
       "      <td>2017-01-01</td>\n",
       "      <td>Ricky Martin</td>\n",
       "      <td>Argentina</td>\n",
       "      <td>top200</td>\n",
       "      <td>223988.0</td>\n",
       "    </tr>\n",
       "    <tr>\n",
       "      <th>2</th>\n",
       "      <td>Reggaetón Lento (Bailemos)</td>\n",
       "      <td>3</td>\n",
       "      <td>2017-01-01</td>\n",
       "      <td>CNCO</td>\n",
       "      <td>Argentina</td>\n",
       "      <td>top200</td>\n",
       "      <td>210943.0</td>\n",
       "    </tr>\n",
       "    <tr>\n",
       "      <th>3</th>\n",
       "      <td>Safari</td>\n",
       "      <td>4</td>\n",
       "      <td>2017-01-01</td>\n",
       "      <td>J Balvin, Pharrell Williams, BIA, Sky</td>\n",
       "      <td>Argentina</td>\n",
       "      <td>top200</td>\n",
       "      <td>173865.0</td>\n",
       "    </tr>\n",
       "    <tr>\n",
       "      <th>4</th>\n",
       "      <td>Shaky Shaky</td>\n",
       "      <td>5</td>\n",
       "      <td>2017-01-01</td>\n",
       "      <td>Daddy Yankee</td>\n",
       "      <td>Argentina</td>\n",
       "      <td>top200</td>\n",
       "      <td>153956.0</td>\n",
       "    </tr>\n",
       "  </tbody>\n",
       "</table>\n",
       "</div>"
      ],
      "text/plain": [
       "                         title  rank        date  \\\n",
       "0      Chantaje (feat. Maluma)     1  2017-01-01   \n",
       "1  Vente Pa' Ca (feat. Maluma)     2  2017-01-01   \n",
       "2   Reggaetón Lento (Bailemos)     3  2017-01-01   \n",
       "3                       Safari     4  2017-01-01   \n",
       "4                  Shaky Shaky     5  2017-01-01   \n",
       "\n",
       "                                  artist     region   chart   streams  \n",
       "0                                Shakira  Argentina  top200  253019.0  \n",
       "1                           Ricky Martin  Argentina  top200  223988.0  \n",
       "2                                   CNCO  Argentina  top200  210943.0  \n",
       "3  J Balvin, Pharrell Williams, BIA, Sky  Argentina  top200  173865.0  \n",
       "4                           Daddy Yankee  Argentina  top200  153956.0  "
      ]
     },
     "execution_count": 2,
     "metadata": {},
     "output_type": "execute_result"
    }
   ],
   "source": [
    "# columns of interest, so to not upload entire CSV\n",
    "cols_int = ['title','rank','date','artist','region','chart','streams']\n",
    "\n",
    "df = pd.read_csv('data/charts.csv', usecols=cols_int)\n",
    "df.head()"
   ]
  },
  {
   "cell_type": "code",
   "execution_count": 3,
   "metadata": {},
   "outputs": [
    {
     "data": {
      "text/plain": [
       "top200     20321904\n",
       "viral50     5851610\n",
       "Name: chart, dtype: int64"
      ]
     },
     "execution_count": 3,
     "metadata": {},
     "output_type": "execute_result"
    }
   ],
   "source": [
    "# Checking chart types logged\n",
    "df['chart'].value_counts()"
   ]
  },
  {
   "cell_type": "code",
   "execution_count": 4,
   "metadata": {},
   "outputs": [
    {
     "data": {
      "text/html": [
       "<div>\n",
       "<style scoped>\n",
       "    .dataframe tbody tr th:only-of-type {\n",
       "        vertical-align: middle;\n",
       "    }\n",
       "\n",
       "    .dataframe tbody tr th {\n",
       "        vertical-align: top;\n",
       "    }\n",
       "\n",
       "    .dataframe thead th {\n",
       "        text-align: right;\n",
       "    }\n",
       "</style>\n",
       "<table border=\"1\" class=\"dataframe\">\n",
       "  <thead>\n",
       "    <tr style=\"text-align: right;\">\n",
       "      <th></th>\n",
       "      <th>title</th>\n",
       "      <th>rank</th>\n",
       "      <th>date</th>\n",
       "      <th>artist</th>\n",
       "      <th>region</th>\n",
       "      <th>chart</th>\n",
       "      <th>streams</th>\n",
       "    </tr>\n",
       "  </thead>\n",
       "  <tbody>\n",
       "    <tr>\n",
       "      <th>5184</th>\n",
       "      <td>Energie</td>\n",
       "      <td>1</td>\n",
       "      <td>2017-01-01</td>\n",
       "      <td>Ronnie Flex, Frenna</td>\n",
       "      <td>Netherlands</td>\n",
       "      <td>top200</td>\n",
       "      <td>112252.0</td>\n",
       "    </tr>\n",
       "    <tr>\n",
       "      <th>5185</th>\n",
       "      <td>Rockabye (feat. Sean Paul &amp; Anne-Marie)</td>\n",
       "      <td>2</td>\n",
       "      <td>2017-01-01</td>\n",
       "      <td>Clean Bandit</td>\n",
       "      <td>Netherlands</td>\n",
       "      <td>top200</td>\n",
       "      <td>106984.0</td>\n",
       "    </tr>\n",
       "    <tr>\n",
       "      <th>5186</th>\n",
       "      <td>Say You Won't Let Go</td>\n",
       "      <td>3</td>\n",
       "      <td>2017-01-01</td>\n",
       "      <td>James Arthur</td>\n",
       "      <td>Netherlands</td>\n",
       "      <td>top200</td>\n",
       "      <td>96067.0</td>\n",
       "    </tr>\n",
       "    <tr>\n",
       "      <th>5187</th>\n",
       "      <td>Het Is Een Feit</td>\n",
       "      <td>4</td>\n",
       "      <td>2017-01-01</td>\n",
       "      <td>Broederliefde, Emms</td>\n",
       "      <td>Netherlands</td>\n",
       "      <td>top200</td>\n",
       "      <td>91829.0</td>\n",
       "    </tr>\n",
       "    <tr>\n",
       "      <th>5188</th>\n",
       "      <td>Starboy</td>\n",
       "      <td>5</td>\n",
       "      <td>2017-01-01</td>\n",
       "      <td>The Weeknd, Daft Punk</td>\n",
       "      <td>Netherlands</td>\n",
       "      <td>top200</td>\n",
       "      <td>76076.0</td>\n",
       "    </tr>\n",
       "    <tr>\n",
       "      <th>...</th>\n",
       "      <td>...</td>\n",
       "      <td>...</td>\n",
       "      <td>...</td>\n",
       "      <td>...</td>\n",
       "      <td>...</td>\n",
       "      <td>...</td>\n",
       "      <td>...</td>\n",
       "    </tr>\n",
       "    <tr>\n",
       "      <th>26172114</th>\n",
       "      <td>Kindess (Tiguini)</td>\n",
       "      <td>46</td>\n",
       "      <td>2021-07-31</td>\n",
       "      <td>O'Streaming</td>\n",
       "      <td>Netherlands</td>\n",
       "      <td>viral50</td>\n",
       "      <td>NaN</td>\n",
       "    </tr>\n",
       "    <tr>\n",
       "      <th>26172115</th>\n",
       "      <td>Ramenez la coupe à la maison</td>\n",
       "      <td>47</td>\n",
       "      <td>2021-07-31</td>\n",
       "      <td>Vegedream</td>\n",
       "      <td>Netherlands</td>\n",
       "      <td>viral50</td>\n",
       "      <td>NaN</td>\n",
       "    </tr>\n",
       "    <tr>\n",
       "      <th>26172116</th>\n",
       "      <td>Müslüm</td>\n",
       "      <td>48</td>\n",
       "      <td>2021-07-31</td>\n",
       "      <td>Hayat</td>\n",
       "      <td>Netherlands</td>\n",
       "      <td>viral50</td>\n",
       "      <td>NaN</td>\n",
       "    </tr>\n",
       "    <tr>\n",
       "      <th>26172117</th>\n",
       "      <td>Love Tonight</td>\n",
       "      <td>49</td>\n",
       "      <td>2021-07-31</td>\n",
       "      <td>Shouse</td>\n",
       "      <td>Netherlands</td>\n",
       "      <td>viral50</td>\n",
       "      <td>NaN</td>\n",
       "    </tr>\n",
       "    <tr>\n",
       "      <th>26172118</th>\n",
       "      <td>Give It to Me X Won't Look Back</td>\n",
       "      <td>50</td>\n",
       "      <td>2021-07-31</td>\n",
       "      <td>Jake Woolf, Jake Rock</td>\n",
       "      <td>Netherlands</td>\n",
       "      <td>viral50</td>\n",
       "      <td>NaN</td>\n",
       "    </tr>\n",
       "  </tbody>\n",
       "</table>\n",
       "<p>448913 rows × 7 columns</p>\n",
       "</div>"
      ],
      "text/plain": [
       "                                            title  rank        date  \\\n",
       "5184                                      Energie     1  2017-01-01   \n",
       "5185      Rockabye (feat. Sean Paul & Anne-Marie)     2  2017-01-01   \n",
       "5186                         Say You Won't Let Go     3  2017-01-01   \n",
       "5187                              Het Is Een Feit     4  2017-01-01   \n",
       "5188                                      Starboy     5  2017-01-01   \n",
       "...                                           ...   ...         ...   \n",
       "26172114                        Kindess (Tiguini)    46  2021-07-31   \n",
       "26172115             Ramenez la coupe à la maison    47  2021-07-31   \n",
       "26172116                                   Müslüm    48  2021-07-31   \n",
       "26172117                             Love Tonight    49  2021-07-31   \n",
       "26172118          Give It to Me X Won't Look Back    50  2021-07-31   \n",
       "\n",
       "                         artist       region    chart   streams  \n",
       "5184        Ronnie Flex, Frenna  Netherlands   top200  112252.0  \n",
       "5185               Clean Bandit  Netherlands   top200  106984.0  \n",
       "5186               James Arthur  Netherlands   top200   96067.0  \n",
       "5187        Broederliefde, Emms  Netherlands   top200   91829.0  \n",
       "5188      The Weeknd, Daft Punk  Netherlands   top200   76076.0  \n",
       "...                         ...          ...      ...       ...  \n",
       "26172114            O'Streaming  Netherlands  viral50       NaN  \n",
       "26172115              Vegedream  Netherlands  viral50       NaN  \n",
       "26172116                  Hayat  Netherlands  viral50       NaN  \n",
       "26172117                 Shouse  Netherlands  viral50       NaN  \n",
       "26172118  Jake Woolf, Jake Rock  Netherlands  viral50       NaN  \n",
       "\n",
       "[448913 rows x 7 columns]"
      ]
     },
     "execution_count": 4,
     "metadata": {},
     "output_type": "execute_result"
    }
   ],
   "source": [
    "# Checking for how Spotify names The Netherlands\n",
    "df.loc[df['region'] == 'Netherlands']"
   ]
  },
  {
   "cell_type": "markdown",
   "metadata": {},
   "source": [
    "## Top 50 Most Streamed Songs in NL"
   ]
  },
  {
   "cell_type": "markdown",
   "metadata": {},
   "source": [
    "__Summary__"
   ]
  },
  {
   "cell_type": "code",
   "execution_count": 5,
   "metadata": {},
   "outputs": [],
   "source": [
    "top50_NL = df[(df['chart'] == 'top200') & (df['rank'] <= 50) & \n",
    "              ((df['region'] == 'Netherlands'))]"
   ]
  },
  {
   "cell_type": "code",
   "execution_count": 6,
   "metadata": {},
   "outputs": [
    {
     "name": "stdout",
     "output_type": "stream",
     "text": [
      "<class 'pandas.core.frame.DataFrame'>\n",
      "Int64Index: 89495 entries, 5184 to 25262351\n",
      "Data columns (total 7 columns):\n",
      " #   Column   Non-Null Count  Dtype  \n",
      "---  ------   --------------  -----  \n",
      " 0   title    89495 non-null  object \n",
      " 1   rank     89495 non-null  int64  \n",
      " 2   date     89495 non-null  object \n",
      " 3   artist   89495 non-null  object \n",
      " 4   region   89495 non-null  object \n",
      " 5   chart    89495 non-null  object \n",
      " 6   streams  89495 non-null  float64\n",
      "dtypes: float64(1), int64(1), object(5)\n",
      "memory usage: 5.5+ MB\n"
     ]
    }
   ],
   "source": [
    "# Check data types\n",
    "top50_NL.info()"
   ]
  },
  {
   "cell_type": "code",
   "execution_count": 7,
   "metadata": {},
   "outputs": [],
   "source": [
    "# Convert date into datetime type\n",
    "top50_NL['date'] = pd.to_datetime(top50_NL['date'])"
   ]
  },
  {
   "cell_type": "code",
   "execution_count": 8,
   "metadata": {},
   "outputs": [
    {
     "data": {
      "text/html": [
       "<div>\n",
       "<style scoped>\n",
       "    .dataframe tbody tr th:only-of-type {\n",
       "        vertical-align: middle;\n",
       "    }\n",
       "\n",
       "    .dataframe tbody tr th {\n",
       "        vertical-align: top;\n",
       "    }\n",
       "\n",
       "    .dataframe thead th {\n",
       "        text-align: right;\n",
       "    }\n",
       "</style>\n",
       "<table border=\"1\" class=\"dataframe\">\n",
       "  <thead>\n",
       "    <tr style=\"text-align: right;\">\n",
       "      <th></th>\n",
       "      <th>title</th>\n",
       "      <th>rank</th>\n",
       "      <th>date</th>\n",
       "      <th>artist</th>\n",
       "      <th>streams</th>\n",
       "    </tr>\n",
       "  </thead>\n",
       "  <tbody>\n",
       "    <tr>\n",
       "      <th>3626963</th>\n",
       "      <td>Roses - Imanbek Remix</td>\n",
       "      <td>3</td>\n",
       "      <td>2020-05-23</td>\n",
       "      <td>SAINt JHN</td>\n",
       "      <td>197611.0</td>\n",
       "    </tr>\n",
       "    <tr>\n",
       "      <th>3820304</th>\n",
       "      <td>High Hopes</td>\n",
       "      <td>6</td>\n",
       "      <td>2019-01-02</td>\n",
       "      <td>Panic! At The Disco</td>\n",
       "      <td>135417.0</td>\n",
       "    </tr>\n",
       "    <tr>\n",
       "      <th>21452152</th>\n",
       "      <td>1-800-273-8255</td>\n",
       "      <td>26</td>\n",
       "      <td>2017-10-07</td>\n",
       "      <td>Logic, Alessia Cara, Khalid</td>\n",
       "      <td>85959.0</td>\n",
       "    </tr>\n",
       "    <tr>\n",
       "      <th>11062649</th>\n",
       "      <td>Unforgettable</td>\n",
       "      <td>16</td>\n",
       "      <td>2017-07-01</td>\n",
       "      <td>French Montana, Swae Lee</td>\n",
       "      <td>128150.0</td>\n",
       "    </tr>\n",
       "    <tr>\n",
       "      <th>23408904</th>\n",
       "      <td>Leuk</td>\n",
       "      <td>21</td>\n",
       "      <td>2021-11-20</td>\n",
       "      <td>Antoon, Big2</td>\n",
       "      <td>133150.0</td>\n",
       "    </tr>\n",
       "  </tbody>\n",
       "</table>\n",
       "</div>"
      ],
      "text/plain": [
       "                          title  rank       date                       artist  \\\n",
       "3626963   Roses - Imanbek Remix     3 2020-05-23                    SAINt JHN   \n",
       "3820304              High Hopes     6 2019-01-02          Panic! At The Disco   \n",
       "21452152         1-800-273-8255    26 2017-10-07  Logic, Alessia Cara, Khalid   \n",
       "11062649          Unforgettable    16 2017-07-01     French Montana, Swae Lee   \n",
       "23408904                   Leuk    21 2021-11-20                 Antoon, Big2   \n",
       "\n",
       "           streams  \n",
       "3626963   197611.0  \n",
       "3820304   135417.0  \n",
       "21452152   85959.0  \n",
       "11062649  128150.0  \n",
       "23408904  133150.0  "
      ]
     },
     "execution_count": 8,
     "metadata": {},
     "output_type": "execute_result"
    }
   ],
   "source": [
    "# Drop Region and Chart columns\n",
    "top50_NL.drop(['region','chart'],axis=1,inplace=True)\n",
    "top50_NL.sample(5)"
   ]
  },
  {
   "cell_type": "markdown",
   "metadata": {},
   "source": [
    "## Data Visualization"
   ]
  },
  {
   "cell_type": "markdown",
   "metadata": {},
   "source": [
    "### Artists of Top 50 Streamed Songs [2017-2021]"
   ]
  },
  {
   "cell_type": "code",
   "execution_count": 23,
   "metadata": {},
   "outputs": [],
   "source": [
    "def word_count_visual(freq):\n",
    "    wc = WordCloud(width=1000, height=500,\n",
    "                   max_font_size=150,\n",
    "                   colormap='rainbow',\n",
    "                   prefer_horizontal=.95,\n",
    "                   background_color='white',random_state=42)\n",
    "    \n",
    "    cloud = wc.generate_from_frequencies(freq)\n",
    "    plt.figure(figsize=(10,8))\n",
    "    plt.title('Artists on Spotify Top 50 Streamed Songs in NL [2017-2021]')\n",
    "    plt.imshow(cloud, interpolation='bilinear')\n",
    "    plt.axis('off')\n",
    "\n",
    "    plt.show;"
   ]
  },
  {
   "cell_type": "code",
   "execution_count": 10,
   "metadata": {},
   "outputs": [
    {
     "data": {
      "text/plain": [
       "Ed Sheeran       2030\n",
       "Dua Lipa         1362\n",
       "Justin Bieber    1116\n",
       "Boef             1069\n",
       "The Weeknd       1012\n",
       "Name: artist, dtype: int64"
      ]
     },
     "execution_count": 10,
     "metadata": {},
     "output_type": "execute_result"
    }
   ],
   "source": [
    "# Note: This if for 2017-2021\n",
    "top_artists = top50_NL['artist'].value_counts()\n",
    "top_artists.head()"
   ]
  },
  {
   "cell_type": "code",
   "execution_count": 24,
   "metadata": {},
   "outputs": [
    {
     "data": {
      "image/png": "[encoded data removed]",
      "text/plain": [
       "<Figure size 1000x800 with 1 Axes>"
      ]
     },
     "metadata": {},
     "output_type": "display_data"
    }
   ],
   "source": [
    "word_count_visual(top_artists)"
   ]
  },
  {
   "cell_type": "code",
   "execution_count": 12,
   "metadata": {},
   "outputs": [
    {
     "data": {
      "application/vnd.plotly.v1+json": {
       "config": {
        "linkText": "Export to plot.ly",
        "plotlyServerURL": "https://plot.ly",
        "showLink": true
       },
       "data": [
        {
         "marker": {
          "color": "rgba(255, 153, 51, 0.6)",
          "line": {
           "color": "rgba(255, 153, 51, 1.0)",
           "width": 1
          }
         },
         "name": "artist",
         "orientation": "v",
         "text": "",
         "type": "bar",
         "x": [
          "Ed Sheeran",
          "Dua Lipa",
          "Justin Bieber",
          "Boef",
          "The Weeknd",
          "Ariana Grande",
          "Suzan & Freek",
          "Lil Kleine",
          "Snelle",
          "Drake",
          "Post Malone",
          "Martin Garrix",
          "Billie Eilish",
          "Davina Michelle",
          "Shawn Mendes",
          "Josylvio",
          "Lewis Capaldi",
          "Lil Nas X",
          "Broederliefde",
          "Ava Max",
          "Clean Bandit",
          "Calvin Harris",
          "Danny Vera",
          "Imagine Dragons",
          "Sam Smith",
          "Tones And I",
          "Maroon 5",
          "Camila Cabello",
          "Avicii",
          "Olivia Rodrigo",
          "Maan",
          "Harry Styles",
          "Frenna",
          "Jonas Brothers",
          "Lijpe",
          "Rita Ora",
          "Dopebwoy",
          "Jason Derulo",
          "Pop Smoke",
          "Tiësto",
          "Doja Cat",
          "5 Seconds of Summer",
          "Joel Corry",
          "The Kid LAROI",
          "Sevn Alias",
          "Aya Nakamura",
          "Måneskin",
          "Kris Kross Amsterdam, Maan, Tabitha",
          "Mabel",
          "Kevin, Yade Lauren"
         ],
         "y": [
          2030,
          1362,
          1116,
          1069,
          1012,
          939,
          911,
          886,
          882,
          830,
          775,
          775,
          757,
          726,
          722,
          699,
          669,
          620,
          545,
          544,
          542,
          511,
          499,
          489,
          488,
          452,
          450,
          439,
          434,
          424,
          402,
          395,
          391,
          388,
          382,
          377,
          349,
          346,
          346,
          343,
          339,
          330,
          322,
          307,
          305,
          301,
          301,
          298,
          291,
          289
         ]
        }
       ],
       "layout": {
        "legend": {
         "bgcolor": "#F5F6F9",
         "font": {
          "color": "#4D5663"
         }
        },
        "paper_bgcolor": "#F5F6F9",
        "plot_bgcolor": "#F5F6F9",
        "template": {
         "data": {
          "bar": [
           {
            "error_x": {
             "color": "#2a3f5f"
            },
            "error_y": {
             "color": "#2a3f5f"
            },
            "marker": {
             "line": {
              "color": "#E5ECF6",
              "width": 0.5
             },
             "pattern": {
              "fillmode": "overlay",
              "size": 10,
              "solidity": 0.2
             }
            },
            "type": "bar"
           }
          ],
          "barpolar": [
           {
            "marker": {
             "line": {
              "color": "#E5ECF6",
              "width": 0.5
             },
             "pattern": {
              "fillmode": "overlay",
              "size": 10,
              "solidity": 0.2
             }
            },
            "type": "barpolar"
           }
          ],
          "carpet": [
           {
            "aaxis": {
             "endlinecolor": "#2a3f5f",
             "gridcolor": "white",
             "linecolor": "white",
             "minorgridcolor": "white",
             "startlinecolor": "#2a3f5f"
            },
            "baxis": {
             "endlinecolor": "#2a3f5f",
             "gridcolor": "white",
             "linecolor": "white",
             "minorgridcolor": "white",
             "startlinecolor": "#2a3f5f"
            },
            "type": "carpet"
           }
          ],
          "choropleth": [
           {
            "colorbar": {
             "outlinewidth": 0,
             "ticks": ""
            },
            "type": "choropleth"
           }
          ],
          "contour": [
           {
            "colorbar": {
             "outlinewidth": 0,
             "ticks": ""
            },
            "colorscale": [
             [
              0,
              "#0d0887"
             ],
             [
              0.1111111111111111,
              "#46039f"
             ],
             [
              0.2222222222222222,
              "#7201a8"
             ],
             [
              0.3333333333333333,
              "#9c179e"
             ],
             [
              0.4444444444444444,
              "#bd3786"
             ],
             [
              0.5555555555555556,
              "#d8576b"
             ],
             [
              0.6666666666666666,
              "#ed7953"
             ],
             [
              0.7777777777777778,
              "#fb9f3a"
             ],
             [
              0.8888888888888888,
              "#fdca26"
             ],
             [
              1,
              "#f0f921"
             ]
            ],
            "type": "contour"
           }
          ],
          "contourcarpet": [
           {
            "colorbar": {
             "outlinewidth": 0,
             "ticks": ""
            },
            "type": "contourcarpet"
           }
          ],
          "heatmap": [
           {
            "colorbar": {
             "outlinewidth": 0,
             "ticks": ""
            },
            "colorscale": [
             [
              0,
              "#0d0887"
             ],
             [
              0.1111111111111111,
              "#46039f"
             ],
             [
              0.2222222222222222,
              "#7201a8"
             ],
             [
              0.3333333333333333,
              "#9c179e"
             ],
             [
              0.4444444444444444,
              "#bd3786"
             ],
             [
              0.5555555555555556,
              "#d8576b"
             ],
             [
              0.6666666666666666,
              "#ed7953"
             ],
             [
              0.7777777777777778,
              "#fb9f3a"
             ],
             [
              0.8888888888888888,
              "#fdca26"
             ],
             [
              1,
              "#f0f921"
             ]
            ],
            "type": "heatmap"
           }
          ],
          "heatmapgl": [
           {
            "colorbar": {
             "outlinewidth": 0,
             "ticks": ""
            },
            "colorscale": [
             [
              0,
              "#0d0887"
             ],
             [
              0.1111111111111111,
              "#46039f"
             ],
             [
              0.2222222222222222,
              "#7201a8"
             ],
             [
              0.3333333333333333,
              "#9c179e"
             ],
             [
              0.4444444444444444,
              "#bd3786"
             ],
             [
              0.5555555555555556,
              "#d8576b"
             ],
             [
              0.6666666666666666,
              "#ed7953"
             ],
             [
              0.7777777777777778,
              "#fb9f3a"
             ],
             [
              0.8888888888888888,
              "#fdca26"
             ],
             [
              1,
              "#f0f921"
             ]
            ],
            "type": "heatmapgl"
           }
          ],
          "histogram": [
           {
            "marker": {
             "pattern": {
              "fillmode": "overlay",
              "size": 10,
              "solidity": 0.2
             }
            },
            "type": "histogram"
           }
          ],
          "histogram2d": [
           {
            "colorbar": {
             "outlinewidth": 0,
             "ticks": ""
            },
            "colorscale": [
             [
              0,
              "#0d0887"
             ],
             [
              0.1111111111111111,
              "#46039f"
             ],
             [
              0.2222222222222222,
              "#7201a8"
             ],
             [
              0.3333333333333333,
              "#9c179e"
             ],
             [
              0.4444444444444444,
              "#bd3786"
             ],
             [
              0.5555555555555556,
              "#d8576b"
             ],
             [
              0.6666666666666666,
              "#ed7953"
             ],
             [
              0.7777777777777778,
              "#fb9f3a"
             ],
             [
              0.8888888888888888,
              "#fdca26"
             ],
             [
              1,
              "#f0f921"
             ]
            ],
            "type": "histogram2d"
           }
          ],
          "histogram2dcontour": [
           {
            "colorbar": {
             "outlinewidth": 0,
             "ticks": ""
            },
            "colorscale": [
             [
              0,
              "#0d0887"
             ],
             [
              0.1111111111111111,
              "#46039f"
             ],
             [
              0.2222222222222222,
              "#7201a8"
             ],
             [
              0.3333333333333333,
              "#9c179e"
             ],
             [
              0.4444444444444444,
              "#bd3786"
             ],
             [
              0.5555555555555556,
              "#d8576b"
             ],
             [
              0.6666666666666666,
              "#ed7953"
             ],
             [
              0.7777777777777778,
              "#fb9f3a"
             ],
             [
              0.8888888888888888,
              "#fdca26"
             ],
             [
              1,
              "#f0f921"
             ]
            ],
            "type": "histogram2dcontour"
           }
          ],
          "mesh3d": [
           {
            "colorbar": {
             "outlinewidth": 0,
             "ticks": ""
            },
            "type": "mesh3d"
           }
          ],
          "parcoords": [
           {
            "line": {
             "colorbar": {
              "outlinewidth": 0,
              "ticks": ""
             }
            },
            "type": "parcoords"
           }
          ],
          "pie": [
           {
            "automargin": true,
            "type": "pie"
           }
          ],
          "scatter": [
           {
            "fillpattern": {
             "fillmode": "overlay",
             "size": 10,
             "solidity": 0.2
            },
            "type": "scatter"
           }
          ],
          "scatter3d": [
           {
            "line": {
             "colorbar": {
              "outlinewidth": 0,
              "ticks": ""
             }
            },
            "marker": {
             "colorbar": {
              "outlinewidth": 0,
              "ticks": ""
             }
            },
            "type": "scatter3d"
           }
          ],
          "scattercarpet": [
           {
            "marker": {
             "colorbar": {
              "outlinewidth": 0,
              "ticks": ""
             }
            },
            "type": "scattercarpet"
           }
          ],
          "scattergeo": [
           {
            "marker": {
             "colorbar": {
              "outlinewidth": 0,
              "ticks": ""
             }
            },
            "type": "scattergeo"
           }
          ],
          "scattergl": [
           {
            "marker": {
             "colorbar": {
              "outlinewidth": 0,
              "ticks": ""
             }
            },
            "type": "scattergl"
           }
          ],
          "scattermapbox": [
           {
            "marker": {
             "colorbar": {
              "outlinewidth": 0,
              "ticks": ""
             }
            },
            "type": "scattermapbox"
           }
          ],
          "scatterpolar": [
           {
            "marker": {
             "colorbar": {
              "outlinewidth": 0,
              "ticks": ""
             }
            },
            "type": "scatterpolar"
           }
          ],
          "scatterpolargl": [
           {
            "marker": {
             "colorbar": {
              "outlinewidth": 0,
              "ticks": ""
             }
            },
            "type": "scatterpolargl"
           }
          ],
          "scatterternary": [
           {
            "marker": {
             "colorbar": {
              "outlinewidth": 0,
              "ticks": ""
             }
            },
            "type": "scatterternary"
           }
          ],
          "surface": [
           {
            "colorbar": {
             "outlinewidth": 0,
             "ticks": ""
            },
            "colorscale": [
             [
              0,
              "#0d0887"
             ],
             [
              0.1111111111111111,
              "#46039f"
             ],
             [
              0.2222222222222222,
              "#7201a8"
             ],
             [
              0.3333333333333333,
              "#9c179e"
             ],
             [
              0.4444444444444444,
              "#bd3786"
             ],
             [
              0.5555555555555556,
              "#d8576b"
             ],
             [
              0.6666666666666666,
              "#ed7953"
             ],
             [
              0.7777777777777778,
              "#fb9f3a"
             ],
             [
              0.8888888888888888,
              "#fdca26"
             ],
             [
              1,
              "#f0f921"
             ]
            ],
            "type": "surface"
           }
          ],
          "table": [
           {
            "cells": {
             "fill": {
              "color": "#EBF0F8"
             },
             "line": {
              "color": "white"
             }
            },
            "header": {
             "fill": {
              "color": "#C8D4E3"
             },
             "line": {
              "color": "white"
             }
            },
            "type": "table"
           }
          ]
         },
         "layout": {
          "annotationdefaults": {
           "arrowcolor": "#2a3f5f",
           "arrowhead": 0,
           "arrowwidth": 1
          },
          "autotypenumbers": "strict",
          "coloraxis": {
           "colorbar": {
            "outlinewidth": 0,
            "ticks": ""
           }
          },
          "colorscale": {
           "diverging": [
            [
             0,
             "#8e0152"
            ],
            [
             0.1,
             "#c51b7d"
            ],
            [
             0.2,
             "#de77ae"
            ],
            [
             0.3,
             "#f1b6da"
            ],
            [
             0.4,
             "#fde0ef"
            ],
            [
             0.5,
             "#f7f7f7"
            ],
            [
             0.6,
             "#e6f5d0"
            ],
            [
             0.7,
             "#b8e186"
            ],
            [
             0.8,
             "#7fbc41"
            ],
            [
             0.9,
             "#4d9221"
            ],
            [
             1,
             "#276419"
            ]
           ],
           "sequential": [
            [
             0,
             "#0d0887"
            ],
            [
             0.1111111111111111,
             "#46039f"
            ],
            [
             0.2222222222222222,
             "#7201a8"
            ],
            [
             0.3333333333333333,
             "#9c179e"
            ],
            [
             0.4444444444444444,
             "#bd3786"
            ],
            [
             0.5555555555555556,
             "#d8576b"
            ],
            [
             0.6666666666666666,
             "#ed7953"
            ],
            [
             0.7777777777777778,
             "#fb9f3a"
            ],
            [
             0.8888888888888888,
             "#fdca26"
            ],
            [
             1,
             "#f0f921"
            ]
           ],
           "sequentialminus": [
            [
             0,
             "#0d0887"
            ],
            [
             0.1111111111111111,
             "#46039f"
            ],
            [
             0.2222222222222222,
             "#7201a8"
            ],
            [
             0.3333333333333333,
             "#9c179e"
            ],
            [
             0.4444444444444444,
             "#bd3786"
            ],
            [
             0.5555555555555556,
             "#d8576b"
            ],
            [
             0.6666666666666666,
             "#ed7953"
            ],
            [
             0.7777777777777778,
             "#fb9f3a"
            ],
            [
             0.8888888888888888,
             "#fdca26"
            ],
            [
             1,
             "#f0f921"
            ]
           ]
          },
          "colorway": [
           "#636efa",
           "#EF553B",
           "#00cc96",
           "#ab63fa",
           "#FFA15A",
           "#19d3f3",
           "#FF6692",
           "#B6E880",
           "#FF97FF",
           "#FECB52"
          ],
          "font": {
           "color": "#2a3f5f"
          },
          "geo": {
           "bgcolor": "white",
           "lakecolor": "white",
           "landcolor": "#E5ECF6",
           "showlakes": true,
           "showland": true,
           "subunitcolor": "white"
          },
          "hoverlabel": {
           "align": "left"
          },
          "hovermode": "closest",
          "mapbox": {
           "style": "light"
          },
          "paper_bgcolor": "white",
          "plot_bgcolor": "#E5ECF6",
          "polar": {
           "angularaxis": {
            "gridcolor": "white",
            "linecolor": "white",
            "ticks": ""
           },
           "bgcolor": "#E5ECF6",
           "radialaxis": {
            "gridcolor": "white",
            "linecolor": "white",
            "ticks": ""
           }
          },
          "scene": {
           "xaxis": {
            "backgroundcolor": "#E5ECF6",
            "gridcolor": "white",
            "gridwidth": 2,
            "linecolor": "white",
            "showbackground": true,
            "ticks": "",
            "zerolinecolor": "white"
           },
           "yaxis": {
            "backgroundcolor": "#E5ECF6",
            "gridcolor": "white",
            "gridwidth": 2,
            "linecolor": "white",
            "showbackground": true,
            "ticks": "",
            "zerolinecolor": "white"
           },
           "zaxis": {
            "backgroundcolor": "#E5ECF6",
            "gridcolor": "white",
            "gridwidth": 2,
            "linecolor": "white",
            "showbackground": true,
            "ticks": "",
            "zerolinecolor": "white"
           }
          },
          "shapedefaults": {
           "line": {
            "color": "#2a3f5f"
           }
          },
          "ternary": {
           "aaxis": {
            "gridcolor": "white",
            "linecolor": "white",
            "ticks": ""
           },
           "baxis": {
            "gridcolor": "white",
            "linecolor": "white",
            "ticks": ""
           },
           "bgcolor": "#E5ECF6",
           "caxis": {
            "gridcolor": "white",
            "linecolor": "white",
            "ticks": ""
           }
          },
          "title": {
           "x": 0.05
          },
          "xaxis": {
           "automargin": true,
           "gridcolor": "white",
           "linecolor": "white",
           "ticks": "",
           "title": {
            "standoff": 15
           },
           "zerolinecolor": "white",
           "zerolinewidth": 2
          },
          "yaxis": {
           "automargin": true,
           "gridcolor": "white",
           "linecolor": "white",
           "ticks": "",
           "title": {
            "standoff": 15
           },
           "zerolinecolor": "white",
           "zerolinewidth": 2
          }
         }
        },
        "title": {
         "font": {
          "color": "#4D5663"
         }
        },
        "xaxis": {
         "gridcolor": "#E1E5ED",
         "showgrid": true,
         "tickfont": {
          "color": "#4D5663"
         },
         "title": {
          "font": {
           "color": "#4D5663"
          },
          "text": ""
         },
         "zerolinecolor": "#E1E5ED"
        },
        "yaxis": {
         "gridcolor": "#E1E5ED",
         "showgrid": true,
         "tickfont": {
          "color": "#4D5663"
         },
         "title": {
          "font": {
           "color": "#4D5663"
          },
          "text": ""
         },
         "zerolinecolor": "#E1E5ED"
        }
       }
      },
      "text/html": [
       "<div>                            <div id=\"fa9d67e4-b30a-4447-8d27-8aa1904575eb\" class=\"plotly-graph-div\" style=\"height:525px; width:100%;\"></div>            <script type=\"text/javascript\">                require([\"plotly\"], function(Plotly) {                    window.PLOTLYENV=window.PLOTLYENV || {};\n",
       "                    window.PLOTLYENV.BASE_URL='https://plot.ly';                                    if (document.getElementById(\"fa9d67e4-b30a-4447-8d27-8aa1904575eb\")) {                    Plotly.newPlot(                        \"fa9d67e4-b30a-4447-8d27-8aa1904575eb\",                        [{\"marker\":{\"color\":\"rgba(255, 153, 51, 0.6)\",\"line\":{\"color\":\"rgba(255, 153, 51, 1.0)\",\"width\":1}},\"name\":\"artist\",\"orientation\":\"v\",\"text\":\"\",\"x\":[\"Ed Sheeran\",\"Dua Lipa\",\"Justin Bieber\",\"Boef\",\"The Weeknd\",\"Ariana Grande\",\"Suzan & Freek\",\"Lil Kleine\",\"Snelle\",\"Drake\",\"Post Malone\",\"Martin Garrix\",\"Billie Eilish\",\"Davina Michelle\",\"Shawn Mendes\",\"Josylvio\",\"Lewis Capaldi\",\"Lil Nas X\",\"Broederliefde\",\"Ava Max\",\"Clean Bandit\",\"Calvin Harris\",\"Danny Vera\",\"Imagine Dragons\",\"Sam Smith\",\"Tones And I\",\"Maroon 5\",\"Camila Cabello\",\"Avicii\",\"Olivia Rodrigo\",\"Maan\",\"Harry Styles\",\"Frenna\",\"Jonas Brothers\",\"Lijpe\",\"Rita Ora\",\"Dopebwoy\",\"Jason Derulo\",\"Pop Smoke\",\"Ti\\u00ebsto\",\"Doja Cat\",\"5 Seconds of Summer\",\"Joel Corry\",\"The Kid LAROI\",\"Sevn Alias\",\"Aya Nakamura\",\"M\\u00e5neskin\",\"Kris Kross Amsterdam, Maan, Tabitha\",\"Mabel\",\"Kevin, Yade Lauren\"],\"y\":[2030,1362,1116,1069,1012,939,911,886,882,830,775,775,757,726,722,699,669,620,545,544,542,511,499,489,488,452,450,439,434,424,402,395,391,388,382,377,349,346,346,343,339,330,322,307,305,301,301,298,291,289],\"type\":\"bar\"}],                        {\"legend\":{\"bgcolor\":\"#F5F6F9\",\"font\":{\"color\":\"#4D5663\"}},\"paper_bgcolor\":\"#F5F6F9\",\"plot_bgcolor\":\"#F5F6F9\",\"template\":{\"data\":{\"barpolar\":[{\"marker\":{\"line\":{\"color\":\"#E5ECF6\",\"width\":0.5},\"pattern\":{\"fillmode\":\"overlay\",\"size\":10,\"solidity\":0.2}},\"type\":\"barpolar\"}],\"bar\":[{\"error_x\":{\"color\":\"#2a3f5f\"},\"error_y\":{\"color\":\"#2a3f5f\"},\"marker\":{\"line\":{\"color\":\"#E5ECF6\",\"width\":0.5},\"pattern\":{\"fillmode\":\"overlay\",\"size\":10,\"solidity\":0.2}},\"type\":\"bar\"}],\"carpet\":[{\"aaxis\":{\"endlinecolor\":\"#2a3f5f\",\"gridcolor\":\"white\",\"linecolor\":\"white\",\"minorgridcolor\":\"white\",\"startlinecolor\":\"#2a3f5f\"},\"baxis\":{\"endlinecolor\":\"#2a3f5f\",\"gridcolor\":\"white\",\"linecolor\":\"white\",\"minorgridcolor\":\"white\",\"startlinecolor\":\"#2a3f5f\"},\"type\":\"carpet\"}],\"choropleth\":[{\"colorbar\":{\"outlinewidth\":0,\"ticks\":\"\"},\"type\":\"choropleth\"}],\"contourcarpet\":[{\"colorbar\":{\"outlinewidth\":0,\"ticks\":\"\"},\"type\":\"contourcarpet\"}],\"contour\":[{\"colorbar\":{\"outlinewidth\":0,\"ticks\":\"\"},\"colorscale\":[[0.0,\"#0d0887\"],[0.1111111111111111,\"#46039f\"],[0.2222222222222222,\"#7201a8\"],[0.3333333333333333,\"#9c179e\"],[0.4444444444444444,\"#bd3786\"],[0.5555555555555556,\"#d8576b\"],[0.6666666666666666,\"#ed7953\"],[0.7777777777777778,\"#fb9f3a\"],[0.8888888888888888,\"#fdca26\"],[1.0,\"#f0f921\"]],\"type\":\"contour\"}],\"heatmapgl\":[{\"colorbar\":{\"outlinewidth\":0,\"ticks\":\"\"},\"colorscale\":[[0.0,\"#0d0887\"],[0.1111111111111111,\"#46039f\"],[0.2222222222222222,\"#7201a8\"],[0.3333333333333333,\"#9c179e\"],[0.4444444444444444,\"#bd3786\"],[0.5555555555555556,\"#d8576b\"],[0.6666666666666666,\"#ed7953\"],[0.7777777777777778,\"#fb9f3a\"],[0.8888888888888888,\"#fdca26\"],[1.0,\"#f0f921\"]],\"type\":\"heatmapgl\"}],\"heatmap\":[{\"colorbar\":{\"outlinewidth\":0,\"ticks\":\"\"},\"colorscale\":[[0.0,\"#0d0887\"],[0.1111111111111111,\"#46039f\"],[0.2222222222222222,\"#7201a8\"],[0.3333333333333333,\"#9c179e\"],[0.4444444444444444,\"#bd3786\"],[0.5555555555555556,\"#d8576b\"],[0.6666666666666666,\"#ed7953\"],[0.7777777777777778,\"#fb9f3a\"],[0.8888888888888888,\"#fdca26\"],[1.0,\"#f0f921\"]],\"type\":\"heatmap\"}],\"histogram2dcontour\":[{\"colorbar\":{\"outlinewidth\":0,\"ticks\":\"\"},\"colorscale\":[[0.0,\"#0d0887\"],[0.1111111111111111,\"#46039f\"],[0.2222222222222222,\"#7201a8\"],[0.3333333333333333,\"#9c179e\"],[0.4444444444444444,\"#bd3786\"],[0.5555555555555556,\"#d8576b\"],[0.6666666666666666,\"#ed7953\"],[0.7777777777777778,\"#fb9f3a\"],[0.8888888888888888,\"#fdca26\"],[1.0,\"#f0f921\"]],\"type\":\"histogram2dcontour\"}],\"histogram2d\":[{\"colorbar\":{\"outlinewidth\":0,\"ticks\":\"\"},\"colorscale\":[[0.0,\"#0d0887\"],[0.1111111111111111,\"#46039f\"],[0.2222222222222222,\"#7201a8\"],[0.3333333333333333,\"#9c179e\"],[0.4444444444444444,\"#bd3786\"],[0.5555555555555556,\"#d8576b\"],[0.6666666666666666,\"#ed7953\"],[0.7777777777777778,\"#fb9f3a\"],[0.8888888888888888,\"#fdca26\"],[1.0,\"#f0f921\"]],\"type\":\"histogram2d\"}],\"histogram\":[{\"marker\":{\"pattern\":{\"fillmode\":\"overlay\",\"size\":10,\"solidity\":0.2}},\"type\":\"histogram\"}],\"mesh3d\":[{\"colorbar\":{\"outlinewidth\":0,\"ticks\":\"\"},\"type\":\"mesh3d\"}],\"parcoords\":[{\"line\":{\"colorbar\":{\"outlinewidth\":0,\"ticks\":\"\"}},\"type\":\"parcoords\"}],\"pie\":[{\"automargin\":true,\"type\":\"pie\"}],\"scatter3d\":[{\"line\":{\"colorbar\":{\"outlinewidth\":0,\"ticks\":\"\"}},\"marker\":{\"colorbar\":{\"outlinewidth\":0,\"ticks\":\"\"}},\"type\":\"scatter3d\"}],\"scattercarpet\":[{\"marker\":{\"colorbar\":{\"outlinewidth\":0,\"ticks\":\"\"}},\"type\":\"scattercarpet\"}],\"scattergeo\":[{\"marker\":{\"colorbar\":{\"outlinewidth\":0,\"ticks\":\"\"}},\"type\":\"scattergeo\"}],\"scattergl\":[{\"marker\":{\"colorbar\":{\"outlinewidth\":0,\"ticks\":\"\"}},\"type\":\"scattergl\"}],\"scattermapbox\":[{\"marker\":{\"colorbar\":{\"outlinewidth\":0,\"ticks\":\"\"}},\"type\":\"scattermapbox\"}],\"scatterpolargl\":[{\"marker\":{\"colorbar\":{\"outlinewidth\":0,\"ticks\":\"\"}},\"type\":\"scatterpolargl\"}],\"scatterpolar\":[{\"marker\":{\"colorbar\":{\"outlinewidth\":0,\"ticks\":\"\"}},\"type\":\"scatterpolar\"}],\"scatter\":[{\"fillpattern\":{\"fillmode\":\"overlay\",\"size\":10,\"solidity\":0.2},\"type\":\"scatter\"}],\"scatterternary\":[{\"marker\":{\"colorbar\":{\"outlinewidth\":0,\"ticks\":\"\"}},\"type\":\"scatterternary\"}],\"surface\":[{\"colorbar\":{\"outlinewidth\":0,\"ticks\":\"\"},\"colorscale\":[[0.0,\"#0d0887\"],[0.1111111111111111,\"#46039f\"],[0.2222222222222222,\"#7201a8\"],[0.3333333333333333,\"#9c179e\"],[0.4444444444444444,\"#bd3786\"],[0.5555555555555556,\"#d8576b\"],[0.6666666666666666,\"#ed7953\"],[0.7777777777777778,\"#fb9f3a\"],[0.8888888888888888,\"#fdca26\"],[1.0,\"#f0f921\"]],\"type\":\"surface\"}],\"table\":[{\"cells\":{\"fill\":{\"color\":\"#EBF0F8\"},\"line\":{\"color\":\"white\"}},\"header\":{\"fill\":{\"color\":\"#C8D4E3\"},\"line\":{\"color\":\"white\"}},\"type\":\"table\"}]},\"layout\":{\"annotationdefaults\":{\"arrowcolor\":\"#2a3f5f\",\"arrowhead\":0,\"arrowwidth\":1},\"autotypenumbers\":\"strict\",\"coloraxis\":{\"colorbar\":{\"outlinewidth\":0,\"ticks\":\"\"}},\"colorscale\":{\"diverging\":[[0,\"#8e0152\"],[0.1,\"#c51b7d\"],[0.2,\"#de77ae\"],[0.3,\"#f1b6da\"],[0.4,\"#fde0ef\"],[0.5,\"#f7f7f7\"],[0.6,\"#e6f5d0\"],[0.7,\"#b8e186\"],[0.8,\"#7fbc41\"],[0.9,\"#4d9221\"],[1,\"#276419\"]],\"sequential\":[[0.0,\"#0d0887\"],[0.1111111111111111,\"#46039f\"],[0.2222222222222222,\"#7201a8\"],[0.3333333333333333,\"#9c179e\"],[0.4444444444444444,\"#bd3786\"],[0.5555555555555556,\"#d8576b\"],[0.6666666666666666,\"#ed7953\"],[0.7777777777777778,\"#fb9f3a\"],[0.8888888888888888,\"#fdca26\"],[1.0,\"#f0f921\"]],\"sequentialminus\":[[0.0,\"#0d0887\"],[0.1111111111111111,\"#46039f\"],[0.2222222222222222,\"#7201a8\"],[0.3333333333333333,\"#9c179e\"],[0.4444444444444444,\"#bd3786\"],[0.5555555555555556,\"#d8576b\"],[0.6666666666666666,\"#ed7953\"],[0.7777777777777778,\"#fb9f3a\"],[0.8888888888888888,\"#fdca26\"],[1.0,\"#f0f921\"]]},\"colorway\":[\"#636efa\",\"#EF553B\",\"#00cc96\",\"#ab63fa\",\"#FFA15A\",\"#19d3f3\",\"#FF6692\",\"#B6E880\",\"#FF97FF\",\"#FECB52\"],\"font\":{\"color\":\"#2a3f5f\"},\"geo\":{\"bgcolor\":\"white\",\"lakecolor\":\"white\",\"landcolor\":\"#E5ECF6\",\"showlakes\":true,\"showland\":true,\"subunitcolor\":\"white\"},\"hoverlabel\":{\"align\":\"left\"},\"hovermode\":\"closest\",\"mapbox\":{\"style\":\"light\"},\"paper_bgcolor\":\"white\",\"plot_bgcolor\":\"#E5ECF6\",\"polar\":{\"angularaxis\":{\"gridcolor\":\"white\",\"linecolor\":\"white\",\"ticks\":\"\"},\"bgcolor\":\"#E5ECF6\",\"radialaxis\":{\"gridcolor\":\"white\",\"linecolor\":\"white\",\"ticks\":\"\"}},\"scene\":{\"xaxis\":{\"backgroundcolor\":\"#E5ECF6\",\"gridcolor\":\"white\",\"gridwidth\":2,\"linecolor\":\"white\",\"showbackground\":true,\"ticks\":\"\",\"zerolinecolor\":\"white\"},\"yaxis\":{\"backgroundcolor\":\"#E5ECF6\",\"gridcolor\":\"white\",\"gridwidth\":2,\"linecolor\":\"white\",\"showbackground\":true,\"ticks\":\"\",\"zerolinecolor\":\"white\"},\"zaxis\":{\"backgroundcolor\":\"#E5ECF6\",\"gridcolor\":\"white\",\"gridwidth\":2,\"linecolor\":\"white\",\"showbackground\":true,\"ticks\":\"\",\"zerolinecolor\":\"white\"}},\"shapedefaults\":{\"line\":{\"color\":\"#2a3f5f\"}},\"ternary\":{\"aaxis\":{\"gridcolor\":\"white\",\"linecolor\":\"white\",\"ticks\":\"\"},\"baxis\":{\"gridcolor\":\"white\",\"linecolor\":\"white\",\"ticks\":\"\"},\"bgcolor\":\"#E5ECF6\",\"caxis\":{\"gridcolor\":\"white\",\"linecolor\":\"white\",\"ticks\":\"\"}},\"title\":{\"x\":0.05},\"xaxis\":{\"automargin\":true,\"gridcolor\":\"white\",\"linecolor\":\"white\",\"ticks\":\"\",\"title\":{\"standoff\":15},\"zerolinecolor\":\"white\",\"zerolinewidth\":2},\"yaxis\":{\"automargin\":true,\"gridcolor\":\"white\",\"linecolor\":\"white\",\"ticks\":\"\",\"title\":{\"standoff\":15},\"zerolinecolor\":\"white\",\"zerolinewidth\":2}}},\"title\":{\"font\":{\"color\":\"#4D5663\"}},\"xaxis\":{\"gridcolor\":\"#E1E5ED\",\"showgrid\":true,\"tickfont\":{\"color\":\"#4D5663\"},\"title\":{\"font\":{\"color\":\"#4D5663\"},\"text\":\"\"},\"zerolinecolor\":\"#E1E5ED\"},\"yaxis\":{\"gridcolor\":\"#E1E5ED\",\"showgrid\":true,\"tickfont\":{\"color\":\"#4D5663\"},\"title\":{\"font\":{\"color\":\"#4D5663\"},\"text\":\"\"},\"zerolinecolor\":\"#E1E5ED\"}},                        {\"showLink\": true, \"linkText\": \"Export to plot.ly\", \"plotlyServerURL\": \"https://plot.ly\", \"responsive\": true}                    ).then(function(){\n",
       "                            \n",
       "var gd = document.getElementById('fa9d67e4-b30a-4447-8d27-8aa1904575eb');\n",
       "var x = new MutationObserver(function (mutations, observer) {{\n",
       "        var display = window.getComputedStyle(gd).display;\n",
       "        if (!display || display === 'none') {{\n",
       "            console.log([gd, 'removed!']);\n",
       "            Plotly.purge(gd);\n",
       "            observer.disconnect();\n",
       "        }}\n",
       "}});\n",
       "\n",
       "// Listen for the removal of the full notebook cells\n",
       "var notebookContainer = gd.closest('#notebook-container');\n",
       "if (notebookContainer) {{\n",
       "    x.observe(notebookContainer, {childList: true});\n",
       "}}\n",
       "\n",
       "// Listen for the clearing of the current output cell\n",
       "var outputEl = gd.closest('.output');\n",
       "if (outputEl) {{\n",
       "    x.observe(outputEl, {childList: true});\n",
       "}}\n",
       "\n",
       "                        })                };                });            </script>        </div>"
      ]
     },
     "metadata": {},
     "output_type": "display_data"
    }
   ],
   "source": [
    "# Number of times an artist has appeared in the Top 50 in NL\n",
    "top50_NL['artist'].value_counts().head(50).iplot(kind='bar')"
   ]
  },
  {
   "cell_type": "markdown",
   "metadata": {},
   "source": [
    "### Breakdown by Date"
   ]
  },
  {
   "cell_type": "code",
   "execution_count": 14,
   "metadata": {},
   "outputs": [
    {
     "data": {
      "text/html": [
       "<div>\n",
       "<style scoped>\n",
       "    .dataframe tbody tr th:only-of-type {\n",
       "        vertical-align: middle;\n",
       "    }\n",
       "\n",
       "    .dataframe tbody tr th {\n",
       "        vertical-align: top;\n",
       "    }\n",
       "\n",
       "    .dataframe thead th {\n",
       "        text-align: right;\n",
       "    }\n",
       "</style>\n",
       "<table border=\"1\" class=\"dataframe\">\n",
       "  <thead>\n",
       "    <tr style=\"text-align: right;\">\n",
       "      <th></th>\n",
       "      <th>title</th>\n",
       "      <th>rank</th>\n",
       "      <th>date</th>\n",
       "      <th>artist</th>\n",
       "      <th>streams</th>\n",
       "      <th>year</th>\n",
       "      <th>month</th>\n",
       "      <th>year-month</th>\n",
       "    </tr>\n",
       "  </thead>\n",
       "  <tbody>\n",
       "    <tr>\n",
       "      <th>5184</th>\n",
       "      <td>Energie</td>\n",
       "      <td>1</td>\n",
       "      <td>2017-01-01</td>\n",
       "      <td>Ronnie Flex, Frenna</td>\n",
       "      <td>112252.0</td>\n",
       "      <td>2017</td>\n",
       "      <td>1</td>\n",
       "      <td>2017-01</td>\n",
       "    </tr>\n",
       "    <tr>\n",
       "      <th>5185</th>\n",
       "      <td>Rockabye (feat. Sean Paul &amp; Anne-Marie)</td>\n",
       "      <td>2</td>\n",
       "      <td>2017-01-01</td>\n",
       "      <td>Clean Bandit</td>\n",
       "      <td>106984.0</td>\n",
       "      <td>2017</td>\n",
       "      <td>1</td>\n",
       "      <td>2017-01</td>\n",
       "    </tr>\n",
       "  </tbody>\n",
       "</table>\n",
       "</div>"
      ],
      "text/plain": [
       "                                        title  rank       date  \\\n",
       "5184                                  Energie     1 2017-01-01   \n",
       "5185  Rockabye (feat. Sean Paul & Anne-Marie)     2 2017-01-01   \n",
       "\n",
       "                   artist   streams  year  month year-month  \n",
       "5184  Ronnie Flex, Frenna  112252.0  2017      1    2017-01  \n",
       "5185         Clean Bandit  106984.0  2017      1    2017-01  "
      ]
     },
     "execution_count": 14,
     "metadata": {},
     "output_type": "execute_result"
    }
   ],
   "source": [
    "top50_NL['year'] = top50_NL['date'].dt.year\n",
    "top50_NL['month'] = top50_NL['date'].dt.month\n",
    "top50_NL['year-month'] = top50_NL['date'].dt.to_period('m')\n",
    "top50_NL.head(2)"
   ]
  },
  {
   "cell_type": "code",
   "execution_count": 17,
   "metadata": {},
   "outputs": [
    {
     "data": {
      "text/html": [
       "<div>\n",
       "<style scoped>\n",
       "    .dataframe tbody tr th:only-of-type {\n",
       "        vertical-align: middle;\n",
       "    }\n",
       "\n",
       "    .dataframe tbody tr th {\n",
       "        vertical-align: top;\n",
       "    }\n",
       "\n",
       "    .dataframe thead th {\n",
       "        text-align: right;\n",
       "    }\n",
       "</style>\n",
       "<table border=\"1\" class=\"dataframe\">\n",
       "  <thead>\n",
       "    <tr style=\"text-align: right;\">\n",
       "      <th></th>\n",
       "      <th>date</th>\n",
       "      <th>streams</th>\n",
       "      <th>year-month</th>\n",
       "    </tr>\n",
       "  </thead>\n",
       "  <tbody>\n",
       "    <tr>\n",
       "      <th>0</th>\n",
       "      <td>2017-01-01</td>\n",
       "      <td>2423858.0</td>\n",
       "      <td>2017-01</td>\n",
       "    </tr>\n",
       "    <tr>\n",
       "      <th>1</th>\n",
       "      <td>2017-01-02</td>\n",
       "      <td>3386047.0</td>\n",
       "      <td>2017-01</td>\n",
       "    </tr>\n",
       "    <tr>\n",
       "      <th>2</th>\n",
       "      <td>2017-01-03</td>\n",
       "      <td>3457137.0</td>\n",
       "      <td>2017-01</td>\n",
       "    </tr>\n",
       "    <tr>\n",
       "      <th>3</th>\n",
       "      <td>2017-01-04</td>\n",
       "      <td>3574480.0</td>\n",
       "      <td>2017-01</td>\n",
       "    </tr>\n",
       "    <tr>\n",
       "      <th>4</th>\n",
       "      <td>2017-01-05</td>\n",
       "      <td>3636208.0</td>\n",
       "      <td>2017-01</td>\n",
       "    </tr>\n",
       "    <tr>\n",
       "      <th>...</th>\n",
       "      <td>...</td>\n",
       "      <td>...</td>\n",
       "      <td>...</td>\n",
       "    </tr>\n",
       "    <tr>\n",
       "      <th>1785</th>\n",
       "      <td>2021-11-26</td>\n",
       "      <td>6614591.0</td>\n",
       "      <td>2021-11</td>\n",
       "    </tr>\n",
       "    <tr>\n",
       "      <th>1786</th>\n",
       "      <td>2021-11-27</td>\n",
       "      <td>6615004.0</td>\n",
       "      <td>2021-11</td>\n",
       "    </tr>\n",
       "    <tr>\n",
       "      <th>1787</th>\n",
       "      <td>2021-11-28</td>\n",
       "      <td>5369119.0</td>\n",
       "      <td>2021-11</td>\n",
       "    </tr>\n",
       "    <tr>\n",
       "      <th>1788</th>\n",
       "      <td>2021-11-29</td>\n",
       "      <td>5895370.0</td>\n",
       "      <td>2021-11</td>\n",
       "    </tr>\n",
       "    <tr>\n",
       "      <th>1789</th>\n",
       "      <td>2021-11-30</td>\n",
       "      <td>5923573.0</td>\n",
       "      <td>2021-11</td>\n",
       "    </tr>\n",
       "  </tbody>\n",
       "</table>\n",
       "<p>1790 rows × 3 columns</p>\n",
       "</div>"
      ],
      "text/plain": [
       "           date    streams year-month\n",
       "0    2017-01-01  2423858.0    2017-01\n",
       "1    2017-01-02  3386047.0    2017-01\n",
       "2    2017-01-03  3457137.0    2017-01\n",
       "3    2017-01-04  3574480.0    2017-01\n",
       "4    2017-01-05  3636208.0    2017-01\n",
       "...         ...        ...        ...\n",
       "1785 2021-11-26  6614591.0    2021-11\n",
       "1786 2021-11-27  6615004.0    2021-11\n",
       "1787 2021-11-28  5369119.0    2021-11\n",
       "1788 2021-11-29  5895370.0    2021-11\n",
       "1789 2021-11-30  5923573.0    2021-11\n",
       "\n",
       "[1790 rows x 3 columns]"
      ]
     },
     "execution_count": 17,
     "metadata": {},
     "output_type": "execute_result"
    }
   ],
   "source": [
    "month_streams = top50_NL.groupby(top50_NL['date'])[['streams']].sum()\n",
    "month_streams.reset_index(inplace=True)\n",
    "month_streams['year-month'] = month_streams['date'].dt.to_period('m')\n",
    "month_streams"
   ]
  },
  {
   "cell_type": "code",
   "execution_count": 21,
   "metadata": {},
   "outputs": [
    {
     "data": {
      "image/png": "[encoded data removed]",
      "text/plain": [
       "<Figure size 2500x200 with 1 Axes>"
      ]
     },
     "metadata": {},
     "output_type": "display_data"
    }
   ],
   "source": [
    "g = sns.barplot(x=month_streams['year-month'],y=month_streams['streams'])\n",
    "g.set_title('Top50 Songs: Total Number of Streams')\n",
    "g.set_ylabel('Streams [100 Million]')\n",
    "g.set_xlabel('')\n",
    "g.tick_params(axis='x', rotation=90)"
   ]
  },
  {
   "cell_type": "code",
   "execution_count": 26,
   "metadata": {},
   "outputs": [
    {
     "data": {
      "text/html": [
       "<div>\n",
       "<style scoped>\n",
       "    .dataframe tbody tr th:only-of-type {\n",
       "        vertical-align: middle;\n",
       "    }\n",
       "\n",
       "    .dataframe tbody tr th {\n",
       "        vertical-align: top;\n",
       "    }\n",
       "\n",
       "    .dataframe thead th {\n",
       "        text-align: right;\n",
       "    }\n",
       "</style>\n",
       "<table border=\"1\" class=\"dataframe\">\n",
       "  <thead>\n",
       "    <tr style=\"text-align: right;\">\n",
       "      <th></th>\n",
       "      <th>date</th>\n",
       "      <th>streams</th>\n",
       "      <th>year-month</th>\n",
       "      <th>Total_revenue</th>\n",
       "      <th>Artist_revenue</th>\n",
       "      <th>Spotify_revenue</th>\n",
       "    </tr>\n",
       "  </thead>\n",
       "  <tbody>\n",
       "    <tr>\n",
       "      <th>1130</th>\n",
       "      <td>2020-02-09</td>\n",
       "      <td>4820081.0</td>\n",
       "      <td>2020-02</td>\n",
       "      <td>144602.43</td>\n",
       "      <td>43380.73</td>\n",
       "      <td>101221.70</td>\n",
       "    </tr>\n",
       "    <tr>\n",
       "      <th>1307</th>\n",
       "      <td>2020-08-04</td>\n",
       "      <td>5725703.0</td>\n",
       "      <td>2020-08</td>\n",
       "      <td>171771.09</td>\n",
       "      <td>51531.33</td>\n",
       "      <td>120239.76</td>\n",
       "    </tr>\n",
       "  </tbody>\n",
       "</table>\n",
       "</div>"
      ],
      "text/plain": [
       "           date    streams year-month  Total_revenue  Artist_revenue  \\\n",
       "1130 2020-02-09  4820081.0    2020-02      144602.43        43380.73   \n",
       "1307 2020-08-04  5725703.0    2020-08      171771.09        51531.33   \n",
       "\n",
       "      Spotify_revenue  \n",
       "1130        101221.70  \n",
       "1307        120239.76  "
      ]
     },
     "execution_count": 26,
     "metadata": {},
     "output_type": "execute_result"
    }
   ],
   "source": [
    "# On average 10 streams = 0.03 euros\n",
    "month_streams['Total_revenue'] = month_streams['streams']*0.03\n",
    "month_streams['Artist_revenue'] = round(month_streams['Total_revenue']*0.3,2)\n",
    "month_streams['Spotify_revenue'] = round(month_streams['Total_revenue']*0.7,2)\n",
    "month_streams.sample(2)"
   ]
  },
  {
   "cell_type": "code",
   "execution_count": 46,
   "metadata": {},
   "outputs": [
    {
     "data": {
      "text/html": [
       "<div>\n",
       "<style scoped>\n",
       "    .dataframe tbody tr th:only-of-type {\n",
       "        vertical-align: middle;\n",
       "    }\n",
       "\n",
       "    .dataframe tbody tr th {\n",
       "        vertical-align: top;\n",
       "    }\n",
       "\n",
       "    .dataframe thead th {\n",
       "        text-align: right;\n",
       "    }\n",
       "</style>\n",
       "<table border=\"1\" class=\"dataframe\">\n",
       "  <thead>\n",
       "    <tr style=\"text-align: right;\">\n",
       "      <th></th>\n",
       "      <th>date</th>\n",
       "      <th>streams</th>\n",
       "      <th>year-month</th>\n",
       "      <th>Total_revenue</th>\n",
       "      <th>Artist_revenue</th>\n",
       "      <th>Spotify_revenue</th>\n",
       "      <th>year-month2</th>\n",
       "    </tr>\n",
       "  </thead>\n",
       "  <tbody>\n",
       "    <tr>\n",
       "      <th>0</th>\n",
       "      <td>2017-01-01</td>\n",
       "      <td>2423858.0</td>\n",
       "      <td>2017-01</td>\n",
       "      <td>72715.74</td>\n",
       "      <td>21814.72</td>\n",
       "      <td>50901.02</td>\n",
       "      <td>2017-00</td>\n",
       "    </tr>\n",
       "    <tr>\n",
       "      <th>1</th>\n",
       "      <td>2017-01-02</td>\n",
       "      <td>3386047.0</td>\n",
       "      <td>2017-01</td>\n",
       "      <td>101581.41</td>\n",
       "      <td>30474.42</td>\n",
       "      <td>71106.99</td>\n",
       "      <td>2017-00</td>\n",
       "    </tr>\n",
       "  </tbody>\n",
       "</table>\n",
       "</div>"
      ],
      "text/plain": [
       "        date    streams year-month  Total_revenue  Artist_revenue  \\\n",
       "0 2017-01-01  2423858.0    2017-01       72715.74        21814.72   \n",
       "1 2017-01-02  3386047.0    2017-01      101581.41        30474.42   \n",
       "\n",
       "   Spotify_revenue year-month2  \n",
       "0         50901.02     2017-00  \n",
       "1         71106.99     2017-00  "
      ]
     },
     "execution_count": 46,
     "metadata": {},
     "output_type": "execute_result"
    }
   ],
   "source": [
    "month_streams['year-month2'] = month_streams['date'].dt.strftime('%Y-%M') #Nope retry\n",
    "month_streams.head(2)"
   ]
  },
  {
   "cell_type": "code",
   "execution_count": null,
   "metadata": {},
   "outputs": [],
   "source": []
  },
  {
   "cell_type": "code",
   "execution_count": 47,
   "metadata": {},
   "outputs": [],
   "source": [
    "# Total revenue made according to Top 50 songs by artists (30%), and Spotify (70%) [2017-2021]\n",
    "# Heavy assumptions: All artists own all the royalties, based on 2023 earnings calculator)\n",
    "# plt.figure(figsize=(10, 6))\n",
    "\n",
    "# plt.stackplot(month_streams['year-month2'],month_streams['Artist_revenue'])\n"
   ]
  },
  {
   "cell_type": "code",
   "execution_count": null,
   "metadata": {},
   "outputs": [],
   "source": [
    "# Song that was played the most"
   ]
  },
  {
   "cell_type": "markdown",
   "metadata": {},
   "source": [
    "## Top 50 in BeNeLux: Examining the area and comparisons between countries"
   ]
  },
  {
   "cell_type": "code",
   "execution_count": null,
   "metadata": {},
   "outputs": [],
   "source": [
    "top50_benelux = df[(df['chart'] == 'top200') & (df['rank'] <= 50) & \n",
    "              ((df['region'] == 'Netherlands') | (df['region'] == 'Belgium') | (df['region'] == 'Luxembourg'))]"
   ]
  },
  {
   "cell_type": "code",
   "execution_count": null,
   "metadata": {},
   "outputs": [
    {
     "data": {
      "text/plain": [
       "title      0\n",
       "rank       0\n",
       "date       0\n",
       "artist     0\n",
       "region     0\n",
       "chart      0\n",
       "streams    0\n",
       "dtype: int64"
      ]
     },
     "metadata": {},
     "output_type": "display_data"
    }
   ],
   "source": [
    "# Check for missing data\n",
    "top50_benelux.isnull().sum()"
   ]
  },
  {
   "cell_type": "code",
   "execution_count": null,
   "metadata": {},
   "outputs": [
    {
     "name": "stdout",
     "output_type": "stream",
     "text": [
      "<class 'pandas.core.frame.DataFrame'>\n",
      "Int64Index: 187147 entries, 603 to 25262351\n",
      "Data columns (total 7 columns):\n",
      " #   Column   Non-Null Count   Dtype  \n",
      "---  ------   --------------   -----  \n",
      " 0   title    187147 non-null  object \n",
      " 1   rank     187147 non-null  int64  \n",
      " 2   date     187147 non-null  object \n",
      " 3   artist   187147 non-null  object \n",
      " 4   region   187147 non-null  object \n",
      " 5   chart    187147 non-null  object \n",
      " 6   streams  187147 non-null  float64\n",
      "dtypes: float64(1), int64(1), object(5)\n",
      "memory usage: 11.4+ MB\n"
     ]
    }
   ],
   "source": [
    "# Check data types\n",
    "top50_benelux.info()"
   ]
  },
  {
   "cell_type": "code",
   "execution_count": null,
   "metadata": {},
   "outputs": [
    {
     "name": "stderr",
     "output_type": "stream",
     "text": [
      "/tmp/ipykernel_31267/2199489087.py:2: SettingWithCopyWarning: \n",
      "A value is trying to be set on a copy of a slice from a DataFrame.\n",
      "Try using .loc[row_indexer,col_indexer] = value instead\n",
      "\n",
      "See the caveats in the documentation: https://pandas.pydata.org/pandas-docs/stable/user_guide/indexing.html#returning-a-view-versus-a-copy\n",
      "  top50_benelux['date'] = pd.to_datetime(top50_benelux['date'])\n"
     ]
    }
   ],
   "source": [
    "# Convert date into datetime type\n",
    "top50_benelux['date'] = pd.to_datetime(top50_benelux['date'])"
   ]
  },
  {
   "cell_type": "code",
   "execution_count": null,
   "metadata": {},
   "outputs": [
    {
     "data": {
      "text/html": [
       "<div>\n",
       "<style scoped>\n",
       "    .dataframe tbody tr th:only-of-type {\n",
       "        vertical-align: middle;\n",
       "    }\n",
       "\n",
       "    .dataframe tbody tr th {\n",
       "        vertical-align: top;\n",
       "    }\n",
       "\n",
       "    .dataframe thead th {\n",
       "        text-align: right;\n",
       "    }\n",
       "</style>\n",
       "<table border=\"1\" class=\"dataframe\">\n",
       "  <thead>\n",
       "    <tr style=\"text-align: right;\">\n",
       "      <th></th>\n",
       "      <th>title</th>\n",
       "      <th>rank</th>\n",
       "      <th>date</th>\n",
       "      <th>artist</th>\n",
       "      <th>region</th>\n",
       "      <th>chart</th>\n",
       "      <th>streams</th>\n",
       "    </tr>\n",
       "  </thead>\n",
       "  <tbody>\n",
       "    <tr>\n",
       "      <th>1669642</th>\n",
       "      <td>Love Lies (with Normani)</td>\n",
       "      <td>40</td>\n",
       "      <td>2018-06-02</td>\n",
       "      <td>Khalid</td>\n",
       "      <td>Belgium</td>\n",
       "      <td>top200</td>\n",
       "      <td>14239.0</td>\n",
       "    </tr>\n",
       "    <tr>\n",
       "      <th>6984205</th>\n",
       "      <td>SOS (feat. Aloe Blacc)</td>\n",
       "      <td>6</td>\n",
       "      <td>2019-06-21</td>\n",
       "      <td>Avicii</td>\n",
       "      <td>Belgium</td>\n",
       "      <td>top200</td>\n",
       "      <td>38648.0</td>\n",
       "    </tr>\n",
       "    <tr>\n",
       "      <th>11383694</th>\n",
       "      <td>September Song</td>\n",
       "      <td>39</td>\n",
       "      <td>2017-05-08</td>\n",
       "      <td>JP Cooper</td>\n",
       "      <td>Netherlands</td>\n",
       "      <td>top200</td>\n",
       "      <td>67528.0</td>\n",
       "    </tr>\n",
       "    <tr>\n",
       "      <th>18116524</th>\n",
       "      <td>By Your Side (feat. Tom Grennan)</td>\n",
       "      <td>30</td>\n",
       "      <td>2021-07-29</td>\n",
       "      <td>Calvin Harris</td>\n",
       "      <td>Netherlands</td>\n",
       "      <td>top200</td>\n",
       "      <td>79298.0</td>\n",
       "    </tr>\n",
       "    <tr>\n",
       "      <th>11561525</th>\n",
       "      <td>Slow Hands</td>\n",
       "      <td>37</td>\n",
       "      <td>2017-06-12</td>\n",
       "      <td>Niall Horan</td>\n",
       "      <td>Belgium</td>\n",
       "      <td>top200</td>\n",
       "      <td>12763.0</td>\n",
       "    </tr>\n",
       "    <tr>\n",
       "      <th>1522569</th>\n",
       "      <td>Chantaje (feat. Maluma)</td>\n",
       "      <td>26</td>\n",
       "      <td>2017-02-28</td>\n",
       "      <td>Shakira</td>\n",
       "      <td>Netherlands</td>\n",
       "      <td>top200</td>\n",
       "      <td>71266.0</td>\n",
       "    </tr>\n",
       "    <tr>\n",
       "      <th>3442971</th>\n",
       "      <td>Miljonair (feat. SBMG, Lil' Kleine, Boef &amp; Ron...</td>\n",
       "      <td>26</td>\n",
       "      <td>2018-07-30</td>\n",
       "      <td>$hirak, Lil Kleine</td>\n",
       "      <td>Belgium</td>\n",
       "      <td>top200</td>\n",
       "      <td>17098.0</td>\n",
       "    </tr>\n",
       "    <tr>\n",
       "      <th>7888619</th>\n",
       "      <td>Arcade</td>\n",
       "      <td>11</td>\n",
       "      <td>2019-06-30</td>\n",
       "      <td>Duncan Laurence</td>\n",
       "      <td>Netherlands</td>\n",
       "      <td>top200</td>\n",
       "      <td>141183.0</td>\n",
       "    </tr>\n",
       "    <tr>\n",
       "      <th>1925776</th>\n",
       "      <td>Bandolero</td>\n",
       "      <td>39</td>\n",
       "      <td>2018-06-07</td>\n",
       "      <td>Mula B</td>\n",
       "      <td>Netherlands</td>\n",
       "      <td>top200</td>\n",
       "      <td>76570.0</td>\n",
       "    </tr>\n",
       "    <tr>\n",
       "      <th>8883873</th>\n",
       "      <td>Alone, Pt. II</td>\n",
       "      <td>28</td>\n",
       "      <td>2020-02-06</td>\n",
       "      <td>Alan Walker, Ava Max</td>\n",
       "      <td>Belgium</td>\n",
       "      <td>top200</td>\n",
       "      <td>20210.0</td>\n",
       "    </tr>\n",
       "    <tr>\n",
       "      <th>16092310</th>\n",
       "      <td>Breaking Me</td>\n",
       "      <td>13</td>\n",
       "      <td>2020-09-17</td>\n",
       "      <td>Topic, A7S</td>\n",
       "      <td>Belgium</td>\n",
       "      <td>top200</td>\n",
       "      <td>30727.0</td>\n",
       "    </tr>\n",
       "    <tr>\n",
       "      <th>16276370</th>\n",
       "      <td>Wonder</td>\n",
       "      <td>20</td>\n",
       "      <td>2020-10-15</td>\n",
       "      <td>Shawn Mendes</td>\n",
       "      <td>Belgium</td>\n",
       "      <td>top200</td>\n",
       "      <td>21616.0</td>\n",
       "    </tr>\n",
       "    <tr>\n",
       "      <th>10011344</th>\n",
       "      <td>Cold</td>\n",
       "      <td>33</td>\n",
       "      <td>2017-03-07</td>\n",
       "      <td>Maroon 5, Future</td>\n",
       "      <td>Belgium</td>\n",
       "      <td>top200</td>\n",
       "      <td>12649.0</td>\n",
       "    </tr>\n",
       "    <tr>\n",
       "      <th>17987299</th>\n",
       "      <td>Hypnotized</td>\n",
       "      <td>40</td>\n",
       "      <td>2021-05-03</td>\n",
       "      <td>Purple Disco Machine, Sophie and the Giants</td>\n",
       "      <td>Netherlands</td>\n",
       "      <td>top200</td>\n",
       "      <td>72968.0</td>\n",
       "    </tr>\n",
       "    <tr>\n",
       "      <th>5293652</th>\n",
       "      <td>Say My Name</td>\n",
       "      <td>20</td>\n",
       "      <td>2019-01-30</td>\n",
       "      <td>David Guetta, Bebe Rexha, J Balvin</td>\n",
       "      <td>Netherlands</td>\n",
       "      <td>top200</td>\n",
       "      <td>116804.0</td>\n",
       "    </tr>\n",
       "  </tbody>\n",
       "</table>\n",
       "</div>"
      ],
      "text/plain": [
       "                                                      title  rank       date  \\\n",
       "1669642                            Love Lies (with Normani)    40 2018-06-02   \n",
       "6984205                              SOS (feat. Aloe Blacc)     6 2019-06-21   \n",
       "11383694                                     September Song    39 2017-05-08   \n",
       "18116524                   By Your Side (feat. Tom Grennan)    30 2021-07-29   \n",
       "11561525                                         Slow Hands    37 2017-06-12   \n",
       "1522569                             Chantaje (feat. Maluma)    26 2017-02-28   \n",
       "3442971   Miljonair (feat. SBMG, Lil' Kleine, Boef & Ron...    26 2018-07-30   \n",
       "7888619                                              Arcade    11 2019-06-30   \n",
       "1925776                                           Bandolero    39 2018-06-07   \n",
       "8883873                                       Alone, Pt. II    28 2020-02-06   \n",
       "16092310                                        Breaking Me    13 2020-09-17   \n",
       "16276370                                             Wonder    20 2020-10-15   \n",
       "10011344                                               Cold    33 2017-03-07   \n",
       "17987299                                         Hypnotized    40 2021-05-03   \n",
       "5293652                                         Say My Name    20 2019-01-30   \n",
       "\n",
       "                                               artist       region   chart  \\\n",
       "1669642                                        Khalid      Belgium  top200   \n",
       "6984205                                        Avicii      Belgium  top200   \n",
       "11383694                                    JP Cooper  Netherlands  top200   \n",
       "18116524                                Calvin Harris  Netherlands  top200   \n",
       "11561525                                  Niall Horan      Belgium  top200   \n",
       "1522569                                       Shakira  Netherlands  top200   \n",
       "3442971                            $hirak, Lil Kleine      Belgium  top200   \n",
       "7888619                               Duncan Laurence  Netherlands  top200   \n",
       "1925776                                        Mula B  Netherlands  top200   \n",
       "8883873                          Alan Walker, Ava Max      Belgium  top200   \n",
       "16092310                                   Topic, A7S      Belgium  top200   \n",
       "16276370                                 Shawn Mendes      Belgium  top200   \n",
       "10011344                             Maroon 5, Future      Belgium  top200   \n",
       "17987299  Purple Disco Machine, Sophie and the Giants  Netherlands  top200   \n",
       "5293652            David Guetta, Bebe Rexha, J Balvin  Netherlands  top200   \n",
       "\n",
       "           streams  \n",
       "1669642    14239.0  \n",
       "6984205    38648.0  \n",
       "11383694   67528.0  \n",
       "18116524   79298.0  \n",
       "11561525   12763.0  \n",
       "1522569    71266.0  \n",
       "3442971    17098.0  \n",
       "7888619   141183.0  \n",
       "1925776    76570.0  \n",
       "8883873    20210.0  \n",
       "16092310   30727.0  \n",
       "16276370   21616.0  \n",
       "10011344   12649.0  \n",
       "17987299   72968.0  \n",
       "5293652   116804.0  "
      ]
     },
     "metadata": {},
     "output_type": "display_data"
    }
   ],
   "source": [
    "top50_benelux.sample(15)"
   ]
  },
  {
   "cell_type": "code",
   "execution_count": null,
   "metadata": {},
   "outputs": [],
   "source": []
  },
  {
   "cell_type": "code",
   "execution_count": null,
   "metadata": {},
   "outputs": [],
   "source": []
  },
  {
   "cell_type": "code",
   "execution_count": null,
   "metadata": {},
   "outputs": [],
   "source": []
  },
  {
   "cell_type": "code",
   "execution_count": null,
   "metadata": {},
   "outputs": [],
   "source": []
  },
  {
   "cell_type": "code",
   "execution_count": null,
   "metadata": {},
   "outputs": [],
   "source": []
  },
  {
   "cell_type": "code",
   "execution_count": null,
   "metadata": {},
   "outputs": [],
   "source": []
  },
  {
   "cell_type": "code",
   "execution_count": null,
   "metadata": {},
   "outputs": [],
   "source": []
  },
  {
   "cell_type": "code",
   "execution_count": null,
   "metadata": {},
   "outputs": [],
   "source": []
  },
  {
   "cell_type": "code",
   "execution_count": null,
   "metadata": {},
   "outputs": [],
   "source": []
  }
 ],
 "metadata": {
  "kernelspec": {
   "display_name": "lewagon",
   "language": "python",
   "name": "python3"
  },
  "language_info": {
   "codemirror_mode": {
    "name": "ipython",
    "version": 3
   },
   "file_extension": ".py",
   "mimetype": "text/x-python",
   "name": "python",
   "nbconvert_exporter": "python",
   "pygments_lexer": "ipython3",
   "version": "3.10.6"
  },
  "orig_nbformat": 4
 },
 "nbformat": 4,
 "nbformat_minor": 2
}
